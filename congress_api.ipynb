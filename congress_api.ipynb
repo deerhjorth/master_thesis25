{
 "cells": [
  {
   "cell_type": "code",
   "execution_count": 37,
   "metadata": {},
   "outputs": [],
   "source": [
    "import pandas as pd\n",
    "import requests\n",
    "import time\n",
    "import os\n",
    "from tqdm import tqdm  # Progress bar\n",
    "import json"
   ]
  },
  {
   "cell_type": "code",
   "execution_count": 41,
   "metadata": {},
   "outputs": [],
   "source": [
    "# Define API Key\n",
    "API_KEY = \"XdMGVdt2jC9VHVFG2HKdNPg0lBDBSdEepohce1Tt\"\n",
    "\n",
    "# Define input and output files\n",
    "input_file = \"unique_bills_with_congno.csv\"  # The CSV file with bill numbers and congress numbers\n",
    "output_file = \"congress_bill_data.csv\"  # The file where results will be saved\n",
    "\n",
    "# API rate limits\n",
    "# MAX_REQUESTS_PER_HOUR = 5000  # Hard limit from API\n",
    "# REQUEST_DELAY = 0.5  # 750ms to ensure < 5000 requests per hour"
   ]
  },
  {
   "cell_type": "code",
   "execution_count": 42,
   "metadata": {},
   "outputs": [
    {
     "name": "stdout",
     "output_type": "stream",
     "text": [
      "Total bills to process: 21728\n"
     ]
    },
    {
     "data": {
      "text/html": [
       "<div>\n",
       "<style scoped>\n",
       "    .dataframe tbody tr th:only-of-type {\n",
       "        vertical-align: middle;\n",
       "    }\n",
       "\n",
       "    .dataframe tbody tr th {\n",
       "        vertical-align: top;\n",
       "    }\n",
       "\n",
       "    .dataframe thead th {\n",
       "        text-align: right;\n",
       "    }\n",
       "</style>\n",
       "<table border=\"1\" class=\"dataframe\">\n",
       "  <thead>\n",
       "    <tr style=\"text-align: right;\">\n",
       "      <th></th>\n",
       "      <th>Index</th>\n",
       "      <th>Bill_Name</th>\n",
       "      <th>CongNo</th>\n",
       "    </tr>\n",
       "  </thead>\n",
       "  <tbody>\n",
       "    <tr>\n",
       "      <th>0</th>\n",
       "      <td>0</td>\n",
       "      <td>S.926</td>\n",
       "      <td>117</td>\n",
       "    </tr>\n",
       "    <tr>\n",
       "      <th>1</th>\n",
       "      <td>1</td>\n",
       "      <td>H.R.1324</td>\n",
       "      <td>117</td>\n",
       "    </tr>\n",
       "    <tr>\n",
       "      <th>2</th>\n",
       "      <td>2</td>\n",
       "      <td>S.467</td>\n",
       "      <td>117</td>\n",
       "    </tr>\n",
       "    <tr>\n",
       "      <th>3</th>\n",
       "      <td>3</td>\n",
       "      <td>H.R.1667</td>\n",
       "      <td>117</td>\n",
       "    </tr>\n",
       "    <tr>\n",
       "      <th>4</th>\n",
       "      <td>4</td>\n",
       "      <td>S.610</td>\n",
       "      <td>117</td>\n",
       "    </tr>\n",
       "  </tbody>\n",
       "</table>\n",
       "</div>"
      ],
      "text/plain": [
       "   Index Bill_Name  CongNo\n",
       "0      0     S.926     117\n",
       "1      1  H.R.1324     117\n",
       "2      2     S.467     117\n",
       "3      3  H.R.1667     117\n",
       "4      4     S.610     117"
      ]
     },
     "execution_count": 42,
     "metadata": {},
     "output_type": "execute_result"
    }
   ],
   "source": [
    "# Load the CSV file\n",
    "df = pd.read_csv(input_file)\n",
    "print(f\"Total bills to process: {len(df)}\")\n",
    "\n",
    "df.head()"
   ]
  },
  {
   "cell_type": "code",
   "execution_count": 45,
   "metadata": {},
   "outputs": [],
   "source": [
    "'''\n",
    "def get_bill_type_and_number(bill_name):\n",
    "    \"\"\"\n",
    "    Extracts bill type and number manually by splitting at the last period.\n",
    "    Fixes cases like \"H.R.1324\" -> (\"hr\", \"1324\"), \"S.CON.RES.11\" -> (\"sconres\", \"11\").\n",
    "    Ignores amendments like \"S.AMDT.133\" since they are not valid bill types.\n",
    "    \"\"\"\n",
    "    bill_parts = bill_name.rsplit(\".\", 1)  # Split at last period\n",
    "    if len(bill_parts) != 2:\n",
    "        return None, None  # Invalid format\n",
    "\n",
    "    bill_type_map = {\n",
    "        \"H.R\": \"hr\",\n",
    "        \"S\": \"s\",\n",
    "        \"H.J.RES\": \"hjres\",\n",
    "        \"S.J.RES\": \"sjres\",\n",
    "        \"H.CON.RES\": \"hconres\",\n",
    "        \"S.CON.RES\": \"sconres\",\n",
    "        \"H.RES\": \"hres\",\n",
    "        \"H.R.RES\": \"hres\",\n",
    "        \"S.RES\": \"sres\",\n",
    "        \"S.R.RES\": \"sres\"\n",
    "    }\n",
    "\n",
    "    bill_type = bill_parts[0].upper()  # Normalize case\n",
    "    bill_number = bill_parts[1]\n",
    "\n",
    "    # Check if bill type is valid\n",
    "    return bill_type_map.get(bill_type, None), bill_number\n",
    "\n",
    "\n",
    "def fetch_and_save_all_bills(df, filename):\n",
    "    \"\"\"\n",
    "    Fetches bill data for all rows in the DataFrame while respecting API limits.\n",
    "    \"\"\"\n",
    "    results = []\n",
    "\n",
    "    for _, row in tqdm(df.iterrows(), total=len(df), desc=\"Processing Bills\", unit=\"bill\"):\n",
    "        bill_name = row[\"Bill_Name\"]\n",
    "        congress = row[\"CongNo\"]\n",
    "        \n",
    "        # Extract bill type and number correctly\n",
    "        bill_type, bill_number = get_bill_type_and_number(bill_name)\n",
    "        if not bill_type or not bill_number:\n",
    "            print(f\"Skipping invalid bill name: {bill_name}\")\n",
    "            continue  # Skip if extraction fails\n",
    "\n",
    "        # Construct API URL\n",
    "        url = f\"https://api.congress.gov/v3/bill/{congress}/{bill_type}/{bill_number}?api_key={API_KEY}\"\n",
    "        \n",
    "        try:\n",
    "            response = requests.get(url)\n",
    "            response.raise_for_status()\n",
    "            data = response.json().get(\"bill\", {})\n",
    "\n",
    "            # Extract relevant fields\n",
    "            bill_info = {\n",
    "                \"bill_number\": data.get(\"number\"),\n",
    "                \"congress_number\": data.get(\"congress\"),\n",
    "                \"bill_title\": data.get(\"title\"),\n",
    "                \"policy_area\": data.get(\"policyArea\", {}).get(\"name\"),\n",
    "                \"introduced_date\": data.get(\"introducedDate\"),\n",
    "            }\n",
    "\n",
    "            # Process each sponsor as a separate row\n",
    "            sponsors = data.get(\"sponsors\", [])\n",
    "            if not sponsors:  # If no sponsors, add a row with empty sponsor fields\n",
    "                results.append({**bill_info, \"sponsor_name\": None, \"sponsor_party\": None, \"sponsor_bioguide_id\": None})\n",
    "            else:\n",
    "                for sponsor in sponsors:\n",
    "                    results.append({\n",
    "                        **bill_info,\n",
    "                        \"sponsor_name\": sponsor.get(\"fullName\"),\n",
    "                        \"sponsor_party\": sponsor.get(\"party\"),\n",
    "                        \"sponsor_bioguide_id\": sponsor.get(\"bioguideId\")\n",
    "                    })\n",
    "\n",
    "        except requests.exceptions.RequestException as e:\n",
    "            print(f\"Error fetching {bill_name}: {e}\")\n",
    "\n",
    "        # Small delay to stay within API limits\n",
    "        # time.sleep(REQUEST_DELAY)\n",
    "\n",
    "    # Convert to DataFrame\n",
    "    result_df = pd.DataFrame(results)\n",
    "\n",
    "    # Append to CSV or create if it doesn’t exist\n",
    "    if not result_df.empty:\n",
    "        file_exists = os.path.exists(filename)\n",
    "        result_df.to_csv(filename, mode=\"a\", header=not file_exists, index=False)\n",
    "        print(f\"Data saved to {filename}.\")\n",
    "    else:\n",
    "        print(\"No data retrieved.\")\n",
    "        '''"
   ]
  },
  {
   "cell_type": "code",
   "execution_count": 48,
   "metadata": {},
   "outputs": [],
   "source": [
    "def get_bill_type_and_number(bill_name):\n",
    "    \"\"\"\n",
    "    Extracts bill type and number manually by splitting at the last period.\n",
    "    Handles cases like \"H.R.1324\" -> (\"hr\", \"1324\") and amendments \"H.AMDT.133\" -> (\"hamdt\", \"133\").\n",
    "    Uses \"bill\" for regular bills and \"amendment\" for amendments in API calls.\n",
    "    \"\"\"\n",
    "    bill_parts = bill_name.rsplit(\".\", 1)  # Split at last period\n",
    "    if len(bill_parts) != 2:\n",
    "        return None, None, None  # Invalid format\n",
    "\n",
    "    bill_type_map = {\n",
    "        \"H.R\": (\"hr\", \"bill\"),\n",
    "        \"S\": (\"s\", \"bill\"),\n",
    "        \"H.J.RES\": (\"hjres\", \"bill\"),\n",
    "        \"S.J.RES\": (\"sjres\", \"bill\"),\n",
    "        \"H.CON.RES\": (\"hconres\", \"bill\"),\n",
    "        \"S.CON.RES\": (\"sconres\", \"bill\"),\n",
    "        \"H.RES\": (\"hres\", \"bill\"),\n",
    "        \"S.RES\": (\"sres\", \"bill\"),\n",
    "        \"H.R.RES\": (\"hres\", \"bill\"),\n",
    "        \"S.R.RES\": (\"sres\", \"bill\"),\n",
    "        \"H.AMDT\": (\"hamdt\", \"amendment\"),\n",
    "        \"S.AMDT\": (\"samdt\", \"amendment\")\n",
    "    }\n",
    "\n",
    "    bill_type = bill_parts[0].upper()  # Normalize case\n",
    "    bill_number = bill_parts[1]\n",
    "\n",
    "    # Check if bill type is valid\n",
    "    return bill_type_map.get(bill_type, (None, None)) + (bill_name,)"
   ]
  },
  {
   "cell_type": "code",
   "execution_count": 51,
   "metadata": {},
   "outputs": [],
   "source": [
    "def fetch_and_save_all_bills(df, filename):\n",
    "    \"\"\"\n",
    "    Fetches bill and amendment data for all rows in the DataFrame while respecting API limits.\n",
    "    \"\"\"\n",
    "    results = []\n",
    "\n",
    "    for _, row in tqdm(df.iterrows(), total=len(df), desc=\"Processing Bills\", unit=\"bill\"):\n",
    "        bill_name = row[\"Bill_Name\"]\n",
    "        congress = row[\"CongNo\"]\n",
    "        \n",
    "        # Extract bill type, API endpoint type, and full bill name\n",
    "        bill_type, api_type, full_bill_code = get_bill_type_and_number(bill_name)\n",
    "        if not bill_type or not api_type:\n",
    "            print(f\"Skipping invalid bill name: {bill_name}\")\n",
    "            continue  # Skip if extraction fails\n",
    "\n",
    "        # Construct API URL\n",
    "        url = f\"https://api.congress.gov/v3/{api_type}/{congress}/{bill_type}/{bill_name.split('.')[-1]}?api_key={API_KEY}\"\n",
    "        \n",
    "        try:\n",
    "            response = requests.get(url)\n",
    "            response.raise_for_status()\n",
    "            data = response.json().get(api_type, {})  # Extract data from the correct API type\n",
    "\n",
    "            # Extract relevant fields\n",
    "            bill_info = {\n",
    "                \"bill_number\": data.get(\"number\"),\n",
    "                \"congress_number\": data.get(\"congress\"),\n",
    "                \"bill_title\": data.get(\"title\"),\n",
    "                \"policy_area\": data.get(\"policyArea\", {}).get(\"name\"),\n",
    "                \"introduced_date\": data.get(\"introducedDate\"),\n",
    "                \"bill_type\": bill_type,  # hr, s, etc.\n",
    "                \"full_bill_code\": full_bill_code  # H.R.123, S.456, etc.\n",
    "            }\n",
    "\n",
    "            # Process each sponsor as a separate row\n",
    "            sponsors = data.get(\"sponsors\", [])\n",
    "            if not sponsors:  # If no sponsors, add a row with empty sponsor fields\n",
    "                results.append({**bill_info, \"sponsor_name\": None, \"sponsor_party\": None, \"sponsor_bioguide_id\": None})\n",
    "            else:\n",
    "                for sponsor in sponsors:\n",
    "                    results.append({\n",
    "                        \"bill_name\": bill_name,\n",
    "                        **bill_info,\n",
    "                        \"sponsor_name\": sponsor.get(\"fullName\"),\n",
    "                        \"sponsor_party\": sponsor.get(\"party\"),\n",
    "                        \"sponsor_bioguide_id\": sponsor.get(\"bioguideId\")\n",
    "                    })\n",
    "\n",
    "        except requests.exceptions.RequestException as e:\n",
    "            print(f\"Error fetching {bill_name}: {e}\")\n",
    "\n",
    "        # Small delay to stay within API limits\n",
    "        # time.sleep(REQUEST_DELAY)\n",
    "\n",
    "        print(results)\n",
    "\n",
    "    # Convert to DataFrame\n",
    "    result_df = pd.DataFrame(results)\n",
    "\n",
    "    # Append to CSV or create if it doesn’t exist\n",
    "    if not result_df.empty:\n",
    "        file_exists = os.path.exists(filename)\n",
    "        result_df.to_csv(filename, mode=\"a\", header=not file_exists, index=False)\n",
    "        print(f\"Data saved to {filename}.\")\n",
    "    else:\n",
    "        print(\"No data retrieved.\")"
   ]
  },
  {
   "cell_type": "code",
   "execution_count": 52,
   "metadata": {},
   "outputs": [
    {
     "name": "stderr",
     "output_type": "stream",
     "text": [
      "Processing Bills:   0%|          | 1/21728 [00:01<6:22:09,  1.06s/bill]"
     ]
    },
    {
     "name": "stdout",
     "output_type": "stream",
     "text": [
      "[{'bill_name': 'S.926', 'bill_number': '926', 'congress_number': 117, 'bill_title': 'SASCA', 'policy_area': 'Health', 'introduced_date': '2021-03-23', 'bill_type': 's', 'full_bill_code': 'S.926', 'sponsor_name': 'Sen. Murray, Patty [D-WA]', 'sponsor_party': 'D', 'sponsor_bioguide_id': 'M001111'}]\n"
     ]
    },
    {
     "name": "stderr",
     "output_type": "stream",
     "text": [
      "Processing Bills:   0%|          | 2/21728 [00:02<6:02:45,  1.00s/bill]"
     ]
    },
    {
     "name": "stdout",
     "output_type": "stream",
     "text": [
      "[{'bill_name': 'S.926', 'bill_number': '926', 'congress_number': 117, 'bill_title': 'SASCA', 'policy_area': 'Health', 'introduced_date': '2021-03-23', 'bill_type': 's', 'full_bill_code': 'S.926', 'sponsor_name': 'Sen. Murray, Patty [D-WA]', 'sponsor_party': 'D', 'sponsor_bioguide_id': 'M001111'}, {'bill_name': 'H.R.1324', 'bill_number': '1324', 'congress_number': 117, 'bill_title': 'Effective Suicide Screening and Assessment in the Emergency Department Act of 2021', 'policy_area': 'Health', 'introduced_date': '2021-02-25', 'bill_type': 'hr', 'full_bill_code': 'H.R.1324', 'sponsor_name': 'Rep. Bilirakis, Gus M. [R-FL-12]', 'sponsor_party': 'R', 'sponsor_bioguide_id': 'B001257'}]\n"
     ]
    },
    {
     "name": "stderr",
     "output_type": "stream",
     "text": [
      "Processing Bills:   0%|          | 3/21728 [00:02<5:53:38,  1.02bill/s]"
     ]
    },
    {
     "name": "stdout",
     "output_type": "stream",
     "text": [
      "[{'bill_name': 'S.926', 'bill_number': '926', 'congress_number': 117, 'bill_title': 'SASCA', 'policy_area': 'Health', 'introduced_date': '2021-03-23', 'bill_type': 's', 'full_bill_code': 'S.926', 'sponsor_name': 'Sen. Murray, Patty [D-WA]', 'sponsor_party': 'D', 'sponsor_bioguide_id': 'M001111'}, {'bill_name': 'H.R.1324', 'bill_number': '1324', 'congress_number': 117, 'bill_title': 'Effective Suicide Screening and Assessment in the Emergency Department Act of 2021', 'policy_area': 'Health', 'introduced_date': '2021-02-25', 'bill_type': 'hr', 'full_bill_code': 'H.R.1324', 'sponsor_name': 'Rep. Bilirakis, Gus M. [R-FL-12]', 'sponsor_party': 'R', 'sponsor_bioguide_id': 'B001257'}, {'bill_name': 'S.467', 'bill_number': '467', 'congress_number': 117, 'bill_title': 'Effective Suicide Screening and Assessment in the Emergency Department Act of 2021', 'policy_area': 'Health', 'introduced_date': '2021-02-25', 'bill_type': 's', 'full_bill_code': 'S.467', 'sponsor_name': 'Sen. Murkowski, Lisa [R-AK]', 'sponsor_party': 'R', 'sponsor_bioguide_id': 'M001153'}]\n"
     ]
    },
    {
     "name": "stderr",
     "output_type": "stream",
     "text": [
      "Processing Bills:   0%|          | 4/21728 [00:03<5:58:15,  1.01bill/s]"
     ]
    },
    {
     "name": "stdout",
     "output_type": "stream",
     "text": [
      "[{'bill_name': 'S.926', 'bill_number': '926', 'congress_number': 117, 'bill_title': 'SASCA', 'policy_area': 'Health', 'introduced_date': '2021-03-23', 'bill_type': 's', 'full_bill_code': 'S.926', 'sponsor_name': 'Sen. Murray, Patty [D-WA]', 'sponsor_party': 'D', 'sponsor_bioguide_id': 'M001111'}, {'bill_name': 'H.R.1324', 'bill_number': '1324', 'congress_number': 117, 'bill_title': 'Effective Suicide Screening and Assessment in the Emergency Department Act of 2021', 'policy_area': 'Health', 'introduced_date': '2021-02-25', 'bill_type': 'hr', 'full_bill_code': 'H.R.1324', 'sponsor_name': 'Rep. Bilirakis, Gus M. [R-FL-12]', 'sponsor_party': 'R', 'sponsor_bioguide_id': 'B001257'}, {'bill_name': 'S.467', 'bill_number': '467', 'congress_number': 117, 'bill_title': 'Effective Suicide Screening and Assessment in the Emergency Department Act of 2021', 'policy_area': 'Health', 'introduced_date': '2021-02-25', 'bill_type': 's', 'full_bill_code': 'S.467', 'sponsor_name': 'Sen. Murkowski, Lisa [R-AK]', 'sponsor_party': 'R', 'sponsor_bioguide_id': 'M001153'}, {'bill_name': 'H.R.1667', 'bill_number': '1667', 'congress_number': 117, 'bill_title': 'Dr. Lorna Breen Health Care Provider Protection Act', 'policy_area': 'Health', 'introduced_date': '2021-03-08', 'bill_type': 'hr', 'full_bill_code': 'H.R.1667', 'sponsor_name': 'Rep. Wild, Susan [D-PA-7]', 'sponsor_party': 'D', 'sponsor_bioguide_id': 'W000826'}]\n"
     ]
    },
    {
     "name": "stderr",
     "output_type": "stream",
     "text": [
      "Processing Bills:   0%|          | 5/21728 [00:04<5:58:58,  1.01bill/s]"
     ]
    },
    {
     "name": "stdout",
     "output_type": "stream",
     "text": [
      "[{'bill_name': 'S.926', 'bill_number': '926', 'congress_number': 117, 'bill_title': 'SASCA', 'policy_area': 'Health', 'introduced_date': '2021-03-23', 'bill_type': 's', 'full_bill_code': 'S.926', 'sponsor_name': 'Sen. Murray, Patty [D-WA]', 'sponsor_party': 'D', 'sponsor_bioguide_id': 'M001111'}, {'bill_name': 'H.R.1324', 'bill_number': '1324', 'congress_number': 117, 'bill_title': 'Effective Suicide Screening and Assessment in the Emergency Department Act of 2021', 'policy_area': 'Health', 'introduced_date': '2021-02-25', 'bill_type': 'hr', 'full_bill_code': 'H.R.1324', 'sponsor_name': 'Rep. Bilirakis, Gus M. [R-FL-12]', 'sponsor_party': 'R', 'sponsor_bioguide_id': 'B001257'}, {'bill_name': 'S.467', 'bill_number': '467', 'congress_number': 117, 'bill_title': 'Effective Suicide Screening and Assessment in the Emergency Department Act of 2021', 'policy_area': 'Health', 'introduced_date': '2021-02-25', 'bill_type': 's', 'full_bill_code': 'S.467', 'sponsor_name': 'Sen. Murkowski, Lisa [R-AK]', 'sponsor_party': 'R', 'sponsor_bioguide_id': 'M001153'}, {'bill_name': 'H.R.1667', 'bill_number': '1667', 'congress_number': 117, 'bill_title': 'Dr. Lorna Breen Health Care Provider Protection Act', 'policy_area': 'Health', 'introduced_date': '2021-03-08', 'bill_type': 'hr', 'full_bill_code': 'H.R.1667', 'sponsor_name': 'Rep. Wild, Susan [D-PA-7]', 'sponsor_party': 'D', 'sponsor_bioguide_id': 'W000826'}, {'bill_name': 'S.610', 'bill_number': '610', 'congress_number': 117, 'bill_title': 'Protecting Medicare and American Farmers from Sequester Cuts Act', 'policy_area': 'Health', 'introduced_date': '2021-03-04', 'bill_type': 's', 'full_bill_code': 'S.610', 'sponsor_name': 'Sen. Kaine, Tim [D-VA]', 'sponsor_party': 'D', 'sponsor_bioguide_id': 'K000384'}]\n"
     ]
    },
    {
     "name": "stderr",
     "output_type": "stream",
     "text": [
      "Processing Bills:   0%|          | 5/21728 [00:05<6:53:58,  1.14s/bill]\n"
     ]
    },
    {
     "ename": "KeyboardInterrupt",
     "evalue": "",
     "output_type": "error",
     "traceback": [
      "\u001b[0;31m---------------------------------------------------------------------------\u001b[0m",
      "\u001b[0;31mKeyboardInterrupt\u001b[0m                         Traceback (most recent call last)",
      "Cell \u001b[0;32mIn[52], line 1\u001b[0m\n\u001b[0;32m----> 1\u001b[0m \u001b[43mfetch_and_save_all_bills\u001b[49m\u001b[43m(\u001b[49m\u001b[43mdf\u001b[49m\u001b[43m,\u001b[49m\u001b[43m \u001b[49m\u001b[43moutput_file\u001b[49m\u001b[43m)\u001b[49m\n",
      "Cell \u001b[0;32mIn[51], line 21\u001b[0m, in \u001b[0;36mfetch_and_save_all_bills\u001b[0;34m(df, filename)\u001b[0m\n\u001b[1;32m     18\u001b[0m url \u001b[38;5;241m=\u001b[39m \u001b[38;5;124mf\u001b[39m\u001b[38;5;124m\"\u001b[39m\u001b[38;5;124mhttps://api.congress.gov/v3/\u001b[39m\u001b[38;5;132;01m{\u001b[39;00mapi_type\u001b[38;5;132;01m}\u001b[39;00m\u001b[38;5;124m/\u001b[39m\u001b[38;5;132;01m{\u001b[39;00mcongress\u001b[38;5;132;01m}\u001b[39;00m\u001b[38;5;124m/\u001b[39m\u001b[38;5;132;01m{\u001b[39;00mbill_type\u001b[38;5;132;01m}\u001b[39;00m\u001b[38;5;124m/\u001b[39m\u001b[38;5;132;01m{\u001b[39;00mbill_name\u001b[38;5;241m.\u001b[39msplit(\u001b[38;5;124m'\u001b[39m\u001b[38;5;124m.\u001b[39m\u001b[38;5;124m'\u001b[39m)[\u001b[38;5;241m-\u001b[39m\u001b[38;5;241m1\u001b[39m]\u001b[38;5;132;01m}\u001b[39;00m\u001b[38;5;124m?api_key=\u001b[39m\u001b[38;5;132;01m{\u001b[39;00mAPI_KEY\u001b[38;5;132;01m}\u001b[39;00m\u001b[38;5;124m\"\u001b[39m\n\u001b[1;32m     20\u001b[0m \u001b[38;5;28;01mtry\u001b[39;00m:\n\u001b[0;32m---> 21\u001b[0m     response \u001b[38;5;241m=\u001b[39m \u001b[43mrequests\u001b[49m\u001b[38;5;241;43m.\u001b[39;49m\u001b[43mget\u001b[49m\u001b[43m(\u001b[49m\u001b[43murl\u001b[49m\u001b[43m)\u001b[49m\n\u001b[1;32m     22\u001b[0m     response\u001b[38;5;241m.\u001b[39mraise_for_status()\n\u001b[1;32m     23\u001b[0m     data \u001b[38;5;241m=\u001b[39m response\u001b[38;5;241m.\u001b[39mjson()\u001b[38;5;241m.\u001b[39mget(api_type, {})  \u001b[38;5;66;03m# Extract data from the correct API type\u001b[39;00m\n",
      "File \u001b[0;32m~/Library/Python/3.9/lib/python/site-packages/requests/api.py:73\u001b[0m, in \u001b[0;36mget\u001b[0;34m(url, params, **kwargs)\u001b[0m\n\u001b[1;32m     62\u001b[0m \u001b[38;5;28;01mdef\u001b[39;00m \u001b[38;5;21mget\u001b[39m(url, params\u001b[38;5;241m=\u001b[39m\u001b[38;5;28;01mNone\u001b[39;00m, \u001b[38;5;241m*\u001b[39m\u001b[38;5;241m*\u001b[39mkwargs):\n\u001b[1;32m     63\u001b[0m \u001b[38;5;250m    \u001b[39m\u001b[38;5;124mr\u001b[39m\u001b[38;5;124;03m\"\"\"Sends a GET request.\u001b[39;00m\n\u001b[1;32m     64\u001b[0m \n\u001b[1;32m     65\u001b[0m \u001b[38;5;124;03m    :param url: URL for the new :class:`Request` object.\u001b[39;00m\n\u001b[0;32m   (...)\u001b[0m\n\u001b[1;32m     70\u001b[0m \u001b[38;5;124;03m    :rtype: requests.Response\u001b[39;00m\n\u001b[1;32m     71\u001b[0m \u001b[38;5;124;03m    \"\"\"\u001b[39;00m\n\u001b[0;32m---> 73\u001b[0m     \u001b[38;5;28;01mreturn\u001b[39;00m \u001b[43mrequest\u001b[49m\u001b[43m(\u001b[49m\u001b[38;5;124;43m\"\u001b[39;49m\u001b[38;5;124;43mget\u001b[39;49m\u001b[38;5;124;43m\"\u001b[39;49m\u001b[43m,\u001b[49m\u001b[43m \u001b[49m\u001b[43murl\u001b[49m\u001b[43m,\u001b[49m\u001b[43m \u001b[49m\u001b[43mparams\u001b[49m\u001b[38;5;241;43m=\u001b[39;49m\u001b[43mparams\u001b[49m\u001b[43m,\u001b[49m\u001b[43m \u001b[49m\u001b[38;5;241;43m*\u001b[39;49m\u001b[38;5;241;43m*\u001b[39;49m\u001b[43mkwargs\u001b[49m\u001b[43m)\u001b[49m\n",
      "File \u001b[0;32m~/Library/Python/3.9/lib/python/site-packages/requests/api.py:59\u001b[0m, in \u001b[0;36mrequest\u001b[0;34m(method, url, **kwargs)\u001b[0m\n\u001b[1;32m     55\u001b[0m \u001b[38;5;66;03m# By using the 'with' statement we are sure the session is closed, thus we\u001b[39;00m\n\u001b[1;32m     56\u001b[0m \u001b[38;5;66;03m# avoid leaving sockets open which can trigger a ResourceWarning in some\u001b[39;00m\n\u001b[1;32m     57\u001b[0m \u001b[38;5;66;03m# cases, and look like a memory leak in others.\u001b[39;00m\n\u001b[1;32m     58\u001b[0m \u001b[38;5;28;01mwith\u001b[39;00m sessions\u001b[38;5;241m.\u001b[39mSession() \u001b[38;5;28;01mas\u001b[39;00m session:\n\u001b[0;32m---> 59\u001b[0m     \u001b[38;5;28;01mreturn\u001b[39;00m \u001b[43msession\u001b[49m\u001b[38;5;241;43m.\u001b[39;49m\u001b[43mrequest\u001b[49m\u001b[43m(\u001b[49m\u001b[43mmethod\u001b[49m\u001b[38;5;241;43m=\u001b[39;49m\u001b[43mmethod\u001b[49m\u001b[43m,\u001b[49m\u001b[43m \u001b[49m\u001b[43murl\u001b[49m\u001b[38;5;241;43m=\u001b[39;49m\u001b[43murl\u001b[49m\u001b[43m,\u001b[49m\u001b[43m \u001b[49m\u001b[38;5;241;43m*\u001b[39;49m\u001b[38;5;241;43m*\u001b[39;49m\u001b[43mkwargs\u001b[49m\u001b[43m)\u001b[49m\n",
      "File \u001b[0;32m~/Library/Python/3.9/lib/python/site-packages/requests/sessions.py:589\u001b[0m, in \u001b[0;36mSession.request\u001b[0;34m(self, method, url, params, data, headers, cookies, files, auth, timeout, allow_redirects, proxies, hooks, stream, verify, cert, json)\u001b[0m\n\u001b[1;32m    584\u001b[0m send_kwargs \u001b[38;5;241m=\u001b[39m {\n\u001b[1;32m    585\u001b[0m     \u001b[38;5;124m\"\u001b[39m\u001b[38;5;124mtimeout\u001b[39m\u001b[38;5;124m\"\u001b[39m: timeout,\n\u001b[1;32m    586\u001b[0m     \u001b[38;5;124m\"\u001b[39m\u001b[38;5;124mallow_redirects\u001b[39m\u001b[38;5;124m\"\u001b[39m: allow_redirects,\n\u001b[1;32m    587\u001b[0m }\n\u001b[1;32m    588\u001b[0m send_kwargs\u001b[38;5;241m.\u001b[39mupdate(settings)\n\u001b[0;32m--> 589\u001b[0m resp \u001b[38;5;241m=\u001b[39m \u001b[38;5;28;43mself\u001b[39;49m\u001b[38;5;241;43m.\u001b[39;49m\u001b[43msend\u001b[49m\u001b[43m(\u001b[49m\u001b[43mprep\u001b[49m\u001b[43m,\u001b[49m\u001b[43m \u001b[49m\u001b[38;5;241;43m*\u001b[39;49m\u001b[38;5;241;43m*\u001b[39;49m\u001b[43msend_kwargs\u001b[49m\u001b[43m)\u001b[49m\n\u001b[1;32m    591\u001b[0m \u001b[38;5;28;01mreturn\u001b[39;00m resp\n",
      "File \u001b[0;32m~/Library/Python/3.9/lib/python/site-packages/requests/sessions.py:703\u001b[0m, in \u001b[0;36mSession.send\u001b[0;34m(self, request, **kwargs)\u001b[0m\n\u001b[1;32m    700\u001b[0m start \u001b[38;5;241m=\u001b[39m preferred_clock()\n\u001b[1;32m    702\u001b[0m \u001b[38;5;66;03m# Send the request\u001b[39;00m\n\u001b[0;32m--> 703\u001b[0m r \u001b[38;5;241m=\u001b[39m \u001b[43madapter\u001b[49m\u001b[38;5;241;43m.\u001b[39;49m\u001b[43msend\u001b[49m\u001b[43m(\u001b[49m\u001b[43mrequest\u001b[49m\u001b[43m,\u001b[49m\u001b[43m \u001b[49m\u001b[38;5;241;43m*\u001b[39;49m\u001b[38;5;241;43m*\u001b[39;49m\u001b[43mkwargs\u001b[49m\u001b[43m)\u001b[49m\n\u001b[1;32m    705\u001b[0m \u001b[38;5;66;03m# Total elapsed time of the request (approximately)\u001b[39;00m\n\u001b[1;32m    706\u001b[0m elapsed \u001b[38;5;241m=\u001b[39m preferred_clock() \u001b[38;5;241m-\u001b[39m start\n",
      "File \u001b[0;32m~/Library/Python/3.9/lib/python/site-packages/requests/adapters.py:486\u001b[0m, in \u001b[0;36mHTTPAdapter.send\u001b[0;34m(self, request, stream, timeout, verify, cert, proxies)\u001b[0m\n\u001b[1;32m    483\u001b[0m     timeout \u001b[38;5;241m=\u001b[39m TimeoutSauce(connect\u001b[38;5;241m=\u001b[39mtimeout, read\u001b[38;5;241m=\u001b[39mtimeout)\n\u001b[1;32m    485\u001b[0m \u001b[38;5;28;01mtry\u001b[39;00m:\n\u001b[0;32m--> 486\u001b[0m     resp \u001b[38;5;241m=\u001b[39m \u001b[43mconn\u001b[49m\u001b[38;5;241;43m.\u001b[39;49m\u001b[43murlopen\u001b[49m\u001b[43m(\u001b[49m\n\u001b[1;32m    487\u001b[0m \u001b[43m        \u001b[49m\u001b[43mmethod\u001b[49m\u001b[38;5;241;43m=\u001b[39;49m\u001b[43mrequest\u001b[49m\u001b[38;5;241;43m.\u001b[39;49m\u001b[43mmethod\u001b[49m\u001b[43m,\u001b[49m\n\u001b[1;32m    488\u001b[0m \u001b[43m        \u001b[49m\u001b[43murl\u001b[49m\u001b[38;5;241;43m=\u001b[39;49m\u001b[43murl\u001b[49m\u001b[43m,\u001b[49m\n\u001b[1;32m    489\u001b[0m \u001b[43m        \u001b[49m\u001b[43mbody\u001b[49m\u001b[38;5;241;43m=\u001b[39;49m\u001b[43mrequest\u001b[49m\u001b[38;5;241;43m.\u001b[39;49m\u001b[43mbody\u001b[49m\u001b[43m,\u001b[49m\n\u001b[1;32m    490\u001b[0m \u001b[43m        \u001b[49m\u001b[43mheaders\u001b[49m\u001b[38;5;241;43m=\u001b[39;49m\u001b[43mrequest\u001b[49m\u001b[38;5;241;43m.\u001b[39;49m\u001b[43mheaders\u001b[49m\u001b[43m,\u001b[49m\n\u001b[1;32m    491\u001b[0m \u001b[43m        \u001b[49m\u001b[43mredirect\u001b[49m\u001b[38;5;241;43m=\u001b[39;49m\u001b[38;5;28;43;01mFalse\u001b[39;49;00m\u001b[43m,\u001b[49m\n\u001b[1;32m    492\u001b[0m \u001b[43m        \u001b[49m\u001b[43massert_same_host\u001b[49m\u001b[38;5;241;43m=\u001b[39;49m\u001b[38;5;28;43;01mFalse\u001b[39;49;00m\u001b[43m,\u001b[49m\n\u001b[1;32m    493\u001b[0m \u001b[43m        \u001b[49m\u001b[43mpreload_content\u001b[49m\u001b[38;5;241;43m=\u001b[39;49m\u001b[38;5;28;43;01mFalse\u001b[39;49;00m\u001b[43m,\u001b[49m\n\u001b[1;32m    494\u001b[0m \u001b[43m        \u001b[49m\u001b[43mdecode_content\u001b[49m\u001b[38;5;241;43m=\u001b[39;49m\u001b[38;5;28;43;01mFalse\u001b[39;49;00m\u001b[43m,\u001b[49m\n\u001b[1;32m    495\u001b[0m \u001b[43m        \u001b[49m\u001b[43mretries\u001b[49m\u001b[38;5;241;43m=\u001b[39;49m\u001b[38;5;28;43mself\u001b[39;49m\u001b[38;5;241;43m.\u001b[39;49m\u001b[43mmax_retries\u001b[49m\u001b[43m,\u001b[49m\n\u001b[1;32m    496\u001b[0m \u001b[43m        \u001b[49m\u001b[43mtimeout\u001b[49m\u001b[38;5;241;43m=\u001b[39;49m\u001b[43mtimeout\u001b[49m\u001b[43m,\u001b[49m\n\u001b[1;32m    497\u001b[0m \u001b[43m        \u001b[49m\u001b[43mchunked\u001b[49m\u001b[38;5;241;43m=\u001b[39;49m\u001b[43mchunked\u001b[49m\u001b[43m,\u001b[49m\n\u001b[1;32m    498\u001b[0m \u001b[43m    \u001b[49m\u001b[43m)\u001b[49m\n\u001b[1;32m    500\u001b[0m \u001b[38;5;28;01mexcept\u001b[39;00m (ProtocolError, \u001b[38;5;167;01mOSError\u001b[39;00m) \u001b[38;5;28;01mas\u001b[39;00m err:\n\u001b[1;32m    501\u001b[0m     \u001b[38;5;28;01mraise\u001b[39;00m \u001b[38;5;167;01mConnectionError\u001b[39;00m(err, request\u001b[38;5;241m=\u001b[39mrequest)\n",
      "File \u001b[0;32m~/Library/Python/3.9/lib/python/site-packages/urllib3/connectionpool.py:793\u001b[0m, in \u001b[0;36mHTTPConnectionPool.urlopen\u001b[0;34m(self, method, url, body, headers, retries, redirect, assert_same_host, timeout, pool_timeout, release_conn, chunked, body_pos, preload_content, decode_content, **response_kw)\u001b[0m\n\u001b[1;32m    790\u001b[0m response_conn \u001b[38;5;241m=\u001b[39m conn \u001b[38;5;28;01mif\u001b[39;00m \u001b[38;5;129;01mnot\u001b[39;00m release_conn \u001b[38;5;28;01melse\u001b[39;00m \u001b[38;5;28;01mNone\u001b[39;00m\n\u001b[1;32m    792\u001b[0m \u001b[38;5;66;03m# Make the request on the HTTPConnection object\u001b[39;00m\n\u001b[0;32m--> 793\u001b[0m response \u001b[38;5;241m=\u001b[39m \u001b[38;5;28;43mself\u001b[39;49m\u001b[38;5;241;43m.\u001b[39;49m\u001b[43m_make_request\u001b[49m\u001b[43m(\u001b[49m\n\u001b[1;32m    794\u001b[0m \u001b[43m    \u001b[49m\u001b[43mconn\u001b[49m\u001b[43m,\u001b[49m\n\u001b[1;32m    795\u001b[0m \u001b[43m    \u001b[49m\u001b[43mmethod\u001b[49m\u001b[43m,\u001b[49m\n\u001b[1;32m    796\u001b[0m \u001b[43m    \u001b[49m\u001b[43murl\u001b[49m\u001b[43m,\u001b[49m\n\u001b[1;32m    797\u001b[0m \u001b[43m    \u001b[49m\u001b[43mtimeout\u001b[49m\u001b[38;5;241;43m=\u001b[39;49m\u001b[43mtimeout_obj\u001b[49m\u001b[43m,\u001b[49m\n\u001b[1;32m    798\u001b[0m \u001b[43m    \u001b[49m\u001b[43mbody\u001b[49m\u001b[38;5;241;43m=\u001b[39;49m\u001b[43mbody\u001b[49m\u001b[43m,\u001b[49m\n\u001b[1;32m    799\u001b[0m \u001b[43m    \u001b[49m\u001b[43mheaders\u001b[49m\u001b[38;5;241;43m=\u001b[39;49m\u001b[43mheaders\u001b[49m\u001b[43m,\u001b[49m\n\u001b[1;32m    800\u001b[0m \u001b[43m    \u001b[49m\u001b[43mchunked\u001b[49m\u001b[38;5;241;43m=\u001b[39;49m\u001b[43mchunked\u001b[49m\u001b[43m,\u001b[49m\n\u001b[1;32m    801\u001b[0m \u001b[43m    \u001b[49m\u001b[43mretries\u001b[49m\u001b[38;5;241;43m=\u001b[39;49m\u001b[43mretries\u001b[49m\u001b[43m,\u001b[49m\n\u001b[1;32m    802\u001b[0m \u001b[43m    \u001b[49m\u001b[43mresponse_conn\u001b[49m\u001b[38;5;241;43m=\u001b[39;49m\u001b[43mresponse_conn\u001b[49m\u001b[43m,\u001b[49m\n\u001b[1;32m    803\u001b[0m \u001b[43m    \u001b[49m\u001b[43mpreload_content\u001b[49m\u001b[38;5;241;43m=\u001b[39;49m\u001b[43mpreload_content\u001b[49m\u001b[43m,\u001b[49m\n\u001b[1;32m    804\u001b[0m \u001b[43m    \u001b[49m\u001b[43mdecode_content\u001b[49m\u001b[38;5;241;43m=\u001b[39;49m\u001b[43mdecode_content\u001b[49m\u001b[43m,\u001b[49m\n\u001b[1;32m    805\u001b[0m \u001b[43m    \u001b[49m\u001b[38;5;241;43m*\u001b[39;49m\u001b[38;5;241;43m*\u001b[39;49m\u001b[43mresponse_kw\u001b[49m\u001b[43m,\u001b[49m\n\u001b[1;32m    806\u001b[0m \u001b[43m\u001b[49m\u001b[43m)\u001b[49m\n\u001b[1;32m    808\u001b[0m \u001b[38;5;66;03m# Everything went great!\u001b[39;00m\n\u001b[1;32m    809\u001b[0m clean_exit \u001b[38;5;241m=\u001b[39m \u001b[38;5;28;01mTrue\u001b[39;00m\n",
      "File \u001b[0;32m~/Library/Python/3.9/lib/python/site-packages/urllib3/connectionpool.py:537\u001b[0m, in \u001b[0;36mHTTPConnectionPool._make_request\u001b[0;34m(self, conn, method, url, body, headers, retries, timeout, chunked, response_conn, preload_content, decode_content, enforce_content_length)\u001b[0m\n\u001b[1;32m    535\u001b[0m \u001b[38;5;66;03m# Receive the response from the server\u001b[39;00m\n\u001b[1;32m    536\u001b[0m \u001b[38;5;28;01mtry\u001b[39;00m:\n\u001b[0;32m--> 537\u001b[0m     response \u001b[38;5;241m=\u001b[39m \u001b[43mconn\u001b[49m\u001b[38;5;241;43m.\u001b[39;49m\u001b[43mgetresponse\u001b[49m\u001b[43m(\u001b[49m\u001b[43m)\u001b[49m\n\u001b[1;32m    538\u001b[0m \u001b[38;5;28;01mexcept\u001b[39;00m (BaseSSLError, \u001b[38;5;167;01mOSError\u001b[39;00m) \u001b[38;5;28;01mas\u001b[39;00m e:\n\u001b[1;32m    539\u001b[0m     \u001b[38;5;28mself\u001b[39m\u001b[38;5;241m.\u001b[39m_raise_timeout(err\u001b[38;5;241m=\u001b[39me, url\u001b[38;5;241m=\u001b[39murl, timeout_value\u001b[38;5;241m=\u001b[39mread_timeout)\n",
      "File \u001b[0;32m~/Library/Python/3.9/lib/python/site-packages/urllib3/connection.py:466\u001b[0m, in \u001b[0;36mHTTPConnection.getresponse\u001b[0;34m(self)\u001b[0m\n\u001b[1;32m    463\u001b[0m \u001b[38;5;28;01mfrom\u001b[39;00m \u001b[38;5;21;01m.\u001b[39;00m\u001b[38;5;21;01mresponse\u001b[39;00m \u001b[38;5;28;01mimport\u001b[39;00m HTTPResponse\n\u001b[1;32m    465\u001b[0m \u001b[38;5;66;03m# Get the response from http.client.HTTPConnection\u001b[39;00m\n\u001b[0;32m--> 466\u001b[0m httplib_response \u001b[38;5;241m=\u001b[39m \u001b[38;5;28;43msuper\u001b[39;49m\u001b[43m(\u001b[49m\u001b[43m)\u001b[49m\u001b[38;5;241;43m.\u001b[39;49m\u001b[43mgetresponse\u001b[49m\u001b[43m(\u001b[49m\u001b[43m)\u001b[49m\n\u001b[1;32m    468\u001b[0m \u001b[38;5;28;01mtry\u001b[39;00m:\n\u001b[1;32m    469\u001b[0m     assert_header_parsing(httplib_response\u001b[38;5;241m.\u001b[39mmsg)\n",
      "File \u001b[0;32m/Library/Developer/CommandLineTools/Library/Frameworks/Python3.framework/Versions/3.9/lib/python3.9/http/client.py:1349\u001b[0m, in \u001b[0;36mHTTPConnection.getresponse\u001b[0;34m(self)\u001b[0m\n\u001b[1;32m   1347\u001b[0m \u001b[38;5;28;01mtry\u001b[39;00m:\n\u001b[1;32m   1348\u001b[0m     \u001b[38;5;28;01mtry\u001b[39;00m:\n\u001b[0;32m-> 1349\u001b[0m         \u001b[43mresponse\u001b[49m\u001b[38;5;241;43m.\u001b[39;49m\u001b[43mbegin\u001b[49m\u001b[43m(\u001b[49m\u001b[43m)\u001b[49m\n\u001b[1;32m   1350\u001b[0m     \u001b[38;5;28;01mexcept\u001b[39;00m \u001b[38;5;167;01mConnectionError\u001b[39;00m:\n\u001b[1;32m   1351\u001b[0m         \u001b[38;5;28mself\u001b[39m\u001b[38;5;241m.\u001b[39mclose()\n",
      "File \u001b[0;32m/Library/Developer/CommandLineTools/Library/Frameworks/Python3.framework/Versions/3.9/lib/python3.9/http/client.py:316\u001b[0m, in \u001b[0;36mHTTPResponse.begin\u001b[0;34m(self)\u001b[0m\n\u001b[1;32m    314\u001b[0m \u001b[38;5;66;03m# read until we get a non-100 response\u001b[39;00m\n\u001b[1;32m    315\u001b[0m \u001b[38;5;28;01mwhile\u001b[39;00m \u001b[38;5;28;01mTrue\u001b[39;00m:\n\u001b[0;32m--> 316\u001b[0m     version, status, reason \u001b[38;5;241m=\u001b[39m \u001b[38;5;28;43mself\u001b[39;49m\u001b[38;5;241;43m.\u001b[39;49m\u001b[43m_read_status\u001b[49m\u001b[43m(\u001b[49m\u001b[43m)\u001b[49m\n\u001b[1;32m    317\u001b[0m     \u001b[38;5;28;01mif\u001b[39;00m status \u001b[38;5;241m!=\u001b[39m CONTINUE:\n\u001b[1;32m    318\u001b[0m         \u001b[38;5;28;01mbreak\u001b[39;00m\n",
      "File \u001b[0;32m/Library/Developer/CommandLineTools/Library/Frameworks/Python3.framework/Versions/3.9/lib/python3.9/http/client.py:277\u001b[0m, in \u001b[0;36mHTTPResponse._read_status\u001b[0;34m(self)\u001b[0m\n\u001b[1;32m    276\u001b[0m \u001b[38;5;28;01mdef\u001b[39;00m \u001b[38;5;21m_read_status\u001b[39m(\u001b[38;5;28mself\u001b[39m):\n\u001b[0;32m--> 277\u001b[0m     line \u001b[38;5;241m=\u001b[39m \u001b[38;5;28mstr\u001b[39m(\u001b[38;5;28;43mself\u001b[39;49m\u001b[38;5;241;43m.\u001b[39;49m\u001b[43mfp\u001b[49m\u001b[38;5;241;43m.\u001b[39;49m\u001b[43mreadline\u001b[49m\u001b[43m(\u001b[49m\u001b[43m_MAXLINE\u001b[49m\u001b[43m \u001b[49m\u001b[38;5;241;43m+\u001b[39;49m\u001b[43m \u001b[49m\u001b[38;5;241;43m1\u001b[39;49m\u001b[43m)\u001b[49m, \u001b[38;5;124m\"\u001b[39m\u001b[38;5;124miso-8859-1\u001b[39m\u001b[38;5;124m\"\u001b[39m)\n\u001b[1;32m    278\u001b[0m     \u001b[38;5;28;01mif\u001b[39;00m \u001b[38;5;28mlen\u001b[39m(line) \u001b[38;5;241m>\u001b[39m _MAXLINE:\n\u001b[1;32m    279\u001b[0m         \u001b[38;5;28;01mraise\u001b[39;00m LineTooLong(\u001b[38;5;124m\"\u001b[39m\u001b[38;5;124mstatus line\u001b[39m\u001b[38;5;124m\"\u001b[39m)\n",
      "File \u001b[0;32m/Library/Developer/CommandLineTools/Library/Frameworks/Python3.framework/Versions/3.9/lib/python3.9/socket.py:704\u001b[0m, in \u001b[0;36mSocketIO.readinto\u001b[0;34m(self, b)\u001b[0m\n\u001b[1;32m    702\u001b[0m \u001b[38;5;28;01mwhile\u001b[39;00m \u001b[38;5;28;01mTrue\u001b[39;00m:\n\u001b[1;32m    703\u001b[0m     \u001b[38;5;28;01mtry\u001b[39;00m:\n\u001b[0;32m--> 704\u001b[0m         \u001b[38;5;28;01mreturn\u001b[39;00m \u001b[38;5;28;43mself\u001b[39;49m\u001b[38;5;241;43m.\u001b[39;49m\u001b[43m_sock\u001b[49m\u001b[38;5;241;43m.\u001b[39;49m\u001b[43mrecv_into\u001b[49m\u001b[43m(\u001b[49m\u001b[43mb\u001b[49m\u001b[43m)\u001b[49m\n\u001b[1;32m    705\u001b[0m     \u001b[38;5;28;01mexcept\u001b[39;00m timeout:\n\u001b[1;32m    706\u001b[0m         \u001b[38;5;28mself\u001b[39m\u001b[38;5;241m.\u001b[39m_timeout_occurred \u001b[38;5;241m=\u001b[39m \u001b[38;5;28;01mTrue\u001b[39;00m\n",
      "File \u001b[0;32m/Library/Developer/CommandLineTools/Library/Frameworks/Python3.framework/Versions/3.9/lib/python3.9/ssl.py:1241\u001b[0m, in \u001b[0;36mSSLSocket.recv_into\u001b[0;34m(self, buffer, nbytes, flags)\u001b[0m\n\u001b[1;32m   1237\u001b[0m     \u001b[38;5;28;01mif\u001b[39;00m flags \u001b[38;5;241m!=\u001b[39m \u001b[38;5;241m0\u001b[39m:\n\u001b[1;32m   1238\u001b[0m         \u001b[38;5;28;01mraise\u001b[39;00m \u001b[38;5;167;01mValueError\u001b[39;00m(\n\u001b[1;32m   1239\u001b[0m           \u001b[38;5;124m\"\u001b[39m\u001b[38;5;124mnon-zero flags not allowed in calls to recv_into() on \u001b[39m\u001b[38;5;132;01m%s\u001b[39;00m\u001b[38;5;124m\"\u001b[39m \u001b[38;5;241m%\u001b[39m\n\u001b[1;32m   1240\u001b[0m           \u001b[38;5;28mself\u001b[39m\u001b[38;5;241m.\u001b[39m\u001b[38;5;18m__class__\u001b[39m)\n\u001b[0;32m-> 1241\u001b[0m     \u001b[38;5;28;01mreturn\u001b[39;00m \u001b[38;5;28;43mself\u001b[39;49m\u001b[38;5;241;43m.\u001b[39;49m\u001b[43mread\u001b[49m\u001b[43m(\u001b[49m\u001b[43mnbytes\u001b[49m\u001b[43m,\u001b[49m\u001b[43m \u001b[49m\u001b[43mbuffer\u001b[49m\u001b[43m)\u001b[49m\n\u001b[1;32m   1242\u001b[0m \u001b[38;5;28;01melse\u001b[39;00m:\n\u001b[1;32m   1243\u001b[0m     \u001b[38;5;28;01mreturn\u001b[39;00m \u001b[38;5;28msuper\u001b[39m()\u001b[38;5;241m.\u001b[39mrecv_into(buffer, nbytes, flags)\n",
      "File \u001b[0;32m/Library/Developer/CommandLineTools/Library/Frameworks/Python3.framework/Versions/3.9/lib/python3.9/ssl.py:1099\u001b[0m, in \u001b[0;36mSSLSocket.read\u001b[0;34m(self, len, buffer)\u001b[0m\n\u001b[1;32m   1097\u001b[0m \u001b[38;5;28;01mtry\u001b[39;00m:\n\u001b[1;32m   1098\u001b[0m     \u001b[38;5;28;01mif\u001b[39;00m buffer \u001b[38;5;129;01mis\u001b[39;00m \u001b[38;5;129;01mnot\u001b[39;00m \u001b[38;5;28;01mNone\u001b[39;00m:\n\u001b[0;32m-> 1099\u001b[0m         \u001b[38;5;28;01mreturn\u001b[39;00m \u001b[38;5;28;43mself\u001b[39;49m\u001b[38;5;241;43m.\u001b[39;49m\u001b[43m_sslobj\u001b[49m\u001b[38;5;241;43m.\u001b[39;49m\u001b[43mread\u001b[49m\u001b[43m(\u001b[49m\u001b[38;5;28;43mlen\u001b[39;49m\u001b[43m,\u001b[49m\u001b[43m \u001b[49m\u001b[43mbuffer\u001b[49m\u001b[43m)\u001b[49m\n\u001b[1;32m   1100\u001b[0m     \u001b[38;5;28;01melse\u001b[39;00m:\n\u001b[1;32m   1101\u001b[0m         \u001b[38;5;28;01mreturn\u001b[39;00m \u001b[38;5;28mself\u001b[39m\u001b[38;5;241m.\u001b[39m_sslobj\u001b[38;5;241m.\u001b[39mread(\u001b[38;5;28mlen\u001b[39m)\n",
      "\u001b[0;31mKeyboardInterrupt\u001b[0m: "
     ]
    }
   ],
   "source": [
    "fetch_and_save_all_bills(df, output_file)"
   ]
  },
  {
   "cell_type": "code",
   "execution_count": null,
   "metadata": {},
   "outputs": [],
   "source": []
  }
 ],
 "metadata": {
  "kernelspec": {
   "display_name": "Python 3",
   "language": "python",
   "name": "python3"
  },
  "language_info": {
   "codemirror_mode": {
    "name": "ipython",
    "version": 3
   },
   "file_extension": ".py",
   "mimetype": "text/x-python",
   "name": "python",
   "nbconvert_exporter": "python",
   "pygments_lexer": "ipython3",
   "version": "3.9.6"
  }
 },
 "nbformat": 4,
 "nbformat_minor": 2
}
