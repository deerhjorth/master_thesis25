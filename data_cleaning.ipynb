{
 "cells": [
  {
   "cell_type": "code",
   "execution_count": 54,
   "metadata": {},
   "outputs": [
    {
     "name": "stdout",
     "output_type": "stream",
     "text": [
      "Defaulting to user installation because normal site-packages is not writeable\n",
      "Requirement already satisfied: pandas in /Users/kristianmadslangrud/Library/Python/3.9/lib/python/site-packages (from -r requirements.txt (line 1)) (2.2.2)\n",
      "Requirement already satisfied: numpy in /Users/kristianmadslangrud/Library/Python/3.9/lib/python/site-packages (from -r requirements.txt (line 2)) (1.26.4)\n",
      "Requirement already satisfied: matplotlib in /Users/kristianmadslangrud/Library/Python/3.9/lib/python/site-packages (from -r requirements.txt (line 3)) (3.8.4)\n",
      "Requirement already satisfied: requests in /Users/kristianmadslangrud/Library/Python/3.9/lib/python/site-packages (from -r requirements.txt (line 4)) (2.31.0)\n",
      "Requirement already satisfied: gdown in /Users/kristianmadslangrud/Library/Python/3.9/lib/python/site-packages (from -r requirements.txt (line 5)) (5.2.0)\n",
      "\u001b[31mERROR: Could not find a version that satisfies the requirement os (from versions: none)\u001b[0m\u001b[31m\n",
      "\u001b[0m\n",
      "\u001b[1m[\u001b[0m\u001b[34;49mnotice\u001b[0m\u001b[1;39;49m]\u001b[0m\u001b[39;49m A new release of pip is available: \u001b[0m\u001b[31;49m24.3.1\u001b[0m\u001b[39;49m -> \u001b[0m\u001b[32;49m25.0.1\u001b[0m\n",
      "\u001b[1m[\u001b[0m\u001b[34;49mnotice\u001b[0m\u001b[1;39;49m]\u001b[0m\u001b[39;49m To update, run: \u001b[0m\u001b[32;49m/Library/Developer/CommandLineTools/usr/bin/python3 -m pip install --upgrade pip\u001b[0m\n",
      "\u001b[31mERROR: No matching distribution found for os\u001b[0m\u001b[31m\n",
      "\u001b[0m"
     ]
    }
   ],
   "source": [
    "# If necessary, install packages\n",
    "!pip install -r requirements.txt"
   ]
  },
  {
   "cell_type": "code",
   "execution_count": 3,
   "metadata": {},
   "outputs": [
    {
     "name": "stdout",
     "output_type": "stream",
     "text": [
      "Defaulting to user installation because normal site-packages is not writeable\n",
      "Requirement already satisfied: gdown in /Users/kristianmadslangrud/Library/Python/3.9/lib/python/site-packages (5.2.0)\n",
      "Requirement already satisfied: beautifulsoup4 in /Users/kristianmadslangrud/Library/Python/3.9/lib/python/site-packages (from gdown) (4.13.3)\n",
      "Requirement already satisfied: filelock in /Users/kristianmadslangrud/Library/Python/3.9/lib/python/site-packages (from gdown) (3.14.0)\n",
      "Requirement already satisfied: requests[socks] in /Users/kristianmadslangrud/Library/Python/3.9/lib/python/site-packages (from gdown) (2.31.0)\n",
      "Requirement already satisfied: tqdm in /Users/kristianmadslangrud/Library/Python/3.9/lib/python/site-packages (from gdown) (4.66.4)\n",
      "Requirement already satisfied: soupsieve>1.2 in /Users/kristianmadslangrud/Library/Python/3.9/lib/python/site-packages (from beautifulsoup4->gdown) (2.6)\n",
      "Requirement already satisfied: typing-extensions>=4.0.0 in /Users/kristianmadslangrud/Library/Python/3.9/lib/python/site-packages (from beautifulsoup4->gdown) (4.11.0)\n",
      "Requirement already satisfied: charset-normalizer<4,>=2 in /Users/kristianmadslangrud/Library/Python/3.9/lib/python/site-packages (from requests[socks]->gdown) (3.3.2)\n",
      "Requirement already satisfied: idna<4,>=2.5 in /Users/kristianmadslangrud/Library/Python/3.9/lib/python/site-packages (from requests[socks]->gdown) (3.7)\n",
      "Requirement already satisfied: urllib3<3,>=1.21.1 in /Users/kristianmadslangrud/Library/Python/3.9/lib/python/site-packages (from requests[socks]->gdown) (2.2.1)\n",
      "Requirement already satisfied: certifi>=2017.4.17 in /Users/kristianmadslangrud/Library/Python/3.9/lib/python/site-packages (from requests[socks]->gdown) (2024.2.2)\n",
      "Requirement already satisfied: PySocks!=1.5.7,>=1.5.6 in /Users/kristianmadslangrud/Library/Python/3.9/lib/python/site-packages (from requests[socks]->gdown) (1.7.1)\n",
      "\n",
      "\u001b[1m[\u001b[0m\u001b[34;49mnotice\u001b[0m\u001b[1;39;49m]\u001b[0m\u001b[39;49m A new release of pip is available: \u001b[0m\u001b[31;49m24.3.1\u001b[0m\u001b[39;49m -> \u001b[0m\u001b[32;49m25.0.1\u001b[0m\n",
      "\u001b[1m[\u001b[0m\u001b[34;49mnotice\u001b[0m\u001b[1;39;49m]\u001b[0m\u001b[39;49m To update, run: \u001b[0m\u001b[32;49m/Library/Developer/CommandLineTools/usr/bin/python3 -m pip install --upgrade pip\u001b[0m\n"
     ]
    }
   ],
   "source": [
    "!pip install gdown"
   ]
  },
  {
   "cell_type": "code",
   "execution_count": 4,
   "metadata": {},
   "outputs": [],
   "source": [
    "# no longer in use, as data is no longer stored in the repo - see code below\n",
    "\n",
    "# import pandas as pd\n",
    "\n",
    "# # Importing data as DataFrames\n",
    "# df_lobbying = pd.read_csv('data/lobbying/lob_lobbying.csv', header=None)\n",
    "# df_industry = pd.read_csv('data/lobbying/lob_indus.csv', header=None)\n",
    "# df_agency = pd.read_csv('data/lobbying/lob_agency.csv', header=None)\n",
    "# df_bills = pd.read_csv('data/lobbying/lob_bills.csv', header=None)\n",
    "# #df_issue = pd.read_csv('data/lobbying/lob_issue.csv', header=None)\n",
    "# #df_lobbyist = pd.read_csv('data/lobbying/lob_lobbyist.csv', header=None)\n",
    "\n",
    "# # Applying correct column name. \n",
    "# df_lobbying.columns = ['UniqID','Registrant_Raw','Registrant','IsFirm','Client_raw','Client','UItorg','Amount','Catcode','Source','Self','IncludeNSFS','Use','Ind','Year','Type','Typelong','Type']\n",
    "# df_industry.columns = ['Client','Sub','Total','Year','Catcode']\n",
    "# df_agency.columns = ['UniqID','AgencyID','Agency']\n",
    "# df_bills.columns = ['B_ID', 'SI_ID', 'CongNo', 'Bill_Name']\n",
    "# #df_issue.columns = ['SI_ID','UniqID','IssueID','Issue','SpecificIssue','Year']\n",
    "# #df_lobbyist.columns = ['UniqID','Lobbyist_raw','Lobbyist','LobbyistID','Year','OfficialPosition','CID','Formercongmem']"
   ]
  },
  {
   "cell_type": "code",
   "execution_count": 2,
   "metadata": {},
   "outputs": [],
   "source": [
    "# file IDs and table namesfor lobbying data files from Google Drive\n",
    "\n",
    "lob_rpt = (\"1CIq7XwaFTJmnUKdAvYyh53Et2XSJRX9d\", \"lob_rpt\")\n",
    "lob_lobbyist = (\"1q1ZyLvUhsxsbPLdi_CmrNH0FqLoorr6p\", \"lob_lobbyist\")\n",
    "lob_lobbying = (\"19Jef89spXbkExNpYA-s_e8GRii-0tReu\", \"lob_lobbying\")\n",
    "lob_issue = (\"18-D_vW4dAHJlvFs4ARK4lgx6KdsAXWoq\", \"lob_issue\")\n",
    "lob_indus = (\"1yldZYLcZTLIMQ5Xa-e-ecGgQGFWv5n4A\", \"lob_indus\")\n",
    "lob_bills = (\"1qqQvNXtdhyI8KYcctpVUZ3FoIwvjWaG1\", \"lob_bills\")\n",
    "lob_agency = (\"1CFi0Itpi_qg4X4wicg1FIg8S_FJfvCN0\", \"lob_agency\")\n",
    "CatCodeReference = (\"1vfVA-v-lUMuykF9efl2oDN5DJK2t1PwA\", \"CatCodeReference\")\n",
    "CandidateIds = (\"1k2lhAcuSQbn5z7NN3USPEbX_Rg5VV_Ky\", \"CandidateIds\")\n",
    "congress_bill_data_id = (\"1-MnzV0iZ2FPYiuQgOmggjmXvxGmBzYV8\", \"congress_bill_data\")"
   ]
  },
  {
   "cell_type": "code",
   "execution_count": 4,
   "metadata": {},
   "outputs": [
    {
     "name": "stderr",
     "output_type": "stream",
     "text": [
      "/Users/kristianmadslangrud/Library/Python/3.9/lib/python/site-packages/urllib3/__init__.py:35: NotOpenSSLWarning: urllib3 v2 only supports OpenSSL 1.1.1+, currently the 'ssl' module is compiled with 'LibreSSL 2.8.3'. See: https://github.com/urllib3/urllib3/issues/3020\n",
      "  warnings.warn(\n"
     ]
    }
   ],
   "source": [
    "import pandas as pd\n",
    "import gdown\n",
    "import os\n",
    "\n",
    "def load_csv(table, save_file=False, file_path=None):\n",
    "    \"\"\"\n",
    "    Downloads a large CSV file from Google Drive into a Pandas DataFrame.\n",
    "    \n",
    "    Parameters:\n",
    "        file_info (tuple): A tuple containing the Google Drive file ID and the table name.\n",
    "        save_file (bool): If True, the file is saved. If False, it is deleted after loading.\n",
    "        file_path (str, optional): The directory path where the file should be saved. Defaults to current directory.\n",
    "\n",
    "    Returns:\n",
    "        pd.DataFrame: The loaded Pandas DataFrame.\n",
    "    \"\"\"\n",
    "    file_id, table_name = table\n",
    "    \n",
    "    # Set filename as the table name\n",
    "    temp_file = f\"{table_name}.csv\"\n",
    "    \n",
    "    # If a file path is provided, join it with the filename\n",
    "    if file_path:\n",
    "        temp_file = os.path.join(file_path, temp_file)\n",
    "\n",
    "    # Construct Google Drive download URL\n",
    "    url = f\"https://drive.google.com/uc?export=download&id={file_id}\"\n",
    "\n",
    "    # Download the file\n",
    "    gdown.download(url, temp_file, quiet=False)\n",
    "\n",
    "    # Load the CSV file into a Pandas DataFrame\n",
    "    df = pd.read_csv(temp_file,header=None)\n",
    "\n",
    "    # Remove the file if save_file is False\n",
    "    if not save_file:\n",
    "        os.remove(temp_file)\n",
    "\n",
    "    return df"
   ]
  },
  {
   "cell_type": "code",
   "execution_count": 57,
   "metadata": {},
   "outputs": [
    {
     "name": "stderr",
     "output_type": "stream",
     "text": [
      "Downloading...\n",
      "From: https://drive.google.com/uc?export=download&id=1CIq7XwaFTJmnUKdAvYyh53Et2XSJRX9d\n",
      "To: /Users/kristianmadslangrud/Documents/GitHub/master_thesis25/lob_rpt.csv\n",
      "100%|██████████| 3.29k/3.29k [00:00<00:00, 406kB/s]"
     ]
    },
    {
     "name": "stdout",
     "output_type": "stream",
     "text": [
      "                                  0    1\n",
      "0                   MID-YEAR REPORT    m\n",
      "1                MID-YEAR AMENDMENT   ma\n",
      "2            MID-YEAR (NO ACTIVITY)   mn\n",
      "3  MID-YEAR AMENDMENT (NO ACTIVITY)  man\n",
      "4              MID-YEAR TERMINATION   mt\n"
     ]
    },
    {
     "name": "stderr",
     "output_type": "stream",
     "text": [
      "\n"
     ]
    }
   ],
   "source": [
    "# Example usage:\n",
    "df = load_csv(lob_rpt, save_file=False)  # Specify file_path if needed\n",
    "print(df.head())"
   ]
  },
  {
   "cell_type": "markdown",
   "metadata": {},
   "source": [
    "## Data Cleaning"
   ]
  },
  {
   "cell_type": "code",
   "execution_count": 58,
   "metadata": {},
   "outputs": [],
   "source": [
    "# Creating function to visualize key aspects of each dataframe. \n",
    "def glimpse(df):\n",
    "    print(f'\\nShape of dataframe is: {df.shape}\\n')\n",
    "    print(f'Dataframe has the following columns:\\n{df.columns}\\n')\n",
    "    print(f'Dataframe has the following data types:\\n{df.dtypes}\\n')\n",
    "    print(f'Overview of missing values:\\n{df.isnull().sum()}\\n')\n",
    "    print(f'Missing values as percentage of total:\\n{(df.isnull().sum()/len(df))*100}\\n')\n",
    "    print(f'First 5 Columns:{df.head()}\\n')\n",
    "    print(f'Last 5 Columns:{df.tail()}\\n')"
   ]
  },
  {
   "cell_type": "markdown",
   "metadata": {},
   "source": [
    "### Lobbying Data"
   ]
  },
  {
   "cell_type": "code",
   "execution_count": 59,
   "metadata": {},
   "outputs": [
    {
     "name": "stderr",
     "output_type": "stream",
     "text": [
      "Downloading...\n",
      "From (original): https://drive.google.com/uc?export=download&id=19Jef89spXbkExNpYA-s_e8GRii-0tReu\n",
      "From (redirected): https://drive.google.com/uc?export=download&id=19Jef89spXbkExNpYA-s_e8GRii-0tReu&confirm=t&uuid=43745d74-284d-45b6-9ce7-57234f99ffa9\n",
      "To: /Users/kristianmadslangrud/Documents/GitHub/master_thesis25/lob_lobbying.csv\n",
      "100%|██████████| 351M/351M [00:23<00:00, 14.7MB/s] \n",
      "/var/folders/pg/ghgx2xgn3qb65km4qhtfgzhr0000gn/T/ipykernel_56559/2418707545.py:33: DtypeWarning: Columns (7,11,14,17) have mixed types. Specify dtype option on import or set low_memory=False.\n",
      "  df = pd.read_csv(temp_file,header=None)\n"
     ]
    }
   ],
   "source": [
    "df_lobbying = load_csv(lob_lobbying, save_file = False)\n",
    "df_lobbying.columns = ['UniqID','Registrant_Raw','Registrant','IsLobbyingFirm','Client_raw','Client','UItorg','Amount','Catcode','Source','Self','IncludeNSFS','Use','Ind','Year','Type','Typelong','Affiliate']"
   ]
  },
  {
   "cell_type": "code",
   "execution_count": 60,
   "metadata": {},
   "outputs": [
    {
     "name": "stdout",
     "output_type": "stream",
     "text": [
      "\n",
      "Shape of dataframe is: (1544073, 18)\n",
      "\n",
      "Dataframe has the following columns:\n",
      "Index(['UniqID', 'Registrant_Raw', 'Registrant', 'IsLobbyingFirm',\n",
      "       'Client_raw', 'Client', 'UItorg', 'Amount', 'Catcode', 'Source', 'Self',\n",
      "       'IncludeNSFS', 'Use', 'Ind', 'Year', 'Type', 'Typelong', 'Affiliate'],\n",
      "      dtype='object')\n",
      "\n",
      "Dataframe has the following data types:\n",
      "UniqID            object\n",
      "Registrant_Raw    object\n",
      "Registrant        object\n",
      "IsLobbyingFirm    object\n",
      "Client_raw        object\n",
      "Client            object\n",
      "UItorg            object\n",
      "Amount            object\n",
      "Catcode           object\n",
      "Source            object\n",
      "Self              object\n",
      "IncludeNSFS       object\n",
      "Use               object\n",
      "Ind               object\n",
      "Year              object\n",
      "Type              object\n",
      "Typelong          object\n",
      "Affiliate         object\n",
      "dtype: object\n",
      "\n",
      "Overview of missing values:\n",
      "UniqID                 20\n",
      "Registrant_Raw         49\n",
      "Registrant             58\n",
      "IsLobbyingFirm     229072\n",
      "Client_raw            396\n",
      "Client                 62\n",
      "UItorg                 61\n",
      "Amount                 85\n",
      "Catcode                61\n",
      "Source             102901\n",
      "Self                   66\n",
      "IncludeNSFS       1542535\n",
      "Use                    61\n",
      "Ind                557692\n",
      "Year                   85\n",
      "Type                   85\n",
      "Typelong               90\n",
      "Affiliate         1543242\n",
      "dtype: int64\n",
      "\n",
      "Missing values as percentage of total:\n",
      "UniqID             0.001295\n",
      "Registrant_Raw     0.003173\n",
      "Registrant         0.003756\n",
      "IsLobbyingFirm    14.835568\n",
      "Client_raw         0.025646\n",
      "Client             0.004015\n",
      "UItorg             0.003951\n",
      "Amount             0.005505\n",
      "Catcode            0.003951\n",
      "Source             6.664257\n",
      "Self               0.004274\n",
      "IncludeNSFS       99.900393\n",
      "Use                0.003951\n",
      "Ind               36.118241\n",
      "Year               0.005505\n",
      "Type               0.005505\n",
      "Typelong           0.005829\n",
      "Affiliate         99.946181\n",
      "dtype: float64\n",
      "\n",
      "First 5 Columns:                                 UniqID                        Registrant_Raw  \\\n",
      "0  82c5f661-a637-45ad-a3a6-b5ba18cf8962        ASTRAZENECA PHARMACEUTICALS LP   \n",
      "1  84ad3a9e-5864-4227-a802-e268fbf37237                   DAVID L. HORNE, LLC   \n",
      "2  85b111b1-5d2e-4107-bc24-0921316e29a5            ECHELON GOVERNMENT AFFAIRS   \n",
      "3  87822a14-12de-478c-a34d-010fa503e539  WTA -- ADVOCATES FOR RURAL BROADBAND   \n",
      "4  87ff989d-9d12-4fef-84ef-ab69cd616894    FINANCIAL EXECUTIVES INTERNATIONAL   \n",
      "\n",
      "                            Registrant IsLobbyingFirm  \\\n",
      "0          AstraZeneca Pharmaceuticals            NaN   \n",
      "1                    David L Horne LLC              y   \n",
      "2           Echelon Government Affairs              y   \n",
      "3  Western Telecommunications Alliance            NaN   \n",
      "4   Financial Executives International            NaN   \n",
      "\n",
      "                             Client_raw                               Client  \\\n",
      "0        ASTRAZENECA PHARMACEUTICALS LP          AstraZeneca Pharmaceuticals   \n",
      "1           MULTIFAMILY LENDERS COUNCIL          Multifamily Lenders Council   \n",
      "2                      THE ALBERS GROUP                         Albers Group   \n",
      "3  WTA -- ADVOCATES FOR RURAL BROADBAND  Western Telecommunications Alliance   \n",
      "4    FINANCIAL EXECUTIVES INTERNATIONAL   Financial Executives International   \n",
      "\n",
      "                                UItorg     Amount Catcode Source Self  \\\n",
      "0                      AstraZeneca PLC  1370000.0   H4300    pac    x   \n",
      "1          Multifamily Lenders Council    15000.0   F4600  wda16    n   \n",
      "2                         Albers Group    10000.0   Y4000    NaN    n   \n",
      "3  Western Telecommunications Alliance    75000.0   C4000    pac    p   \n",
      "4   Financial Executives International    21650.0   F5000  Hvr06    p   \n",
      "\n",
      "  IncludeNSFS Use Ind  Year Type                  Typelong Affiliate  \n",
      "0         NaN   y   y  2021  q4a  FOURTH QUARTER AMENDMENT       NaN  \n",
      "1         NaN   y   y  2021   q4     FOURTH QUARTER REPORT       NaN  \n",
      "2         NaN   y   y  2021   q4     FOURTH QUARTER REPORT       NaN  \n",
      "3         NaN   y   y  2021   q4     FOURTH QUARTER REPORT       NaN  \n",
      "4         NaN   y   y  2021   q4     FOURTH QUARTER REPORT       NaN  \n",
      "\n",
      "Last 5 Columns:                                       UniqID             Registrant_Raw  \\\n",
      "1544068  0854dd96-ed91-4219-99d9-b84bf06ee2f8   AMERICAN EXPRESS COMPANY   \n",
      "1544069  086b65ba-0abe-4ed0-a3e9-a66c9ecc96a3     BL PARTNERS GROUP, LLC   \n",
      "1544070  b01b51ba-d426-4750-ad00-0ea3c5aa2317                  VECTIS DC   \n",
      "1544071  b0235c16-0a34-4e06-be62-f42a3bf52d6a     THE NICKLES GROUP, LLC   \n",
      "1544072  b0271501-03a4-4e0e-b6df-aacf34936878  BLUE SHIELD OF CALIFORNIA   \n",
      "\n",
      "                                   Registrant IsLobbyingFirm  \\\n",
      "1544068                      American Express            NaN   \n",
      "1544069                     BL Partners Group              y   \n",
      "1544070                             Vectis DC              y   \n",
      "1544071                         Nickles Group              y   \n",
      "1544072  Blue Cross/Blue Shield of California            NaN   \n",
      "\n",
      "                              Client_raw  \\\n",
      "1544068         AMERICAN EXPRESS COMPANY   \n",
      "1544069  CTIA - THE WIRELESS ASSOCIATION   \n",
      "1544070   CITY OF MONTEBELLO, CALIFORNIA   \n",
      "1544071                      WALMART INC   \n",
      "1544072        BLUE SHIELD OF CALIFORNIA   \n",
      "\n",
      "                                       Client                  UItorg  \\\n",
      "1544068                      American Express        American Express   \n",
      "1544069                                  CTIA                    CTIA   \n",
      "1544070                City of Montebello, CA  City of Montebello, CA   \n",
      "1544071                           Walmart Inc             Walmart Inc   \n",
      "1544072  Blue Cross/Blue Shield of California  Blue Cross/Blue Shield   \n",
      "\n",
      "           Amount Catcode Source Self IncludeNSFS Use  Ind  Year Type  \\\n",
      "1544068  440000.0   F1400    PAC    p         NaN   y    y  2022   q4   \n",
      "1544069   30000.0   C4300    pac    i         NaN   y  NaN  2022   q4   \n",
      "1544070   20000.0   X3000   Name    n         NaN   y    y  2022   q4   \n",
      "1544071   80000.0   G4300    pac    i         NaN   y  NaN  2022   q4   \n",
      "1544072  110000.0   F3200    pac    s         NaN   y    y  2022   q4   \n",
      "\n",
      "                      Typelong Affiliate  \n",
      "1544068  FOURTH QUARTER REPORT       NaN  \n",
      "1544069  FOURTH QUARTER REPORT       NaN  \n",
      "1544070  FOURTH QUARTER REPORT       NaN  \n",
      "1544071  FOURTH QUARTER REPORT       NaN  \n",
      "1544072  FOURTH QUARTER REPORT       NaN  \n",
      "\n"
     ]
    }
   ],
   "source": [
    "glimpse(df_lobbying)"
   ]
  },
  {
   "cell_type": "code",
   "execution_count": 61,
   "metadata": {},
   "outputs": [],
   "source": [
    "#Dropping unecessary columns\n",
    "df_lobbying = df_lobbying.drop(\n",
    "['Registrant_Raw', #Same as Registrant\n",
    " 'Client_raw', # Same as Client\n",
    " 'Source', # Irrelevant to analysis\n",
    " 'Typelong' # Same as Type\n",
    "], axis=1)\n",
    "\n",
    "# Removing all records from lobbying dataframe without an ID\n",
    "df_lobbying = df_lobbying.dropna(subset=['UniqID'])\n",
    "\n",
    "# Capitalizing all inputs in Catcode column\n",
    "df_lobbying['Catcode'] = df_lobbying['Catcode'].str.upper()\n",
    "\n",
    "# Replacing missing values in selected boolean columns with 'n' column with 'n'\n",
    "boolean_columns = ['IsLobbyingFirm','Affiliate','IncludeNSFS','Ind']\n",
    "df_lobbying[boolean_columns] = df_lobbying[boolean_columns].fillna(value='n')\n",
    "\n",
    "# Changing datatype of columns\n",
    "df_lobbying['Amount'] = pd.to_numeric(df_lobbying['Amount'], errors='coerce')\n",
    "df_lobbying = df_lobbying.dropna(subset=['Amount'])\n",
    "df_lobbying['Year'] = df_lobbying['Year'].astype('int')\n",
    "df_lobbying[boolean_columns] = df_lobbying[boolean_columns].apply(lambda col: col.map({'y': True, 'n': False}).astype(bool))\n",
    "\n",
    "# Dropping all lobbying records with Use == n, as these reports have been amendent/updated and a more recent report is avaliable.  \n",
    "df_lobbying = df_lobbying[df_lobbying['Use'] != 'n']\n",
    "df_lobbying = df_lobbying.drop('Use',axis=1)\n",
    "\n",
    "# Only including records after 2011.\n",
    "df_lobbying = df_lobbying[df_lobbying['Year'] >= 2011]\n",
    "df_lobbying = df_lobbying.drop('Affiliate',axis=1) # Dropping the Affiliate column as all records are equal to False after Slicing. \n"
   ]
  },
  {
   "cell_type": "code",
   "execution_count": 63,
   "metadata": {},
   "outputs": [
    {
     "name": "stdout",
     "output_type": "stream",
     "text": [
      "Defaulting to user installation because normal site-packages is not writeable\n",
      "Collecting ace-tools\n",
      "  Downloading ace_tools-0.0-py3-none-any.whl.metadata (300 bytes)\n",
      "Downloading ace_tools-0.0-py3-none-any.whl (1.1 kB)\n",
      "Installing collected packages: ace-tools\n",
      "Successfully installed ace-tools-0.0\n",
      "\n",
      "\u001b[1m[\u001b[0m\u001b[34;49mnotice\u001b[0m\u001b[1;39;49m]\u001b[0m\u001b[39;49m A new release of pip is available: \u001b[0m\u001b[31;49m24.3.1\u001b[0m\u001b[39;49m -> \u001b[0m\u001b[32;49m25.0.1\u001b[0m\n",
      "\u001b[1m[\u001b[0m\u001b[34;49mnotice\u001b[0m\u001b[1;39;49m]\u001b[0m\u001b[39;49m To update, run: \u001b[0m\u001b[32;49m/Library/Developer/CommandLineTools/usr/bin/python3 -m pip install --upgrade pip\u001b[0m\n"
     ]
    }
   ],
   "source": [
    "!pip install ace-tools"
   ]
  },
  {
   "cell_type": "code",
   "execution_count": 76,
   "metadata": {},
   "outputs": [
    {
     "name": "stderr",
     "output_type": "stream",
     "text": [
      "/var/folders/pg/ghgx2xgn3qb65km4qhtfgzhr0000gn/T/ipykernel_56559/4105425718.py:2: SettingWithCopyWarning: \n",
      "A value is trying to be set on a copy of a slice from a DataFrame.\n",
      "Try using .loc[row_indexer,col_indexer] = value instead\n",
      "\n",
      "See the caveats in the documentation: https://pandas.pydata.org/pandas-docs/stable/user_guide/indexing.html#returning-a-view-versus-a-copy\n",
      "  df_lobbying['Quarter'] = 'Q' + df_lobbying['Type'].str.extract(r'(\\d)')[0]\n",
      "/var/folders/pg/ghgx2xgn3qb65km4qhtfgzhr0000gn/T/ipykernel_56559/4105425718.py:5: SettingWithCopyWarning: \n",
      "A value is trying to be set on a copy of a slice from a DataFrame.\n",
      "Try using .loc[row_indexer,col_indexer] = value instead\n",
      "\n",
      "See the caveats in the documentation: https://pandas.pydata.org/pandas-docs/stable/user_guide/indexing.html#returning-a-view-versus-a-copy\n",
      "  df_lobbying['ReportType'] = df_lobbying['Type'].apply(lambda x:\n"
     ]
    },
    {
     "data": {
      "text/html": [
       "<div>\n",
       "<style scoped>\n",
       "    .dataframe tbody tr th:only-of-type {\n",
       "        vertical-align: middle;\n",
       "    }\n",
       "\n",
       "    .dataframe tbody tr th {\n",
       "        vertical-align: top;\n",
       "    }\n",
       "\n",
       "    .dataframe thead th {\n",
       "        text-align: right;\n",
       "    }\n",
       "</style>\n",
       "<table border=\"1\" class=\"dataframe\">\n",
       "  <thead>\n",
       "    <tr style=\"text-align: right;\">\n",
       "      <th></th>\n",
       "      <th>UniqID</th>\n",
       "      <th>Registrant</th>\n",
       "      <th>IsLobbyingFirm</th>\n",
       "      <th>Client</th>\n",
       "      <th>UItorg</th>\n",
       "      <th>Amount</th>\n",
       "      <th>Catcode</th>\n",
       "      <th>Self</th>\n",
       "      <th>IncludeNSFS</th>\n",
       "      <th>Ind</th>\n",
       "      <th>Year</th>\n",
       "      <th>Quarter</th>\n",
       "      <th>ReportType</th>\n",
       "    </tr>\n",
       "  </thead>\n",
       "  <tbody>\n",
       "    <tr>\n",
       "      <th>0</th>\n",
       "      <td>82c5f661-a637-45ad-a3a6-b5ba18cf8962</td>\n",
       "      <td>AstraZeneca Pharmaceuticals</td>\n",
       "      <td>False</td>\n",
       "      <td>AstraZeneca Pharmaceuticals</td>\n",
       "      <td>AstraZeneca PLC</td>\n",
       "      <td>1370000.0</td>\n",
       "      <td>H4300</td>\n",
       "      <td>x</td>\n",
       "      <td>False</td>\n",
       "      <td>True</td>\n",
       "      <td>2021</td>\n",
       "      <td>Q4</td>\n",
       "      <td>Amendment</td>\n",
       "    </tr>\n",
       "    <tr>\n",
       "      <th>4</th>\n",
       "      <td>87ff989d-9d12-4fef-84ef-ab69cd616894</td>\n",
       "      <td>Financial Executives International</td>\n",
       "      <td>False</td>\n",
       "      <td>Financial Executives International</td>\n",
       "      <td>Financial Executives International</td>\n",
       "      <td>21650.0</td>\n",
       "      <td>F5000</td>\n",
       "      <td>p</td>\n",
       "      <td>False</td>\n",
       "      <td>True</td>\n",
       "      <td>2021</td>\n",
       "      <td>Q4</td>\n",
       "      <td>Standard Report</td>\n",
       "    </tr>\n",
       "    <tr>\n",
       "      <th>5</th>\n",
       "      <td>88bac485-00bb-4915-8ca5-8d0ec589ec28</td>\n",
       "      <td>Capitol Hill Consulting Group</td>\n",
       "      <td>True</td>\n",
       "      <td>Association for Accessible Medicines</td>\n",
       "      <td>Association for Accessible Medicines</td>\n",
       "      <td>40000.0</td>\n",
       "      <td>H4300</td>\n",
       "      <td>i</td>\n",
       "      <td>False</td>\n",
       "      <td>False</td>\n",
       "      <td>2021</td>\n",
       "      <td>Q4</td>\n",
       "      <td>Standard Report</td>\n",
       "    </tr>\n",
       "    <tr>\n",
       "      <th>6</th>\n",
       "      <td>8902b3fe-2dde-440a-a60d-c57b1a212ece</td>\n",
       "      <td>Revere Federal Strategies</td>\n",
       "      <td>True</td>\n",
       "      <td>Accion Systems</td>\n",
       "      <td>Accion Systems</td>\n",
       "      <td>12000.0</td>\n",
       "      <td>Y4000</td>\n",
       "      <td>n</td>\n",
       "      <td>False</td>\n",
       "      <td>True</td>\n",
       "      <td>2021</td>\n",
       "      <td>Q4</td>\n",
       "      <td>Standard Report</td>\n",
       "    </tr>\n",
       "    <tr>\n",
       "      <th>8</th>\n",
       "      <td>89ca2bea-03f3-4e46-b005-303c36827bfb</td>\n",
       "      <td>First Principles Strategies</td>\n",
       "      <td>True</td>\n",
       "      <td>Exela Pharma Sciences</td>\n",
       "      <td>Exela Pharma Sciences</td>\n",
       "      <td>20000.0</td>\n",
       "      <td>H4300</td>\n",
       "      <td>n</td>\n",
       "      <td>False</td>\n",
       "      <td>True</td>\n",
       "      <td>2021</td>\n",
       "      <td>Q4</td>\n",
       "      <td>Termination</td>\n",
       "    </tr>\n",
       "    <tr>\n",
       "      <th>...</th>\n",
       "      <td>...</td>\n",
       "      <td>...</td>\n",
       "      <td>...</td>\n",
       "      <td>...</td>\n",
       "      <td>...</td>\n",
       "      <td>...</td>\n",
       "      <td>...</td>\n",
       "      <td>...</td>\n",
       "      <td>...</td>\n",
       "      <td>...</td>\n",
       "      <td>...</td>\n",
       "      <td>...</td>\n",
       "      <td>...</td>\n",
       "    </tr>\n",
       "    <tr>\n",
       "      <th>1544051</th>\n",
       "      <td>8b4e4648-720c-4da2-ba96-ee9e5733e76d</td>\n",
       "      <td>Navigators Global</td>\n",
       "      <td>True</td>\n",
       "      <td>Affordable Equity Partners</td>\n",
       "      <td>Affordable Equity Partners</td>\n",
       "      <td>30000.0</td>\n",
       "      <td>F4700</td>\n",
       "      <td>n</td>\n",
       "      <td>False</td>\n",
       "      <td>True</td>\n",
       "      <td>2022</td>\n",
       "      <td>Q4</td>\n",
       "      <td>Standard Report</td>\n",
       "    </tr>\n",
       "    <tr>\n",
       "      <th>1544057</th>\n",
       "      <td>7043c37e-e454-4c7f-9677-31ae8dff650a</td>\n",
       "      <td>Cozen O'Connor</td>\n",
       "      <td>True</td>\n",
       "      <td>Withum, Smith &amp; Brown</td>\n",
       "      <td>Withum, Smith &amp; Brown</td>\n",
       "      <td>50000.0</td>\n",
       "      <td>F5100</td>\n",
       "      <td>n</td>\n",
       "      <td>False</td>\n",
       "      <td>True</td>\n",
       "      <td>2023</td>\n",
       "      <td>Q1</td>\n",
       "      <td>Standard Report</td>\n",
       "    </tr>\n",
       "    <tr>\n",
       "      <th>1544066</th>\n",
       "      <td>12a47a18-11f4-43b2-bb1f-3db51e07306b</td>\n",
       "      <td>P Street Project</td>\n",
       "      <td>False</td>\n",
       "      <td>P Street Project</td>\n",
       "      <td>Progressive Change Campaign Cmte</td>\n",
       "      <td>20000.0</td>\n",
       "      <td>J1200</td>\n",
       "      <td>x</td>\n",
       "      <td>False</td>\n",
       "      <td>True</td>\n",
       "      <td>2022</td>\n",
       "      <td>Q4</td>\n",
       "      <td>Standard Report</td>\n",
       "    </tr>\n",
       "    <tr>\n",
       "      <th>1544068</th>\n",
       "      <td>0854dd96-ed91-4219-99d9-b84bf06ee2f8</td>\n",
       "      <td>American Express</td>\n",
       "      <td>False</td>\n",
       "      <td>American Express</td>\n",
       "      <td>American Express</td>\n",
       "      <td>440000.0</td>\n",
       "      <td>F1400</td>\n",
       "      <td>p</td>\n",
       "      <td>False</td>\n",
       "      <td>True</td>\n",
       "      <td>2022</td>\n",
       "      <td>Q4</td>\n",
       "      <td>Standard Report</td>\n",
       "    </tr>\n",
       "    <tr>\n",
       "      <th>1544071</th>\n",
       "      <td>b0235c16-0a34-4e06-be62-f42a3bf52d6a</td>\n",
       "      <td>Nickles Group</td>\n",
       "      <td>True</td>\n",
       "      <td>Walmart Inc</td>\n",
       "      <td>Walmart Inc</td>\n",
       "      <td>80000.0</td>\n",
       "      <td>G4300</td>\n",
       "      <td>i</td>\n",
       "      <td>False</td>\n",
       "      <td>False</td>\n",
       "      <td>2022</td>\n",
       "      <td>Q4</td>\n",
       "      <td>Standard Report</td>\n",
       "    </tr>\n",
       "  </tbody>\n",
       "</table>\n",
       "<p>287846 rows × 13 columns</p>\n",
       "</div>"
      ],
      "text/plain": [
       "                                       UniqID  \\\n",
       "0        82c5f661-a637-45ad-a3a6-b5ba18cf8962   \n",
       "4        87ff989d-9d12-4fef-84ef-ab69cd616894   \n",
       "5        88bac485-00bb-4915-8ca5-8d0ec589ec28   \n",
       "6        8902b3fe-2dde-440a-a60d-c57b1a212ece   \n",
       "8        89ca2bea-03f3-4e46-b005-303c36827bfb   \n",
       "...                                       ...   \n",
       "1544051  8b4e4648-720c-4da2-ba96-ee9e5733e76d   \n",
       "1544057  7043c37e-e454-4c7f-9677-31ae8dff650a   \n",
       "1544066  12a47a18-11f4-43b2-bb1f-3db51e07306b   \n",
       "1544068  0854dd96-ed91-4219-99d9-b84bf06ee2f8   \n",
       "1544071  b0235c16-0a34-4e06-be62-f42a3bf52d6a   \n",
       "\n",
       "                                 Registrant  IsLobbyingFirm  \\\n",
       "0               AstraZeneca Pharmaceuticals           False   \n",
       "4        Financial Executives International           False   \n",
       "5             Capitol Hill Consulting Group            True   \n",
       "6                 Revere Federal Strategies            True   \n",
       "8               First Principles Strategies            True   \n",
       "...                                     ...             ...   \n",
       "1544051                   Navigators Global            True   \n",
       "1544057                      Cozen O'Connor            True   \n",
       "1544066                    P Street Project           False   \n",
       "1544068                    American Express           False   \n",
       "1544071                       Nickles Group            True   \n",
       "\n",
       "                                       Client  \\\n",
       "0                 AstraZeneca Pharmaceuticals   \n",
       "4          Financial Executives International   \n",
       "5        Association for Accessible Medicines   \n",
       "6                              Accion Systems   \n",
       "8                       Exela Pharma Sciences   \n",
       "...                                       ...   \n",
       "1544051            Affordable Equity Partners   \n",
       "1544057                 Withum, Smith & Brown   \n",
       "1544066                      P Street Project   \n",
       "1544068                      American Express   \n",
       "1544071                           Walmart Inc   \n",
       "\n",
       "                                       UItorg     Amount Catcode Self  \\\n",
       "0                             AstraZeneca PLC  1370000.0   H4300    x   \n",
       "4          Financial Executives International    21650.0   F5000    p   \n",
       "5        Association for Accessible Medicines    40000.0   H4300    i   \n",
       "6                              Accion Systems    12000.0   Y4000    n   \n",
       "8                       Exela Pharma Sciences    20000.0   H4300    n   \n",
       "...                                       ...        ...     ...  ...   \n",
       "1544051            Affordable Equity Partners    30000.0   F4700    n   \n",
       "1544057                 Withum, Smith & Brown    50000.0   F5100    n   \n",
       "1544066      Progressive Change Campaign Cmte    20000.0   J1200    x   \n",
       "1544068                      American Express   440000.0   F1400    p   \n",
       "1544071                           Walmart Inc    80000.0   G4300    i   \n",
       "\n",
       "         IncludeNSFS    Ind  Year Quarter       ReportType  \n",
       "0              False   True  2021      Q4        Amendment  \n",
       "4              False   True  2021      Q4  Standard Report  \n",
       "5              False  False  2021      Q4  Standard Report  \n",
       "6              False   True  2021      Q4  Standard Report  \n",
       "8              False   True  2021      Q4      Termination  \n",
       "...              ...    ...   ...     ...              ...  \n",
       "1544051        False   True  2022      Q4  Standard Report  \n",
       "1544057        False   True  2023      Q1  Standard Report  \n",
       "1544066        False   True  2022      Q4  Standard Report  \n",
       "1544068        False   True  2022      Q4  Standard Report  \n",
       "1544071        False  False  2022      Q4  Standard Report  \n",
       "\n",
       "[287846 rows x 13 columns]"
      ]
     },
     "execution_count": 76,
     "metadata": {},
     "output_type": "execute_result"
    }
   ],
   "source": [
    "# Extract quarter dynamically (first character + \"Q\")\n",
    "df_lobbying['Quarter'] = 'Q' + df_lobbying['Type'].str.extract(r'(\\d)')[0]\n",
    "\n",
    "# Extract report type based on suffix in 'Type' column\n",
    "df_lobbying['ReportType'] = df_lobbying['Type'].apply(lambda x: \n",
    "    'Standard Report' if len(x) == 2 else\n",
    "    'Amendment' if x.endswith(\"a\") else\n",
    "    'Amendment (No Activity)' if x.endswith('an') else\n",
    "    'No Activity' if x.endswith('n') else\n",
    "    'Termination' if x.endswith('t') else\n",
    "    \"Termination Amendment\" if x.endswith('ta') else\n",
    "    'Termination (No Activity)' if x.endswith('tn') else\n",
    "    'Unknown')\n",
    "\n",
    "df_lobbying.drop('Type',axis=1) # Dropping 'Type' column as it is uneccessary now. "
   ]
  },
  {
   "cell_type": "markdown",
   "metadata": {},
   "source": [
    "### Industry"
   ]
  },
  {
   "cell_type": "code",
   "execution_count": 12,
   "metadata": {},
   "outputs": [
    {
     "name": "stderr",
     "output_type": "stream",
     "text": [
      "Downloading...\n",
      "From: https://drive.google.com/uc?export=download&id=1yldZYLcZTLIMQ5Xa-e-ecGgQGFWv5n4A\n",
      "To: /Users/kristianmadslangrud/Documents/GitHub/master_thesis25/lob_indus.csv\n",
      "100%|██████████| 20.3M/20.3M [00:00<00:00, 22.5MB/s]\n"
     ]
    }
   ],
   "source": [
    "df_industry = load_csv(lob_indus, save_file = False)\n",
    "df_industry.columns = ['Client','Sub','Total','Year','Catcode']"
   ]
  },
  {
   "cell_type": "code",
   "execution_count": null,
   "metadata": {},
   "outputs": [
    {
     "name": "stdout",
     "output_type": "stream",
     "text": [
      "\n",
      "Shape of dataframe is: (309730, 5)\n",
      "\n",
      "Dataframe has the following columns:\n",
      "Index(['Client', 'Sub', 'Total', 'Year', 'Catcode'], dtype='object')\n",
      "\n",
      "Dataframe has the following data types:\n",
      "Client     object\n",
      "Sub        object\n",
      "Total       int64\n",
      "Year        int64\n",
      "Catcode    object\n",
      "dtype: object\n",
      "\n",
      "Overview of missing values:\n",
      "Client     0\n",
      "Sub        0\n",
      "Total      0\n",
      "Year       0\n",
      "Catcode    0\n",
      "dtype: int64\n",
      "\n",
      "Missing values as percentage of total:\n",
      "Client     0.0\n",
      "Sub        0.0\n",
      "Total      0.0\n",
      "Year       0.0\n",
      "Catcode    0.0\n",
      "dtype: float64\n",
      "\n",
      "First 5 Columns:                                              Client  \\\n",
      "0  National Assn for County Community & Econ Develop   \n",
      "1                       Fox Valley Technical College   \n",
      "2            Employers Cncl on Flexible Compensation   \n",
      "3            American Federation of TV/Radio Artists   \n",
      "4                     Visiting Nurse Assn of America   \n",
      "\n",
      "                                                 Sub   Total  Year Catcode  \n",
      "0  National Assn for County Community & Econ Develop       0  1998   X3000  \n",
      "1                       Fox Valley Technical College   80000  2015   H5200  \n",
      "2            Employers Cncl on Flexible Compensation  580000  2001   J9000  \n",
      "3            American Federation of TV/Radio Artists   30000  2011   LG400  \n",
      "4              Visiting Nurse Assn/Manchester & S NH   40000  2005   H3100  \n",
      "\n",
      "Last 5 Columns:            Client              Sub  Total  Year Catcode\n",
      "309725  Kaman Corp  Kaman Aerospace  80000  2003   T1200\n",
      "309726  Kaman Corp  Kaman Aerospace  80000  2004   T1200\n",
      "309727  Kaman Corp  Kaman Aerospace  20000  2005   T1200\n",
      "309728  Kaman Corp  Kaman Aerospace  20000  2006   T1200\n",
      "309729  Kaman Corp  Kaman Aerospace  40000  2011   T1200\n",
      "\n"
     ]
    }
   ],
   "source": [
    "glimpse(df_industry)"
   ]
  },
  {
   "cell_type": "code",
   "execution_count": 14,
   "metadata": {},
   "outputs": [],
   "source": [
    "# Only including records after 2011.\n",
    "df_industry = df_industry[df_industry['Year'] >= 2011]\n",
    "\n",
    "# Capitalizing all inputs in Catcode column\n",
    "df_industry['Catcode'] = df_industry['Catcode'].str.upper()"
   ]
  },
  {
   "cell_type": "markdown",
   "metadata": {},
   "source": [
    "#### Catcode References"
   ]
  },
  {
   "cell_type": "code",
   "execution_count": 15,
   "metadata": {},
   "outputs": [
    {
     "name": "stderr",
     "output_type": "stream",
     "text": [
      "Downloading...\n",
      "From: https://drive.google.com/uc?export=download&id=1vfVA-v-lUMuykF9efl2oDN5DJK2t1PwA\n",
      "To: /Users/kristianmadslangrud/Documents/GitHub/master_thesis25/CatCodeReference.csv\n",
      "100%|██████████| 43.0k/43.0k [00:00<00:00, 879kB/s]\n"
     ]
    }
   ],
   "source": [
    "# Try reading the file with extra handling for irregularities\n",
    "df_catcode_references = load_csv(CatCodeReference, save_file = False)\n",
    "df_catcode_references.columns = ['Catcode','Catname','Catorder','Industry','Sector','SectorLong']"
   ]
  },
  {
   "cell_type": "code",
   "execution_count": 16,
   "metadata": {},
   "outputs": [],
   "source": [
    "# merging catcode reference with industry column\n",
    "df_industry = pd.merge(df_industry, df_catcode_references[['Catcode','Catname', 'Industry', 'Sector']],\n",
    "                     left_on='Catcode', right_on='Catcode', how='left')"
   ]
  },
  {
   "cell_type": "markdown",
   "metadata": {},
   "source": [
    "### Agency"
   ]
  },
  {
   "cell_type": "code",
   "execution_count": 17,
   "metadata": {},
   "outputs": [
    {
     "name": "stderr",
     "output_type": "stream",
     "text": [
      "Downloading...\n",
      "From (original): https://drive.google.com/uc?export=download&id=1CFi0Itpi_qg4X4wicg1FIg8S_FJfvCN0\n",
      "From (redirected): https://drive.google.com/uc?export=download&id=1CFi0Itpi_qg4X4wicg1FIg8S_FJfvCN0&confirm=t&uuid=561ecda0-96ac-4cb0-9a03-3ab2efa617fc\n",
      "To: /Users/kristianmadslangrud/Documents/GitHub/master_thesis25/lob_agency.csv\n",
      "100%|██████████| 256M/256M [00:07<00:00, 34.7MB/s] \n"
     ]
    }
   ],
   "source": [
    "df_agency = load_csv(lob_agency, save_file=False)\n",
    "df_agency.columns = ['UniqID','AgencyID','Agency']"
   ]
  },
  {
   "cell_type": "code",
   "execution_count": 18,
   "metadata": {},
   "outputs": [
    {
     "name": "stdout",
     "output_type": "stream",
     "text": [
      "\n",
      "Shape of dataframe is: (4097763, 3)\n",
      "\n",
      "Dataframe has the following columns:\n",
      "Index(['UniqID', 'AgencyID', 'Agency'], dtype='object')\n",
      "\n",
      "Dataframe has the following data types:\n",
      "UniqID      object\n",
      "AgencyID     int64\n",
      "Agency      object\n",
      "dtype: object\n",
      "\n",
      "Overview of missing values:\n",
      "UniqID      0\n",
      "AgencyID    0\n",
      "Agency      0\n",
      "dtype: int64\n",
      "\n",
      "Missing values as percentage of total:\n",
      "UniqID      0.0\n",
      "AgencyID    0.0\n",
      "Agency      0.0\n",
      "dtype: float64\n",
      "\n",
      "First 5 Columns:                                 UniqID  AgencyID  \\\n",
      "0  BB7367A7-7B60-4DED-AA2D-A94771A9EBE8         1   \n",
      "1  BB7367A7-7B60-4DED-AA2D-A94771A9EBE8         2   \n",
      "2  04366C6F-B0CE-4C28-87BF-EE1CC8A9BB41         2   \n",
      "3  04366C6F-B0CE-4C28-87BF-EE1CC8A9BB41        34   \n",
      "4  04366C6F-B0CE-4C28-87BF-EE1CC8A9BB41       134   \n",
      "\n",
      "                                     Agency  \n",
      "0                                 US Senate  \n",
      "1               US House of Representatives  \n",
      "2               US House of Representatives  \n",
      "3           Dept of Health & Human Services  \n",
      "4  Centers for Disease Control & Prevention  \n",
      "\n",
      "Last 5 Columns:                                       UniqID  AgencyID  \\\n",
      "4097758  2efcb77e-4c7a-433c-8559-b9df48db3782         2   \n",
      "4097759  2f702749-ef71-471d-800f-de6149bad184       201   \n",
      "4097760  3057976c-a668-4957-ab7f-a8bb559fa6aa        64   \n",
      "4097761  3058e662-c783-4c63-90d3-f585624871d0        36   \n",
      "4097762  3093ba4c-41bb-4a3c-b6c0-0f6629ad304b         2   \n",
      "\n",
      "                              Agency  \n",
      "4097758  US House of Representatives  \n",
      "4097759    Dept of Homeland Security  \n",
      "4097760     Federal Trade Commission  \n",
      "4097761         Dept of the Interior  \n",
      "4097762  US House of Representatives  \n",
      "\n"
     ]
    }
   ],
   "source": [
    "glimpse(df_agency)"
   ]
  },
  {
   "cell_type": "markdown",
   "metadata": {},
   "source": [
    "### Issues"
   ]
  },
  {
   "cell_type": "code",
   "execution_count": 9,
   "metadata": {},
   "outputs": [
    {
     "name": "stderr",
     "output_type": "stream",
     "text": [
      "Downloading...\n",
      "From (original): https://drive.google.com/uc?export=download&id=18-D_vW4dAHJlvFs4ARK4lgx6KdsAXWoq\n",
      "From (redirected): https://drive.google.com/uc?export=download&id=18-D_vW4dAHJlvFs4ARK4lgx6KdsAXWoq&confirm=t&uuid=b2daf66b-9a8b-4c15-9f14-8df1bffa2e23\n",
      "To: /Users/kristianmadslangrud/Documents/GitHub/master_thesis25/lob_issue.csv\n",
      "100%|██████████| 787M/787M [00:19<00:00, 40.6MB/s]]\n"
     ]
    }
   ],
   "source": [
    "df_issue = load_csv(lob_issue, save_file=False)\n",
    "df_issue.columns = ['SI_ID','UniqID','IssueID','Issue','SpecificIssue','Year']"
   ]
  },
  {
   "cell_type": "code",
   "execution_count": null,
   "metadata": {},
   "outputs": [
    {
     "name": "stdout",
     "output_type": "stream",
     "text": [
      "\n",
      "Shape of dataframe is: (3009864, 6)\n",
      "\n",
      "Dataframe has the following columns:\n",
      "Index(['SI_ID', 'UniqID', 'IssueID', 'Issue', 'SpecificIssue', 'Year'], dtype='object')\n",
      "\n",
      "Dataframe has the following data types:\n",
      "SI_ID             int64\n",
      "UniqID           object\n",
      "IssueID          object\n",
      "Issue            object\n",
      "SpecificIssue    object\n",
      "Year              int64\n",
      "dtype: object\n",
      "\n",
      "Overview of missing values:\n",
      "SI_ID                 0\n",
      "UniqID                0\n",
      "IssueID               0\n",
      "Issue                 0\n",
      "SpecificIssue    495488\n",
      "Year                  0\n",
      "dtype: int64\n",
      "\n",
      "Missing values as percentage of total:\n",
      "SI_ID             0.000000\n",
      "UniqID            0.000000\n",
      "IssueID           0.000000\n",
      "Issue             0.000000\n",
      "SpecificIssue    16.462139\n",
      "Year              0.000000\n",
      "dtype: float64\n",
      "\n",
      "First 5 Columns:     SI_ID                                UniqID IssueID  \\\n",
      "0  3001624  02e92bd6-0159-495e-9d00-8a490a0be8be     DIS   \n",
      "1  3001625  02e92bd6-0159-495e-9d00-8a490a0be8be     ENV   \n",
      "2  3001626  02e92bd6-0159-495e-9d00-8a490a0be8be     LBR   \n",
      "3  3001627  02e92bd6-0159-495e-9d00-8a490a0be8be     ROD   \n",
      "4  3001628  02e92bd6-0159-495e-9d00-8a490a0be8be     RRR   \n",
      "\n",
      "                           Issue  \\\n",
      "0  Disaster & Emergency Planning   \n",
      "1        Environment & Superfund   \n",
      "2   Labor, Antitrust & Workplace   \n",
      "3               Roads & Highways   \n",
      "4                      Railroads   \n",
      "\n",
      "                                       SpecificIssue  Year  \n",
      "0  Issues affecting manufacturer of railroad and ...  2022  \n",
      "1  Issues affecting manufacturer of railroad and ...  2022  \n",
      "2  Issues affecting manufacturer of railroad and ...  2022  \n",
      "3  Issues affecting manufacturer of railroad and ...  2022  \n",
      "4  Issues affecting manufacturer of railroad and ...  2022  \n",
      "\n",
      "Last 5 Columns:           SI_ID                                UniqID IssueID  \\\n",
      "3009859  3076640  0a62db56-bdc4-4f4c-9329-5b420066f53c     SMB   \n",
      "3009860  3076641  0a6de630-f472-4dc2-a796-b58d67831573     DEF   \n",
      "3009861  3076642  0a7f2d03-7d7a-450c-b20a-a48c0fa93e92     AUT   \n",
      "3009862  3076643  0a7f2d03-7d7a-450c-b20a-a48c0fa93e92     BAN   \n",
      "3009863  3076644  0a7f2d03-7d7a-450c-b20a-a48c0fa93e92     COM   \n",
      "\n",
      "                           Issue  \\\n",
      "3009859           Small Business   \n",
      "3009860                  Defense   \n",
      "3009861      Automotive Industry   \n",
      "3009862                  Banking   \n",
      "3009863  Radio & TV Broadcasting   \n",
      "\n",
      "                                             SpecificIssue  Year  \n",
      "3009859  Women's Business Center program reauthorizatio...  2022  \n",
      "3009860           Issues related to tungsten manufacturing  2022  \n",
      "3009861  Issues related to autonomous vehicles Cybersec...  2022  \n",
      "3009862  Financial services issues Industrial loan bank...  2022  \n",
      "3009863  Issues related to connected vehicles 5.9 GHz s...  2022  \n",
      "\n"
     ]
    }
   ],
   "source": [
    "glimpse(df_issue)"
   ]
  },
  {
   "cell_type": "code",
   "execution_count": 21,
   "metadata": {},
   "outputs": [],
   "source": [
    "# Only including records after 2011.\n",
    "df_issue = df_issue[df_issue['Year'] >= 2011]\n",
    "\n",
    "# Retrieving records with missing values for SpecificIssue \n",
    "specific_issue_missing = df_issue[df_issue['SpecificIssue'].isna()]\n",
    "\n",
    "# Imputing missing values in SpecificIssue column with value from Issue column. \n",
    "df_issue['SpecificIssue'] = df_issue['SpecificIssue'].fillna(df_issue['Issue'])"
   ]
  },
  {
   "cell_type": "markdown",
   "metadata": {},
   "source": [
    "#### Bills"
   ]
  },
  {
   "cell_type": "code",
   "execution_count": 26,
   "metadata": {},
   "outputs": [
    {
     "name": "stderr",
     "output_type": "stream",
     "text": [
      "Downloading...\n",
      "From (original): https://drive.google.com/uc?export=download&id=1qqQvNXtdhyI8KYcctpVUZ3FoIwvjWaG1\n",
      "From (redirected): https://drive.google.com/uc?export=download&id=1qqQvNXtdhyI8KYcctpVUZ3FoIwvjWaG1&confirm=t&uuid=c8623fe3-13c8-40f6-80aa-331e597a5afd\n",
      "To: /Users/kristianmadslangrud/Documents/GitHub/master_thesis25/lob_bills.csv\n",
      "100%|██████████| 219M/219M [00:05<00:00, 36.9MB/s] \n"
     ]
    }
   ],
   "source": [
    "df_bills = load_csv(lob_bills, save_file=False)\n",
    "df_bills.columns = ['B_ID', 'SI_ID', 'CongNo', 'Bill_Name']"
   ]
  },
  {
   "cell_type": "code",
   "execution_count": 6,
   "metadata": {},
   "outputs": [
    {
     "ename": "NameError",
     "evalue": "name 'glimpse' is not defined",
     "output_type": "error",
     "traceback": [
      "\u001b[0;31m---------------------------------------------------------------------------\u001b[0m",
      "\u001b[0;31mNameError\u001b[0m                                 Traceback (most recent call last)",
      "Cell \u001b[0;32mIn[6], line 1\u001b[0m\n\u001b[0;32m----> 1\u001b[0m \u001b[43mglimpse\u001b[49m(df_bills)\n",
      "\u001b[0;31mNameError\u001b[0m: name 'glimpse' is not defined"
     ]
    }
   ],
   "source": [
    "glimpse(df_bills)"
   ]
  },
  {
   "cell_type": "code",
   "execution_count": null,
   "metadata": {},
   "outputs": [],
   "source": [
    "# Importing Year column from the issues dataframe \n",
    "# this is to impute missing values for congress number by cross-referencing Year with a dictionary containing Year and Congress No. at the time. \n",
    "df_bills = df_bills.merge(df_issue[['SI_ID', 'Year']], on='SI_ID', how='left')\n",
    "\n",
    "# Dictionary mapping Congress by year. Retrieved from: https://www.congress.gov/help/field-values/congresses\n",
    "congress_number_by_year = {\n",
    "2025: 119.0, 2026: 119.0,2023: 118.0,2024: 118.0,2021: 117.0,2022: 117.0,2019: 116.0,2020: 116.0,\n",
    "2017: 115.0,2018: 115.0,2015: 114.0,2016: 114.0,2013: 113.0,2014: 113.0,2011: 112.0,\n",
    "2012: 112.0,2009: 111.0,2010: 111.0,2007: 110.0,2008: 110.0,2005: 109.0,2006: 109.0,\n",
    "2003: 108.0,2004: 108.0,2001: 107.0,2002: 107.0,1999: 106.0,2000: 106.0,1998: 105.0\n",
    "}\n",
    "\n",
    "# Impute missing values\n",
    "df_bills['CongNo'] = df_bills['CongNo'].fillna(df_bills['Year'].map(congress_number_by_year))\n",
    "\n",
    "# Dropping 'Year' column again\n",
    "df_bills = df_bills.drop('Year',axis=1)\n",
    "\n",
    "# Converting datatype of CongNo column\n",
    "df_bills['CongNo'] = df_bills['CongNo'].astype('Int64')"
   ]
  },
  {
   "cell_type": "code",
   "execution_count": 28,
   "metadata": {},
   "outputs": [],
   "source": [
    "# Dropping records with missing value in CongNo, as these records are not connected to Lobby Issues dataframe through Foreign Key - and are hence excessive\n",
    "df_bills = df_bills.dropna(subset=['CongNo'])"
   ]
  },
  {
   "cell_type": "code",
   "execution_count": 29,
   "metadata": {},
   "outputs": [],
   "source": [
    "df_bills[\"Bill_Name\"] = df_bills[\"Bill_Name\"].str.replace(r\"^H\\.?(\\d+)$\", r\"H.R.\\1\", regex=True)"
   ]
  },
  {
   "cell_type": "markdown",
   "metadata": {},
   "source": [
    "#### Importing additional information about bills"
   ]
  },
  {
   "cell_type": "code",
   "execution_count": 30,
   "metadata": {},
   "outputs": [
    {
     "name": "stderr",
     "output_type": "stream",
     "text": [
      "Downloading...\n",
      "From: https://drive.google.com/uc?export=download&id=1-MnzV0iZ2FPYiuQgOmggjmXvxGmBzYV8\n",
      "To: /Users/kristianmadslangrud/Documents/GitHub/master_thesis25/congress_bill_data.csv\n",
      "100%|██████████| 4.26M/4.26M [00:00<00:00, 8.07MB/s]\n"
     ]
    }
   ],
   "source": [
    "df_congress_bill_data = load_csv(congress_bill_data_id, save_file=False)\n",
    "df_congress_bill_data.columns = ['bill_number','congress_number','bill_title','policy_area','introduced_date',\n",
    "                                 'bill_type','full_bill_code','sponsor_name','sponsor_party','sponsor_bioguide_id']\n",
    "df_congress_bill_data = df_congress_bill_data.iloc[1:] # dropping first row of dataframe\n",
    "\n"
   ]
  },
  {
   "cell_type": "code",
   "execution_count": 36,
   "metadata": {},
   "outputs": [],
   "source": [
    "df_congress_bill_data.dtypes\n",
    "df_congress_bill_data['congress_number'] = df_congress_bill_data['congress_number'].astype('Int64')"
   ]
  },
  {
   "cell_type": "code",
   "execution_count": 37,
   "metadata": {},
   "outputs": [],
   "source": [
    "df_congress_bill_data = df_congress_bill_data.merge(\n",
    "    df_bills[['B_ID', 'CongNo', 'Bill_Name']],\n",
    "    left_on=['full_bill_code', 'congress_number'],\n",
    "    right_on=['Bill_Name', 'CongNo'],\n",
    "    how='left'\n",
    ").drop(columns=['Bill_Name', 'CongNo'])  # Drop duplicate columns after merge if needed\n",
    "\n"
   ]
  },
  {
   "cell_type": "code",
   "execution_count": null,
   "metadata": {},
   "outputs": [],
   "source": [
    "# Converting datatype of CongNo column\n",
    "df_bills['CongNo'] = df_bills['CongNo'].astype('Int64')"
   ]
  },
  {
   "cell_type": "markdown",
   "metadata": {},
   "source": [
    "### Lobbyist"
   ]
  },
  {
   "cell_type": "code",
   "execution_count": null,
   "metadata": {},
   "outputs": [
    {
     "name": "stderr",
     "output_type": "stream",
     "text": [
      "Downloading...\n",
      "From (original): https://drive.google.com/uc?export=download&id=1q1ZyLvUhsxsbPLdi_CmrNH0FqLoorr6p\n",
      "From (redirected): https://drive.google.com/uc?export=download&id=1q1ZyLvUhsxsbPLdi_CmrNH0FqLoorr6p&confirm=t&uuid=19955945-0d51-49d8-a713-1199693831b7\n",
      "To: /Users/kristianmadslangrud/Documents/GitHub/master_thesis25/lob_lobbyist.csv\n",
      "100%|██████████| 410M/410M [00:10<00:00, 37.9MB/s] \n"
     ]
    }
   ],
   "source": [
    "df_lobbyist = load_csv(lob_lobbyist,save_file=False)\n",
    "df_lobbyist.columns = ['UniqID','Lobbyist_raw','Lobbyist','LobbyistID','Year','OfficialPosition','CID','Formercongmem']"
   ]
  },
  {
   "cell_type": "code",
   "execution_count": 27,
   "metadata": {},
   "outputs": [
    {
     "name": "stdout",
     "output_type": "stream",
     "text": [
      "\n",
      "Shape of dataframe is: (3497113, 8)\n",
      "\n",
      "Dataframe has the following columns:\n",
      "Index(['UniqID', 'Lobbyist_raw', 'Lobbyist', 'LobbyistID', 'Year',\n",
      "       'OfficialPosition', 'CID', 'Formercongmem'],\n",
      "      dtype='object')\n",
      "\n",
      "Dataframe has the following data types:\n",
      "UniqID               object\n",
      "Lobbyist_raw         object\n",
      "Lobbyist             object\n",
      "LobbyistID           object\n",
      "Year                float64\n",
      "OfficialPosition     object\n",
      "CID                  object\n",
      "Formercongmem        object\n",
      "dtype: object\n",
      "\n",
      "Overview of missing values:\n",
      "UniqID                  225\n",
      "Lobbyist_raw          21873\n",
      "Lobbyist              13953\n",
      "LobbyistID            21952\n",
      "Year                  21953\n",
      "OfficialPosition    2819840\n",
      "CID                 3403564\n",
      "Formercongmem         29950\n",
      "dtype: int64\n",
      "\n",
      "Missing values as percentage of total:\n",
      "UniqID               0.006434\n",
      "Lobbyist_raw         0.625459\n",
      "Lobbyist             0.398986\n",
      "LobbyistID           0.627718\n",
      "Year                 0.627746\n",
      "OfficialPosition    80.633368\n",
      "CID                 97.324965\n",
      "Formercongmem        0.856421\n",
      "dtype: float64\n",
      "\n",
      "First 5 Columns:                                 UniqID              Lobbyist_raw  \\\n",
      "0  06C29C84-250F-478B-872A-2F647D9DC044  O'BRIEN, LAWRENCE F. III   \n",
      "1  3A22C685-EC94-46AA-9C45-4AA4A7044C28   BRAGG, PATRICIA DUNMIRE   \n",
      "2  5CBE61EC-87F1-401E-9D57-620975C9A1F8            COSTELLO, RYAN   \n",
      "3  8D1DB726-0BE9-46C1-AADE-BE8BCAFF929F           SMITH, G. WAYNE   \n",
      "4  EF5095CF-92E6-49BE-A40D-35E6464EA394          SCHMITZ, JOHN P.   \n",
      "\n",
      "                  Lobbyist    LobbyistID    Year OfficialPosition        CID  \\\n",
      "0  O'Brien, Lawrence F III  Y0000046486L  2004.0              NaN        NaN   \n",
      "1  Bragg, Patricia Dunmire  Y0000020554L  2001.0              NaN        NaN   \n",
      "2           Costello, Ryan  Y0000027292L  2002.0              NaN  N00031064   \n",
      "3           Smith, G Wayne  Y0000027005L  2004.0              NaN        NaN   \n",
      "4          Schmitz, John P  Y0000019948L  2002.0              NaN        NaN   \n",
      "\n",
      "  Formercongmem  \n",
      "0             n  \n",
      "1             n  \n",
      "2             y  \n",
      "3             n  \n",
      "4             n  \n",
      "\n",
      "Last 5 Columns:                                       UniqID          Lobbyist_raw  \\\n",
      "3497108  fa2e5ac1-1463-40b7-8f2b-7769134fc4b6     ADAIR, JOHN LUCAS   \n",
      "3497109  fa2e5ac1-1463-40b7-8f2b-7769134fc4b6     GARFINKEL, ANDREW   \n",
      "3497110  fa2e5ac1-1463-40b7-8f2b-7769134fc4b6          KATZ, ALAN M   \n",
      "3497111  fa2e5ac1-1463-40b7-8f2b-7769134fc4b6        KELLER, THOMAS   \n",
      "3497112  fd8cfc5a-d0cd-4310-ad19-4e48e0ccb66e  HITCHCOCK, ELIZABETH   \n",
      "\n",
      "                     Lobbyist    LobbyistID    Year OfficialPosition  CID  \\\n",
      "3497108          Adair, Lucas  YX000058147L  2023.0              NaN  NaN   \n",
      "3497109     Garfinkel, Andrew  Y0000008935L  2023.0              NaN  NaN   \n",
      "3497110            Katz, Alan  Y0000052389L  2023.0              NaN  NaN   \n",
      "3497111      Keller, Thomas C  Y0000017161L  2023.0              NaN  NaN   \n",
      "3497112  Hitchcock, Elizabeth  Y0000012367L  2023.0              NaN  NaN   \n",
      "\n",
      "        Formercongmem  \n",
      "3497108             n  \n",
      "3497109             n  \n",
      "3497110             n  \n",
      "3497111             n  \n",
      "3497112             n  \n",
      "\n"
     ]
    }
   ],
   "source": [
    "glimpse(df_lobbyist)"
   ]
  },
  {
   "cell_type": "code",
   "execution_count": 28,
   "metadata": {},
   "outputs": [],
   "source": [
    "# Only including records after 2011.\n",
    "df_lobbyist = df_lobbyist[df_lobbyist['Year'] >= 2011]\n",
    "\n",
    "# Dropping missing values\n",
    "df_lobbyist = df_lobbyist.dropna(subset=['LobbyistID'])\n",
    "df_lobbyist = df_lobbyist.dropna(subset=['Year']) # Dropping this record as well as it does not have any UniqId\n",
    "\n",
    "# Dropping uneccessary column\n",
    "df_lobbyist = df_lobbyist.drop('Lobbyist_raw',axis=1)\n",
    "\n",
    "# Chaging data type of Year column\n",
    "df_lobbyist['Year'] = df_lobbyist['Year'].astype('Int64')\n",
    "\n",
    "# Imputing missing values in 'Formercongmem' column -- if CID = Blank --> 'n', if CID != Blank --> 'y'\n",
    "df_lobbyist.loc[df_lobbyist['Formercongmem'].isna(), 'Formercongmem'] = df_lobbyist['CID'].apply(\n",
    "    lambda x: 'n' if pd.isna(x) else 'y')\n",
    "\n",
    "# Changing data type of Formercongmem column to Boolean\n",
    "df_lobbyist['Formercongmem'] = df_lobbyist['Formercongmem'].map({'y': True, 'n': False}).astype(bool)\n",
    "\n",
    "# Imputing missing values for CID column\n",
    "df_lobbyist['CID'] = df_lobbyist['CID'].fillna(value='Not Congress Member')\n"
   ]
  },
  {
   "cell_type": "code",
   "execution_count": 29,
   "metadata": {},
   "outputs": [
    {
     "name": "stdout",
     "output_type": "stream",
     "text": [
      "56604\n"
     ]
    }
   ],
   "source": [
    "# Pringint unique values in official position column\n",
    "print(len(df_lobbyist['OfficialPosition'].unique()))\n",
    "\n",
    "# Considering the amount of missing values and unique values - OfficialPosition column is dropped due to providing small value to further analysis\n",
    "df_lobbyist = df_lobbyist.drop('OfficialPosition',axis=1)"
   ]
  },
  {
   "cell_type": "markdown",
   "metadata": {},
   "source": [
    "#### Candidate IDs"
   ]
  },
  {
   "cell_type": "code",
   "execution_count": 30,
   "metadata": {},
   "outputs": [
    {
     "name": "stderr",
     "output_type": "stream",
     "text": [
      "Downloading...\n",
      "From: https://drive.google.com/uc?export=download&id=1k2lhAcuSQbn5z7NN3USPEbX_Rg5VV_Ky\n",
      "To: /Users/kristianmadslangrud/Documents/GitHub/master_thesis25/CandidateIds.csv\n",
      "100%|██████████| 970k/970k [00:00<00:00, 3.22MB/s]\n"
     ]
    }
   ],
   "source": [
    "df_candidate = load_csv(CandidateIds,save_file=False)\n",
    "df_candidate.columns = ['CID', 'CRPName', 'Party', 'DistIDRunFor', 'FECCandID']"
   ]
  },
  {
   "cell_type": "code",
   "execution_count": 31,
   "metadata": {},
   "outputs": [],
   "source": [
    "# Merge on the common 'CID' column to include the columns from df_candidate\n",
    "df_lobbyist = pd.merge(\n",
    "    df_lobbyist,\n",
    "    df_candidate[['CID', 'CRPName', 'Party', 'DistIDRunFor', 'FECCandID']],\n",
    "    on='CID',\n",
    "    how='left'\n",
    ")"
   ]
  },
  {
   "cell_type": "markdown",
   "metadata": {},
   "source": [
    "## Narrowing Scope"
   ]
  },
  {
   "cell_type": "code",
   "execution_count": 70,
   "metadata": {},
   "outputs": [],
   "source": [
    "# Only including lobbying reports related to specific issues\n",
    "chosen_issues = ['Health Issues', 'Medical Research & Clin Labs', 'Pharmacy', 'Medicare & Medicaid', 'Science & Technology', 'Taxes']\n",
    "df_issue = df_issue[df_issue['Issue'].isin(chosen_issues)]"
   ]
  },
  {
   "cell_type": "code",
   "execution_count": 71,
   "metadata": {},
   "outputs": [],
   "source": [
    "# Dropping lobbying reports that are no longer referenced in df_issue table\n",
    "df_lobbying = df_lobbying[df_lobbying['UniqID'].isin(df_issue['UniqID'])]\n",
    "\n",
    "# dropping lobbyist records for lobbyists that are no longer involved in the lobbying reports from cleaned df_lobbying df.\n",
    "df_lobbyist = df_lobbyist[df_lobbyist['UniqID'].isin(df_lobbying['UniqID'])]\n",
    "\n",
    "# droppping bills records that are not related to any of the chosen issues. \n",
    "df_bills = df_bills[df_bills['SI_ID'].isin(df_issue['SI_ID'])]\n",
    "\n",
    "# droppping agency records that are not related to any of the current reports. \n",
    "df_agency = df_agency[df_agency['UniqID'].isin(df_lobbying['UniqID'])]\n",
    "\n",
    "# droppping industry records that are not related to any of the current reports. --> How can we limit this further?\n",
    "df_industry = df_industry[df_industry['Catcode'].isin(df_lobbying['Catcode'])]\n"
   ]
  }
 ],
 "metadata": {
  "kernelspec": {
   "display_name": "Python 3",
   "language": "python",
   "name": "python3"
  },
  "language_info": {
   "codemirror_mode": {
    "name": "ipython",
    "version": 3
   },
   "file_extension": ".py",
   "mimetype": "text/x-python",
   "name": "python",
   "nbconvert_exporter": "python",
   "pygments_lexer": "ipython3",
   "version": "3.9.6"
  }
 },
 "nbformat": 4,
 "nbformat_minor": 2
}
