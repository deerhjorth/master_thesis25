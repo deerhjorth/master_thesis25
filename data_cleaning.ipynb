{
 "cells": [
  {
   "cell_type": "code",
   "execution_count": 228,
   "metadata": {},
   "outputs": [
    {
     "name": "stdout",
     "output_type": "stream",
     "text": [
      "Defaulting to user installation because normal site-packages is not writeable\n",
      "Requirement already satisfied: pandas in /Users/kristianmadslangrud/Library/Python/3.9/lib/python/site-packages (from -r requirements.txt (line 1)) (2.2.2)\n",
      "Requirement already satisfied: numpy in /Users/kristianmadslangrud/Library/Python/3.9/lib/python/site-packages (from -r requirements.txt (line 2)) (1.26.4)\n",
      "Requirement already satisfied: matplotlib in /Users/kristianmadslangrud/Library/Python/3.9/lib/python/site-packages (from -r requirements.txt (line 3)) (3.8.4)\n",
      "Requirement already satisfied: requests in /Users/kristianmadslangrud/Library/Python/3.9/lib/python/site-packages (from -r requirements.txt (line 4)) (2.31.0)\n",
      "Requirement already satisfied: gdown in /Users/kristianmadslangrud/Library/Python/3.9/lib/python/site-packages (from -r requirements.txt (line 5)) (5.2.0)\n",
      "\u001b[31mERROR: Could not find a version that satisfies the requirement os (from versions: none)\u001b[0m\u001b[31m\n",
      "\u001b[0m\n",
      "\u001b[1m[\u001b[0m\u001b[34;49mnotice\u001b[0m\u001b[1;39;49m]\u001b[0m\u001b[39;49m A new release of pip is available: \u001b[0m\u001b[31;49m24.3.1\u001b[0m\u001b[39;49m -> \u001b[0m\u001b[32;49m25.0.1\u001b[0m\n",
      "\u001b[1m[\u001b[0m\u001b[34;49mnotice\u001b[0m\u001b[1;39;49m]\u001b[0m\u001b[39;49m To update, run: \u001b[0m\u001b[32;49m/Library/Developer/CommandLineTools/usr/bin/python3 -m pip install --upgrade pip\u001b[0m\n",
      "\u001b[31mERROR: No matching distribution found for os\u001b[0m\u001b[31m\n",
      "\u001b[0m"
     ]
    }
   ],
   "source": [
    "# If necessary, install packages\n",
    "!pip install -r requirements.txt"
   ]
  },
  {
   "cell_type": "code",
   "execution_count": 229,
   "metadata": {},
   "outputs": [
    {
     "name": "stdout",
     "output_type": "stream",
     "text": [
      "Defaulting to user installation because normal site-packages is not writeable\n",
      "Requirement already satisfied: gdown in /Users/kristianmadslangrud/Library/Python/3.9/lib/python/site-packages (5.2.0)\n",
      "Requirement already satisfied: beautifulsoup4 in /Users/kristianmadslangrud/Library/Python/3.9/lib/python/site-packages (from gdown) (4.13.3)\n",
      "Requirement already satisfied: filelock in /Users/kristianmadslangrud/Library/Python/3.9/lib/python/site-packages (from gdown) (3.14.0)\n",
      "Requirement already satisfied: requests[socks] in /Users/kristianmadslangrud/Library/Python/3.9/lib/python/site-packages (from gdown) (2.31.0)\n",
      "Requirement already satisfied: tqdm in /Users/kristianmadslangrud/Library/Python/3.9/lib/python/site-packages (from gdown) (4.66.4)\n",
      "Requirement already satisfied: soupsieve>1.2 in /Users/kristianmadslangrud/Library/Python/3.9/lib/python/site-packages (from beautifulsoup4->gdown) (2.6)\n",
      "Requirement already satisfied: typing-extensions>=4.0.0 in /Users/kristianmadslangrud/Library/Python/3.9/lib/python/site-packages (from beautifulsoup4->gdown) (4.11.0)\n",
      "Requirement already satisfied: charset-normalizer<4,>=2 in /Users/kristianmadslangrud/Library/Python/3.9/lib/python/site-packages (from requests[socks]->gdown) (3.3.2)\n",
      "Requirement already satisfied: idna<4,>=2.5 in /Users/kristianmadslangrud/Library/Python/3.9/lib/python/site-packages (from requests[socks]->gdown) (3.7)\n",
      "Requirement already satisfied: urllib3<3,>=1.21.1 in /Users/kristianmadslangrud/Library/Python/3.9/lib/python/site-packages (from requests[socks]->gdown) (2.2.1)\n",
      "Requirement already satisfied: certifi>=2017.4.17 in /Users/kristianmadslangrud/Library/Python/3.9/lib/python/site-packages (from requests[socks]->gdown) (2024.2.2)\n",
      "Requirement already satisfied: PySocks!=1.5.7,>=1.5.6 in /Users/kristianmadslangrud/Library/Python/3.9/lib/python/site-packages (from requests[socks]->gdown) (1.7.1)\n",
      "\n",
      "\u001b[1m[\u001b[0m\u001b[34;49mnotice\u001b[0m\u001b[1;39;49m]\u001b[0m\u001b[39;49m A new release of pip is available: \u001b[0m\u001b[31;49m24.3.1\u001b[0m\u001b[39;49m -> \u001b[0m\u001b[32;49m25.0.1\u001b[0m\n",
      "\u001b[1m[\u001b[0m\u001b[34;49mnotice\u001b[0m\u001b[1;39;49m]\u001b[0m\u001b[39;49m To update, run: \u001b[0m\u001b[32;49m/Library/Developer/CommandLineTools/usr/bin/python3 -m pip install --upgrade pip\u001b[0m\n"
     ]
    }
   ],
   "source": [
    "!pip install gdown"
   ]
  },
  {
   "cell_type": "code",
   "execution_count": null,
   "metadata": {},
   "outputs": [],
   "source": [
    "# file IDs and table namesfor lobbying data files from Google Drive\n",
    "lob_rpt = (\"1CIq7XwaFTJmnUKdAvYyh53Et2XSJRX9d\", \"lob_rpt\")\n",
    "lob_lobbyist = (\"1q1ZyLvUhsxsbPLdi_CmrNH0FqLoorr6p\", \"lob_lobbyist\")\n",
    "lob_lobbying = (\"19Jef89spXbkExNpYA-s_e8GRii-0tReu\", \"lob_lobbying\")\n",
    "lob_issue = (\"18-D_vW4dAHJlvFs4ARK4lgx6KdsAXWoq\", \"lob_issue\")\n",
    "lob_indus = (\"1yldZYLcZTLIMQ5Xa-e-ecGgQGFWv5n4A\", \"lob_indus\")\n",
    "lob_bills = (\"1qqQvNXtdhyI8KYcctpVUZ3FoIwvjWaG1\", \"lob_bills\")\n",
    "lob_agency = (\"1CFi0Itpi_qg4X4wicg1FIg8S_FJfvCN0\", \"lob_agency\")\n",
    "CatCodeReference = (\"1vfVA-v-lUMuykF9efl2oDN5DJK2t1PwA\", \"CatCodeReference\")\n",
    "CandidateIds = (\"1k2lhAcuSQbn5z7NN3USPEbX_Rg5VV_Ky\", \"CandidateIds\")\n",
    "congress_bill_data_id = (\"1-MnzV0iZ2FPYiuQgOmggjmXvxGmBzYV8\", \"congress_bill_data\")"
   ]
  },
  {
   "cell_type": "code",
   "execution_count": 232,
   "metadata": {},
   "outputs": [],
   "source": [
    "import pandas as pd\n",
    "import gdown\n",
    "import os\n",
    "\n",
    "def load_csv(table, save_file=False, file_path=None):\n",
    "    \"\"\"\n",
    "    Downloads a large CSV file from Google Drive into a Pandas DataFrame.\n",
    "    \n",
    "    Parameters:\n",
    "        file_info (tuple): A tuple containing the Google Drive file ID and the table name.\n",
    "        save_file (bool): If True, the file is saved. If False, it is deleted after loading.\n",
    "        file_path (str, optional): The directory path where the file should be saved. Defaults to current directory.\n",
    "\n",
    "    Returns:\n",
    "        pd.DataFrame: The loaded Pandas DataFrame.\n",
    "    \"\"\"\n",
    "    file_id, table_name = table\n",
    "    \n",
    "    # Set filename as the table name\n",
    "    temp_file = f\"{table_name}.csv\"\n",
    "    \n",
    "    # If a file path is provided, join it with the filename\n",
    "    if file_path:\n",
    "        temp_file = os.path.join(file_path, temp_file)\n",
    "\n",
    "    # Construct Google Drive download URL\n",
    "    url = f\"https://drive.google.com/uc?export=download&id={file_id}\"\n",
    "\n",
    "    # Download the file\n",
    "    gdown.download(url, temp_file, quiet=False)\n",
    "\n",
    "    # Load the CSV file into a Pandas DataFrame\n",
    "    df = pd.read_csv(temp_file,header=None)\n",
    "\n",
    "    # Remove the file if save_file is False\n",
    "    if not save_file:\n",
    "        os.remove(temp_file)\n",
    "\n",
    "    return df"
   ]
  },
  {
   "cell_type": "code",
   "execution_count": 233,
   "metadata": {},
   "outputs": [
    {
     "name": "stderr",
     "output_type": "stream",
     "text": [
      "Downloading...\n",
      "From: https://drive.google.com/uc?export=download&id=1CIq7XwaFTJmnUKdAvYyh53Et2XSJRX9d\n",
      "To: /Users/kristianmadslangrud/Documents/GitHub/master_thesis25/lob_rpt.csv\n",
      "100%|██████████| 3.29k/3.29k [00:00<00:00, 476kB/s]"
     ]
    },
    {
     "name": "stdout",
     "output_type": "stream",
     "text": [
      "                                  0    1\n",
      "0                   MID-YEAR REPORT    m\n",
      "1                MID-YEAR AMENDMENT   ma\n",
      "2            MID-YEAR (NO ACTIVITY)   mn\n",
      "3  MID-YEAR AMENDMENT (NO ACTIVITY)  man\n",
      "4              MID-YEAR TERMINATION   mt\n"
     ]
    },
    {
     "name": "stderr",
     "output_type": "stream",
     "text": [
      "\n"
     ]
    }
   ],
   "source": [
    "# Example usage:\n",
    "df = load_csv(lob_rpt, save_file=False)  # Specify file_path if needed\n",
    "print(df.head())"
   ]
  },
  {
   "cell_type": "markdown",
   "metadata": {},
   "source": [
    "## Data Cleaning"
   ]
  },
  {
   "cell_type": "code",
   "execution_count": 234,
   "metadata": {},
   "outputs": [],
   "source": [
    "# Creating function to visualize key aspects of each dataframe. \n",
    "def glimpse(df):\n",
    "    print(f'\\nShape of dataframe is: {df.shape}\\n')\n",
    "    print(f'Dataframe has the following columns:\\n{df.columns}\\n')\n",
    "    print(f'Dataframe has the following data types:\\n{df.dtypes}\\n')\n",
    "    print(f'Overview of missing values:\\n{df.isnull().sum()}\\n')\n",
    "    print(f'Missing values as percentage of total:\\n{(df.isnull().sum()/len(df))*100}\\n')\n",
    "    print(f'First 5 Columns:{df.head()}\\n')\n",
    "    print(f'Last 5 Columns:{df.tail()}\\n')"
   ]
  },
  {
   "cell_type": "markdown",
   "metadata": {},
   "source": [
    "### Lobbying Data"
   ]
  },
  {
   "cell_type": "code",
   "execution_count": 235,
   "metadata": {},
   "outputs": [
    {
     "name": "stderr",
     "output_type": "stream",
     "text": [
      "Downloading...\n",
      "From (original): https://drive.google.com/uc?export=download&id=19Jef89spXbkExNpYA-s_e8GRii-0tReu\n",
      "From (redirected): https://drive.google.com/uc?export=download&id=19Jef89spXbkExNpYA-s_e8GRii-0tReu&confirm=t&uuid=1fd98d57-2087-4d98-bd65-9ad9bea70177\n",
      "To: /Users/kristianmadslangrud/Documents/GitHub/master_thesis25/lob_lobbying.csv\n",
      "100%|██████████| 351M/351M [00:27<00:00, 12.6MB/s] \n",
      "/var/folders/pg/ghgx2xgn3qb65km4qhtfgzhr0000gn/T/ipykernel_96499/2418707545.py:33: DtypeWarning: Columns (7,11,14,17) have mixed types. Specify dtype option on import or set low_memory=False.\n",
      "  df = pd.read_csv(temp_file,header=None)\n"
     ]
    }
   ],
   "source": [
    "df_lobbying = load_csv(lob_lobbying, save_file = False)\n",
    "df_lobbying.columns = ['UniqID','Registrant_Raw','Registrant','IsLobbyingFirm','Client_raw','Client','UItorg','Amount','Catcode','Source','Self','IncludeNSFS','Use','Ind','Year','Type','Typelong','Affiliate']"
   ]
  },
  {
   "cell_type": "code",
   "execution_count": 237,
   "metadata": {},
   "outputs": [],
   "source": [
    "#Dropping unecessary columns\n",
    "df_lobbying = df_lobbying.drop(\n",
    "['Registrant_Raw', #Same as Registrant\n",
    " 'Client_raw', # Same as Client\n",
    " 'Source', # Irrelevant to analysis\n",
    " 'Typelong' # Same as Type\n",
    "], axis=1)\n",
    "\n",
    "# Removing all records from lobbying dataframe without an ID\n",
    "df_lobbying = df_lobbying.dropna(subset=['UniqID'])\n",
    "\n",
    "# Capitalizing all inputs in Catcode column\n",
    "df_lobbying['Catcode'] = df_lobbying['Catcode'].str.upper()\n",
    "\n",
    "# Replacing missing values in selected boolean columns with 'n' column with 'n'\n",
    "boolean_columns = ['IsLobbyingFirm','Affiliate','IncludeNSFS','Ind']\n",
    "df_lobbying[boolean_columns] = df_lobbying[boolean_columns].fillna(value='n')\n",
    "\n",
    "# Changing datatype of columns\n",
    "df_lobbying['Amount'] = pd.to_numeric(df_lobbying['Amount'], errors='coerce')\n",
    "df_lobbying = df_lobbying.dropna(subset=['Amount'])\n",
    "df_lobbying['Year'] = df_lobbying['Year'].astype('int')\n",
    "df_lobbying[boolean_columns] = df_lobbying[boolean_columns].apply(lambda col: col.map({'y': True, 'n': False}).astype(bool))\n",
    "\n",
    "# Dropping all lobbying records with Use == n, as these reports have been amendent/updated and a more recent report is avaliable.  \n",
    "df_lobbying = df_lobbying[df_lobbying['Use'] != 'n']\n",
    "df_lobbying = df_lobbying.drop('Use',axis=1)\n",
    "\n",
    "# Only including records after 2011.\n",
    "df_lobbying = df_lobbying[df_lobbying['Year'] >= 2011]\n",
    "df_lobbying = df_lobbying.drop('Affiliate',axis=1) # Dropping the Affiliate column as all records are equal to False after Slicing. \n"
   ]
  },
  {
   "cell_type": "code",
   "execution_count": 238,
   "metadata": {},
   "outputs": [
    {
     "data": {
      "text/html": [
       "<div>\n",
       "<style scoped>\n",
       "    .dataframe tbody tr th:only-of-type {\n",
       "        vertical-align: middle;\n",
       "    }\n",
       "\n",
       "    .dataframe tbody tr th {\n",
       "        vertical-align: top;\n",
       "    }\n",
       "\n",
       "    .dataframe thead th {\n",
       "        text-align: right;\n",
       "    }\n",
       "</style>\n",
       "<table border=\"1\" class=\"dataframe\">\n",
       "  <thead>\n",
       "    <tr style=\"text-align: right;\">\n",
       "      <th></th>\n",
       "      <th>UniqID</th>\n",
       "      <th>Registrant</th>\n",
       "      <th>IsLobbyingFirm</th>\n",
       "      <th>Client</th>\n",
       "      <th>UItorg</th>\n",
       "      <th>Amount</th>\n",
       "      <th>Catcode</th>\n",
       "      <th>Self</th>\n",
       "      <th>IncludeNSFS</th>\n",
       "      <th>Ind</th>\n",
       "      <th>Year</th>\n",
       "      <th>Quarter</th>\n",
       "      <th>ReportType</th>\n",
       "    </tr>\n",
       "  </thead>\n",
       "  <tbody>\n",
       "    <tr>\n",
       "      <th>0</th>\n",
       "      <td>82c5f661-a637-45ad-a3a6-b5ba18cf8962</td>\n",
       "      <td>AstraZeneca Pharmaceuticals</td>\n",
       "      <td>False</td>\n",
       "      <td>AstraZeneca Pharmaceuticals</td>\n",
       "      <td>AstraZeneca PLC</td>\n",
       "      <td>1370000.0</td>\n",
       "      <td>H4300</td>\n",
       "      <td>x</td>\n",
       "      <td>False</td>\n",
       "      <td>True</td>\n",
       "      <td>2021</td>\n",
       "      <td>Q4</td>\n",
       "      <td>Amendment</td>\n",
       "    </tr>\n",
       "    <tr>\n",
       "      <th>1</th>\n",
       "      <td>84ad3a9e-5864-4227-a802-e268fbf37237</td>\n",
       "      <td>David L Horne LLC</td>\n",
       "      <td>True</td>\n",
       "      <td>Multifamily Lenders Council</td>\n",
       "      <td>Multifamily Lenders Council</td>\n",
       "      <td>15000.0</td>\n",
       "      <td>F4600</td>\n",
       "      <td>n</td>\n",
       "      <td>False</td>\n",
       "      <td>True</td>\n",
       "      <td>2021</td>\n",
       "      <td>Q4</td>\n",
       "      <td>Standard Report</td>\n",
       "    </tr>\n",
       "    <tr>\n",
       "      <th>2</th>\n",
       "      <td>85b111b1-5d2e-4107-bc24-0921316e29a5</td>\n",
       "      <td>Echelon Government Affairs</td>\n",
       "      <td>True</td>\n",
       "      <td>Albers Group</td>\n",
       "      <td>Albers Group</td>\n",
       "      <td>10000.0</td>\n",
       "      <td>Y4000</td>\n",
       "      <td>n</td>\n",
       "      <td>False</td>\n",
       "      <td>True</td>\n",
       "      <td>2021</td>\n",
       "      <td>Q4</td>\n",
       "      <td>Standard Report</td>\n",
       "    </tr>\n",
       "    <tr>\n",
       "      <th>3</th>\n",
       "      <td>87822a14-12de-478c-a34d-010fa503e539</td>\n",
       "      <td>Western Telecommunications Alliance</td>\n",
       "      <td>False</td>\n",
       "      <td>Western Telecommunications Alliance</td>\n",
       "      <td>Western Telecommunications Alliance</td>\n",
       "      <td>75000.0</td>\n",
       "      <td>C4000</td>\n",
       "      <td>p</td>\n",
       "      <td>False</td>\n",
       "      <td>True</td>\n",
       "      <td>2021</td>\n",
       "      <td>Q4</td>\n",
       "      <td>Standard Report</td>\n",
       "    </tr>\n",
       "    <tr>\n",
       "      <th>4</th>\n",
       "      <td>87ff989d-9d12-4fef-84ef-ab69cd616894</td>\n",
       "      <td>Financial Executives International</td>\n",
       "      <td>False</td>\n",
       "      <td>Financial Executives International</td>\n",
       "      <td>Financial Executives International</td>\n",
       "      <td>21650.0</td>\n",
       "      <td>F5000</td>\n",
       "      <td>p</td>\n",
       "      <td>False</td>\n",
       "      <td>True</td>\n",
       "      <td>2021</td>\n",
       "      <td>Q4</td>\n",
       "      <td>Standard Report</td>\n",
       "    </tr>\n",
       "    <tr>\n",
       "      <th>...</th>\n",
       "      <td>...</td>\n",
       "      <td>...</td>\n",
       "      <td>...</td>\n",
       "      <td>...</td>\n",
       "      <td>...</td>\n",
       "      <td>...</td>\n",
       "      <td>...</td>\n",
       "      <td>...</td>\n",
       "      <td>...</td>\n",
       "      <td>...</td>\n",
       "      <td>...</td>\n",
       "      <td>...</td>\n",
       "      <td>...</td>\n",
       "    </tr>\n",
       "    <tr>\n",
       "      <th>1544068</th>\n",
       "      <td>0854dd96-ed91-4219-99d9-b84bf06ee2f8</td>\n",
       "      <td>American Express</td>\n",
       "      <td>False</td>\n",
       "      <td>American Express</td>\n",
       "      <td>American Express</td>\n",
       "      <td>440000.0</td>\n",
       "      <td>F1400</td>\n",
       "      <td>p</td>\n",
       "      <td>False</td>\n",
       "      <td>True</td>\n",
       "      <td>2022</td>\n",
       "      <td>Q4</td>\n",
       "      <td>Standard Report</td>\n",
       "    </tr>\n",
       "    <tr>\n",
       "      <th>1544069</th>\n",
       "      <td>086b65ba-0abe-4ed0-a3e9-a66c9ecc96a3</td>\n",
       "      <td>BL Partners Group</td>\n",
       "      <td>True</td>\n",
       "      <td>CTIA</td>\n",
       "      <td>CTIA</td>\n",
       "      <td>30000.0</td>\n",
       "      <td>C4300</td>\n",
       "      <td>i</td>\n",
       "      <td>False</td>\n",
       "      <td>False</td>\n",
       "      <td>2022</td>\n",
       "      <td>Q4</td>\n",
       "      <td>Standard Report</td>\n",
       "    </tr>\n",
       "    <tr>\n",
       "      <th>1544070</th>\n",
       "      <td>b01b51ba-d426-4750-ad00-0ea3c5aa2317</td>\n",
       "      <td>Vectis DC</td>\n",
       "      <td>True</td>\n",
       "      <td>City of Montebello, CA</td>\n",
       "      <td>City of Montebello, CA</td>\n",
       "      <td>20000.0</td>\n",
       "      <td>X3000</td>\n",
       "      <td>n</td>\n",
       "      <td>False</td>\n",
       "      <td>True</td>\n",
       "      <td>2022</td>\n",
       "      <td>Q4</td>\n",
       "      <td>Standard Report</td>\n",
       "    </tr>\n",
       "    <tr>\n",
       "      <th>1544071</th>\n",
       "      <td>b0235c16-0a34-4e06-be62-f42a3bf52d6a</td>\n",
       "      <td>Nickles Group</td>\n",
       "      <td>True</td>\n",
       "      <td>Walmart Inc</td>\n",
       "      <td>Walmart Inc</td>\n",
       "      <td>80000.0</td>\n",
       "      <td>G4300</td>\n",
       "      <td>i</td>\n",
       "      <td>False</td>\n",
       "      <td>False</td>\n",
       "      <td>2022</td>\n",
       "      <td>Q4</td>\n",
       "      <td>Standard Report</td>\n",
       "    </tr>\n",
       "    <tr>\n",
       "      <th>1544072</th>\n",
       "      <td>b0271501-03a4-4e0e-b6df-aacf34936878</td>\n",
       "      <td>Blue Cross/Blue Shield of California</td>\n",
       "      <td>False</td>\n",
       "      <td>Blue Cross/Blue Shield of California</td>\n",
       "      <td>Blue Cross/Blue Shield</td>\n",
       "      <td>110000.0</td>\n",
       "      <td>F3200</td>\n",
       "      <td>s</td>\n",
       "      <td>False</td>\n",
       "      <td>True</td>\n",
       "      <td>2022</td>\n",
       "      <td>Q4</td>\n",
       "      <td>Standard Report</td>\n",
       "    </tr>\n",
       "  </tbody>\n",
       "</table>\n",
       "<p>785595 rows × 13 columns</p>\n",
       "</div>"
      ],
      "text/plain": [
       "                                       UniqID  \\\n",
       "0        82c5f661-a637-45ad-a3a6-b5ba18cf8962   \n",
       "1        84ad3a9e-5864-4227-a802-e268fbf37237   \n",
       "2        85b111b1-5d2e-4107-bc24-0921316e29a5   \n",
       "3        87822a14-12de-478c-a34d-010fa503e539   \n",
       "4        87ff989d-9d12-4fef-84ef-ab69cd616894   \n",
       "...                                       ...   \n",
       "1544068  0854dd96-ed91-4219-99d9-b84bf06ee2f8   \n",
       "1544069  086b65ba-0abe-4ed0-a3e9-a66c9ecc96a3   \n",
       "1544070  b01b51ba-d426-4750-ad00-0ea3c5aa2317   \n",
       "1544071  b0235c16-0a34-4e06-be62-f42a3bf52d6a   \n",
       "1544072  b0271501-03a4-4e0e-b6df-aacf34936878   \n",
       "\n",
       "                                   Registrant  IsLobbyingFirm  \\\n",
       "0                 AstraZeneca Pharmaceuticals           False   \n",
       "1                           David L Horne LLC            True   \n",
       "2                  Echelon Government Affairs            True   \n",
       "3         Western Telecommunications Alliance           False   \n",
       "4          Financial Executives International           False   \n",
       "...                                       ...             ...   \n",
       "1544068                      American Express           False   \n",
       "1544069                     BL Partners Group            True   \n",
       "1544070                             Vectis DC            True   \n",
       "1544071                         Nickles Group            True   \n",
       "1544072  Blue Cross/Blue Shield of California           False   \n",
       "\n",
       "                                       Client  \\\n",
       "0                 AstraZeneca Pharmaceuticals   \n",
       "1                 Multifamily Lenders Council   \n",
       "2                                Albers Group   \n",
       "3         Western Telecommunications Alliance   \n",
       "4          Financial Executives International   \n",
       "...                                       ...   \n",
       "1544068                      American Express   \n",
       "1544069                                  CTIA   \n",
       "1544070                City of Montebello, CA   \n",
       "1544071                           Walmart Inc   \n",
       "1544072  Blue Cross/Blue Shield of California   \n",
       "\n",
       "                                      UItorg     Amount Catcode Self  \\\n",
       "0                            AstraZeneca PLC  1370000.0   H4300    x   \n",
       "1                Multifamily Lenders Council    15000.0   F4600    n   \n",
       "2                               Albers Group    10000.0   Y4000    n   \n",
       "3        Western Telecommunications Alliance    75000.0   C4000    p   \n",
       "4         Financial Executives International    21650.0   F5000    p   \n",
       "...                                      ...        ...     ...  ...   \n",
       "1544068                     American Express   440000.0   F1400    p   \n",
       "1544069                                 CTIA    30000.0   C4300    i   \n",
       "1544070               City of Montebello, CA    20000.0   X3000    n   \n",
       "1544071                          Walmart Inc    80000.0   G4300    i   \n",
       "1544072               Blue Cross/Blue Shield   110000.0   F3200    s   \n",
       "\n",
       "         IncludeNSFS    Ind  Year Quarter       ReportType  \n",
       "0              False   True  2021      Q4        Amendment  \n",
       "1              False   True  2021      Q4  Standard Report  \n",
       "2              False   True  2021      Q4  Standard Report  \n",
       "3              False   True  2021      Q4  Standard Report  \n",
       "4              False   True  2021      Q4  Standard Report  \n",
       "...              ...    ...   ...     ...              ...  \n",
       "1544068        False   True  2022      Q4  Standard Report  \n",
       "1544069        False  False  2022      Q4  Standard Report  \n",
       "1544070        False   True  2022      Q4  Standard Report  \n",
       "1544071        False  False  2022      Q4  Standard Report  \n",
       "1544072        False   True  2022      Q4  Standard Report  \n",
       "\n",
       "[785595 rows x 13 columns]"
      ]
     },
     "execution_count": 238,
     "metadata": {},
     "output_type": "execute_result"
    }
   ],
   "source": [
    "# Extract quarter dynamically (first character + \"Q\")\n",
    "df_lobbying['Quarter'] = 'Q' + df_lobbying['Type'].str.extract(r'(\\d)')[0]\n",
    "\n",
    "# Extract report type based on suffix in 'Type' column\n",
    "df_lobbying['ReportType'] = df_lobbying['Type'].apply(lambda x: \n",
    "    'Standard Report' if len(x) == 2 else\n",
    "    'Amendment' if x.endswith(\"a\") else\n",
    "    'Amendment (No Activity)' if x.endswith('an') else\n",
    "    'No Activity' if x.endswith('n') else\n",
    "    'Termination' if x.endswith('t') else\n",
    "    \"Termination Amendment\" if x.endswith('ta') else\n",
    "    'Termination (No Activity)' if x.endswith('tn') else\n",
    "    'Unknown')\n",
    "\n",
    "df_lobbying.drop('Type',axis=1) # Dropping 'Type' column as it is uneccessary now. "
   ]
  },
  {
   "cell_type": "markdown",
   "metadata": {},
   "source": [
    "### Industry"
   ]
  },
  {
   "cell_type": "code",
   "execution_count": 239,
   "metadata": {},
   "outputs": [
    {
     "name": "stderr",
     "output_type": "stream",
     "text": [
      "Downloading...\n",
      "From: https://drive.google.com/uc?export=download&id=1yldZYLcZTLIMQ5Xa-e-ecGgQGFWv5n4A\n",
      "To: /Users/kristianmadslangrud/Documents/GitHub/master_thesis25/lob_indus.csv\n",
      "100%|██████████| 20.3M/20.3M [00:02<00:00, 9.46MB/s]\n"
     ]
    }
   ],
   "source": [
    "df_industry = load_csv(lob_indus, save_file = False)\n",
    "df_industry.columns = ['Client','Sub','Total','Year','Catcode']"
   ]
  },
  {
   "cell_type": "code",
   "execution_count": 241,
   "metadata": {},
   "outputs": [],
   "source": [
    "# Only including records after 2011.\n",
    "df_industry = df_industry[df_industry['Year'] >= 2011]\n",
    "\n",
    "# Capitalizing all inputs in Catcode column\n",
    "df_industry['Catcode'] = df_industry['Catcode'].str.upper()"
   ]
  },
  {
   "cell_type": "markdown",
   "metadata": {},
   "source": [
    "#### Catcode References"
   ]
  },
  {
   "cell_type": "code",
   "execution_count": 242,
   "metadata": {},
   "outputs": [
    {
     "name": "stderr",
     "output_type": "stream",
     "text": [
      "Downloading...\n",
      "From: https://drive.google.com/uc?export=download&id=1vfVA-v-lUMuykF9efl2oDN5DJK2t1PwA\n",
      "To: /Users/kristianmadslangrud/Documents/GitHub/master_thesis25/CatCodeReference.csv\n",
      "100%|██████████| 43.0k/43.0k [00:00<00:00, 1.58MB/s]\n"
     ]
    }
   ],
   "source": [
    "# Try reading the file with extra handling for irregularities\n",
    "df_catcode_references = load_csv(CatCodeReference, save_file = False)\n",
    "df_catcode_references.columns = ['Catcode','Catname','Catorder','Industry','Sector','SectorLong']"
   ]
  },
  {
   "cell_type": "code",
   "execution_count": 243,
   "metadata": {},
   "outputs": [],
   "source": [
    "# merging catcode reference with industry column\n",
    "df_industry = pd.merge(df_industry, df_catcode_references[['Catcode','Catname', 'Industry', 'Sector']],\n",
    "                     left_on='Catcode', right_on='Catcode', how='left')"
   ]
  },
  {
   "cell_type": "markdown",
   "metadata": {},
   "source": [
    "### Agency"
   ]
  },
  {
   "cell_type": "code",
   "execution_count": 244,
   "metadata": {},
   "outputs": [
    {
     "name": "stderr",
     "output_type": "stream",
     "text": [
      "Downloading...\n",
      "From (original): https://drive.google.com/uc?export=download&id=1CFi0Itpi_qg4X4wicg1FIg8S_FJfvCN0\n",
      "From (redirected): https://drive.google.com/uc?export=download&id=1CFi0Itpi_qg4X4wicg1FIg8S_FJfvCN0&confirm=t&uuid=382167b7-7f79-4eb1-bbc5-0fea547973e7\n",
      "To: /Users/kristianmadslangrud/Documents/GitHub/master_thesis25/lob_agency.csv\n",
      "100%|██████████| 256M/256M [00:19<00:00, 12.8MB/s] \n"
     ]
    }
   ],
   "source": [
    "df_agency = load_csv(lob_agency, save_file=False)\n",
    "df_agency.columns = ['UniqID','AgencyID','Agency']"
   ]
  },
  {
   "cell_type": "markdown",
   "metadata": {},
   "source": [
    "### Issues"
   ]
  },
  {
   "cell_type": "code",
   "execution_count": 246,
   "metadata": {},
   "outputs": [
    {
     "name": "stderr",
     "output_type": "stream",
     "text": [
      "Downloading...\n",
      "From (original): https://drive.google.com/uc?export=download&id=18-D_vW4dAHJlvFs4ARK4lgx6KdsAXWoq\n",
      "From (redirected): https://drive.google.com/uc?export=download&id=18-D_vW4dAHJlvFs4ARK4lgx6KdsAXWoq&confirm=t&uuid=36fb1aae-dec8-40dc-8479-d18f19123652\n",
      "To: /Users/kristianmadslangrud/Documents/GitHub/master_thesis25/lob_issue.csv\n",
      "100%|██████████| 787M/787M [01:07<00:00, 11.7MB/s] \n"
     ]
    }
   ],
   "source": [
    "df_issue = load_csv(lob_issue, save_file=False)\n",
    "df_issue.columns = ['SI_ID','UniqID','IssueID','Issue','SpecificIssue','Year']"
   ]
  },
  {
   "cell_type": "code",
   "execution_count": 247,
   "metadata": {},
   "outputs": [
    {
     "data": {
      "text/html": [
       "<div>\n",
       "<style scoped>\n",
       "    .dataframe tbody tr th:only-of-type {\n",
       "        vertical-align: middle;\n",
       "    }\n",
       "\n",
       "    .dataframe tbody tr th {\n",
       "        vertical-align: top;\n",
       "    }\n",
       "\n",
       "    .dataframe thead th {\n",
       "        text-align: right;\n",
       "    }\n",
       "</style>\n",
       "<table border=\"1\" class=\"dataframe\">\n",
       "  <thead>\n",
       "    <tr style=\"text-align: right;\">\n",
       "      <th></th>\n",
       "      <th>SI_ID</th>\n",
       "      <th>UniqID</th>\n",
       "      <th>Issue</th>\n",
       "      <th>SpecificIssue</th>\n",
       "      <th>Year</th>\n",
       "    </tr>\n",
       "  </thead>\n",
       "  <tbody>\n",
       "    <tr>\n",
       "      <th>0</th>\n",
       "      <td>3001624</td>\n",
       "      <td>02e92bd6-0159-495e-9d00-8a490a0be8be</td>\n",
       "      <td>Disaster &amp; Emergency Planning</td>\n",
       "      <td>Issues affecting manufacturer of railroad and ...</td>\n",
       "      <td>2022</td>\n",
       "    </tr>\n",
       "    <tr>\n",
       "      <th>1</th>\n",
       "      <td>3001625</td>\n",
       "      <td>02e92bd6-0159-495e-9d00-8a490a0be8be</td>\n",
       "      <td>Environment &amp; Superfund</td>\n",
       "      <td>Issues affecting manufacturer of railroad and ...</td>\n",
       "      <td>2022</td>\n",
       "    </tr>\n",
       "    <tr>\n",
       "      <th>2</th>\n",
       "      <td>3001626</td>\n",
       "      <td>02e92bd6-0159-495e-9d00-8a490a0be8be</td>\n",
       "      <td>Labor, Antitrust &amp; Workplace</td>\n",
       "      <td>Issues affecting manufacturer of railroad and ...</td>\n",
       "      <td>2022</td>\n",
       "    </tr>\n",
       "    <tr>\n",
       "      <th>3</th>\n",
       "      <td>3001627</td>\n",
       "      <td>02e92bd6-0159-495e-9d00-8a490a0be8be</td>\n",
       "      <td>Roads &amp; Highways</td>\n",
       "      <td>Issues affecting manufacturer of railroad and ...</td>\n",
       "      <td>2022</td>\n",
       "    </tr>\n",
       "    <tr>\n",
       "      <th>4</th>\n",
       "      <td>3001628</td>\n",
       "      <td>02e92bd6-0159-495e-9d00-8a490a0be8be</td>\n",
       "      <td>Railroads</td>\n",
       "      <td>Issues affecting manufacturer of railroad and ...</td>\n",
       "      <td>2022</td>\n",
       "    </tr>\n",
       "    <tr>\n",
       "      <th>...</th>\n",
       "      <td>...</td>\n",
       "      <td>...</td>\n",
       "      <td>...</td>\n",
       "      <td>...</td>\n",
       "      <td>...</td>\n",
       "    </tr>\n",
       "    <tr>\n",
       "      <th>3009859</th>\n",
       "      <td>3076640</td>\n",
       "      <td>0a62db56-bdc4-4f4c-9329-5b420066f53c</td>\n",
       "      <td>Small Business</td>\n",
       "      <td>Women's Business Center program reauthorizatio...</td>\n",
       "      <td>2022</td>\n",
       "    </tr>\n",
       "    <tr>\n",
       "      <th>3009860</th>\n",
       "      <td>3076641</td>\n",
       "      <td>0a6de630-f472-4dc2-a796-b58d67831573</td>\n",
       "      <td>Defense</td>\n",
       "      <td>Issues related to tungsten manufacturing</td>\n",
       "      <td>2022</td>\n",
       "    </tr>\n",
       "    <tr>\n",
       "      <th>3009861</th>\n",
       "      <td>3076642</td>\n",
       "      <td>0a7f2d03-7d7a-450c-b20a-a48c0fa93e92</td>\n",
       "      <td>Automotive Industry</td>\n",
       "      <td>Issues related to autonomous vehicles Cybersec...</td>\n",
       "      <td>2022</td>\n",
       "    </tr>\n",
       "    <tr>\n",
       "      <th>3009862</th>\n",
       "      <td>3076643</td>\n",
       "      <td>0a7f2d03-7d7a-450c-b20a-a48c0fa93e92</td>\n",
       "      <td>Banking</td>\n",
       "      <td>Financial services issues Industrial loan bank...</td>\n",
       "      <td>2022</td>\n",
       "    </tr>\n",
       "    <tr>\n",
       "      <th>3009863</th>\n",
       "      <td>3076644</td>\n",
       "      <td>0a7f2d03-7d7a-450c-b20a-a48c0fa93e92</td>\n",
       "      <td>Radio &amp; TV Broadcasting</td>\n",
       "      <td>Issues related to connected vehicles 5.9 GHz s...</td>\n",
       "      <td>2022</td>\n",
       "    </tr>\n",
       "  </tbody>\n",
       "</table>\n",
       "<p>1873079 rows × 5 columns</p>\n",
       "</div>"
      ],
      "text/plain": [
       "           SI_ID                                UniqID  \\\n",
       "0        3001624  02e92bd6-0159-495e-9d00-8a490a0be8be   \n",
       "1        3001625  02e92bd6-0159-495e-9d00-8a490a0be8be   \n",
       "2        3001626  02e92bd6-0159-495e-9d00-8a490a0be8be   \n",
       "3        3001627  02e92bd6-0159-495e-9d00-8a490a0be8be   \n",
       "4        3001628  02e92bd6-0159-495e-9d00-8a490a0be8be   \n",
       "...          ...                                   ...   \n",
       "3009859  3076640  0a62db56-bdc4-4f4c-9329-5b420066f53c   \n",
       "3009860  3076641  0a6de630-f472-4dc2-a796-b58d67831573   \n",
       "3009861  3076642  0a7f2d03-7d7a-450c-b20a-a48c0fa93e92   \n",
       "3009862  3076643  0a7f2d03-7d7a-450c-b20a-a48c0fa93e92   \n",
       "3009863  3076644  0a7f2d03-7d7a-450c-b20a-a48c0fa93e92   \n",
       "\n",
       "                                 Issue  \\\n",
       "0        Disaster & Emergency Planning   \n",
       "1              Environment & Superfund   \n",
       "2         Labor, Antitrust & Workplace   \n",
       "3                     Roads & Highways   \n",
       "4                            Railroads   \n",
       "...                                ...   \n",
       "3009859                 Small Business   \n",
       "3009860                        Defense   \n",
       "3009861            Automotive Industry   \n",
       "3009862                        Banking   \n",
       "3009863        Radio & TV Broadcasting   \n",
       "\n",
       "                                             SpecificIssue  Year  \n",
       "0        Issues affecting manufacturer of railroad and ...  2022  \n",
       "1        Issues affecting manufacturer of railroad and ...  2022  \n",
       "2        Issues affecting manufacturer of railroad and ...  2022  \n",
       "3        Issues affecting manufacturer of railroad and ...  2022  \n",
       "4        Issues affecting manufacturer of railroad and ...  2022  \n",
       "...                                                    ...   ...  \n",
       "3009859  Women's Business Center program reauthorizatio...  2022  \n",
       "3009860           Issues related to tungsten manufacturing  2022  \n",
       "3009861  Issues related to autonomous vehicles Cybersec...  2022  \n",
       "3009862  Financial services issues Industrial loan bank...  2022  \n",
       "3009863  Issues related to connected vehicles 5.9 GHz s...  2022  \n",
       "\n",
       "[1873079 rows x 5 columns]"
      ]
     },
     "execution_count": 247,
     "metadata": {},
     "output_type": "execute_result"
    }
   ],
   "source": [
    "# Only including records after 2011.\n",
    "df_issue = df_issue[df_issue['Year'] >= 2011]\n",
    "\n",
    "# Retrieving records with missing values for SpecificIssue \n",
    "specific_issue_missing = df_issue[df_issue['SpecificIssue'].isna()]\n",
    "\n",
    "# Imputing missing values in SpecificIssue column with value from Issue column. \n",
    "df_issue['SpecificIssue'] = df_issue['SpecificIssue'].fillna(df_issue['Issue'])\n",
    "\n",
    "# Dropping IssueID column as this has no value for our analysis. \n",
    "df_issue.drop('IssueID',axis=1)"
   ]
  },
  {
   "cell_type": "markdown",
   "metadata": {},
   "source": [
    "#### Bills"
   ]
  },
  {
   "cell_type": "code",
   "execution_count": 248,
   "metadata": {},
   "outputs": [
    {
     "name": "stderr",
     "output_type": "stream",
     "text": [
      "Downloading...\n",
      "From (original): https://drive.google.com/uc?export=download&id=1qqQvNXtdhyI8KYcctpVUZ3FoIwvjWaG1\n",
      "From (redirected): https://drive.google.com/uc?export=download&id=1qqQvNXtdhyI8KYcctpVUZ3FoIwvjWaG1&confirm=t&uuid=f866370a-03ea-4032-bd5b-5891778b91f6\n",
      "To: /Users/kristianmadslangrud/Documents/GitHub/master_thesis25/lob_bills.csv\n",
      "100%|██████████| 219M/219M [00:19<00:00, 11.0MB/s] \n"
     ]
    }
   ],
   "source": [
    "df_bills = load_csv(lob_bills, save_file=False)\n",
    "df_bills.columns = ['B_ID', 'SI_ID', 'CongNo', 'Bill_Name']"
   ]
  },
  {
   "cell_type": "code",
   "execution_count": 249,
   "metadata": {},
   "outputs": [],
   "source": [
    "# Importing Year column from the issues dataframe \n",
    "# this is to impute missing values for congress number by cross-referencing Year with a dictionary containing Year and Congress No. at the time. \n",
    "df_bills = df_bills.merge(df_issue[['SI_ID', 'Year']], on='SI_ID', how='left')\n",
    "\n",
    "# Dictionary mapping Congress by year. Retrieved from: https://www.congress.gov/help/field-values/congresses\n",
    "congress_number_by_year = {\n",
    "2025: 119.0, 2026: 119.0,2023: 118.0,2024: 118.0,2021: 117.0,2022: 117.0,2019: 116.0,2020: 116.0,\n",
    "2017: 115.0,2018: 115.0,2015: 114.0,2016: 114.0,2013: 113.0,2014: 113.0,2011: 112.0,\n",
    "2012: 112.0,2009: 111.0,2010: 111.0,2007: 110.0,2008: 110.0,2005: 109.0,2006: 109.0,\n",
    "2003: 108.0,2004: 108.0,2001: 107.0,2002: 107.0,1999: 106.0,2000: 106.0,1998: 105.0\n",
    "}\n",
    "\n",
    "# Impute missing values\n",
    "df_bills['CongNo'] = df_bills['CongNo'].fillna(df_bills['Year'].map(congress_number_by_year))\n",
    "\n",
    "# Dropping 'Year' column again\n",
    "df_bills = df_bills.drop('Year',axis=1)\n",
    "\n",
    "# Converting datatype of CongNo column\n",
    "df_bills['CongNo'] = df_bills['CongNo'].astype('Int64')"
   ]
  },
  {
   "cell_type": "code",
   "execution_count": 250,
   "metadata": {},
   "outputs": [],
   "source": [
    "# Dropping records with missing value in CongNo, as these records are not connected to Lobby Issues dataframe through Foreign Key - and are hence excessive\n",
    "df_bills = df_bills.dropna(subset=['CongNo'])"
   ]
  },
  {
   "cell_type": "code",
   "execution_count": 251,
   "metadata": {},
   "outputs": [],
   "source": [
    "df_bills[\"Bill_Name\"] = df_bills[\"Bill_Name\"].str.replace(r\"^H\\.?(\\d+)$\", r\"H.R.\\1\", regex=True)"
   ]
  },
  {
   "cell_type": "markdown",
   "metadata": {},
   "source": [
    "### Lobbyist"
   ]
  },
  {
   "cell_type": "code",
   "execution_count": 252,
   "metadata": {},
   "outputs": [
    {
     "name": "stderr",
     "output_type": "stream",
     "text": [
      "Downloading...\n",
      "From (original): https://drive.google.com/uc?export=download&id=1q1ZyLvUhsxsbPLdi_CmrNH0FqLoorr6p\n",
      "From (redirected): https://drive.google.com/uc?export=download&id=1q1ZyLvUhsxsbPLdi_CmrNH0FqLoorr6p&confirm=t&uuid=87d1a784-0cea-463b-a23f-5cf79d54c62c\n",
      "To: /Users/kristianmadslangrud/Documents/GitHub/master_thesis25/lob_lobbyist.csv\n",
      "100%|██████████| 410M/410M [00:24<00:00, 16.6MB/s] \n"
     ]
    }
   ],
   "source": [
    "df_lobbyist = load_csv(lob_lobbyist,save_file=False)\n",
    "df_lobbyist.columns = ['UniqID','Lobbyist_raw','Lobbyist','LobbyistID','Year','OfficialPosition','CID','Formercongmem']"
   ]
  },
  {
   "cell_type": "code",
   "execution_count": 253,
   "metadata": {},
   "outputs": [],
   "source": [
    "# Only including records after 2011.\n",
    "df_lobbyist = df_lobbyist[df_lobbyist['Year'] >= 2011]\n",
    "\n",
    "# Dropping missing values\n",
    "df_lobbyist = df_lobbyist.dropna(subset=['LobbyistID'])\n",
    "df_lobbyist = df_lobbyist.dropna(subset=['Year']) # Dropping this record as well as it does not have any UniqId\n",
    "\n",
    "# Dropping uneccessary column\n",
    "df_lobbyist = df_lobbyist.drop('Lobbyist_raw',axis=1)\n",
    "\n",
    "# Chaging data type of Year column\n",
    "df_lobbyist['Year'] = df_lobbyist['Year'].astype('Int64')\n",
    "\n",
    "# Imputing missing values in 'Formercongmem' column -- if CID = Blank --> 'n', if CID != Blank --> 'y'\n",
    "df_lobbyist.loc[df_lobbyist['Formercongmem'].isna(), 'Formercongmem'] = df_lobbyist['CID'].apply(\n",
    "    lambda x: 'n' if pd.isna(x) else 'y')\n",
    "\n",
    "# Changing data type of Formercongmem column to Boolean\n",
    "df_lobbyist['Formercongmem'] = df_lobbyist['Formercongmem'].map({'y': True, 'n': False}).astype(bool)\n",
    "\n",
    "# Imputing missing values for CID column\n",
    "df_lobbyist['CID'] = df_lobbyist['CID'].fillna(value='Not Congress Member')\n"
   ]
  },
  {
   "cell_type": "code",
   "execution_count": 254,
   "metadata": {},
   "outputs": [
    {
     "name": "stdout",
     "output_type": "stream",
     "text": [
      "41623\n"
     ]
    }
   ],
   "source": [
    "# Pringint unique values in official position column\n",
    "print(len(df_lobbyist['OfficialPosition'].unique()))\n",
    "\n",
    "# Considering the amount of missing values and unique values - OfficialPosition column is dropped due to providing small value to further analysis\n",
    "df_lobbyist = df_lobbyist.drop('OfficialPosition',axis=1)"
   ]
  },
  {
   "cell_type": "markdown",
   "metadata": {},
   "source": [
    "#### Candidate IDs"
   ]
  },
  {
   "cell_type": "code",
   "execution_count": 255,
   "metadata": {},
   "outputs": [
    {
     "name": "stderr",
     "output_type": "stream",
     "text": [
      "Downloading...\n",
      "From: https://drive.google.com/uc?export=download&id=1k2lhAcuSQbn5z7NN3USPEbX_Rg5VV_Ky\n",
      "To: /Users/kristianmadslangrud/Documents/GitHub/master_thesis25/CandidateIds.csv\n",
      "100%|██████████| 970k/970k [00:01<00:00, 681kB/s]\n"
     ]
    }
   ],
   "source": [
    "df_candidate = load_csv(CandidateIds,save_file=False)\n",
    "df_candidate.columns = ['CID', 'CRPName', 'Party', 'DistIDRunFor', 'FECCandID']"
   ]
  },
  {
   "cell_type": "code",
   "execution_count": 256,
   "metadata": {},
   "outputs": [],
   "source": [
    "# Merge on the common 'CID' column to include the columns from df_candidate\n",
    "df_lobbyist = pd.merge(\n",
    "    df_lobbyist,\n",
    "    df_candidate[['CID', 'CRPName', 'Party', 'DistIDRunFor', 'FECCandID']],\n",
    "    on='CID',\n",
    "    how='left'\n",
    ")"
   ]
  },
  {
   "cell_type": "markdown",
   "metadata": {},
   "source": [
    "## Narrowing Scope"
   ]
  },
  {
   "cell_type": "code",
   "execution_count": 257,
   "metadata": {},
   "outputs": [],
   "source": [
    "# Only including lobbying reports related to specific issues\n",
    "chosen_issues = ['Health Issues', 'Medical Research & Clin Labs', 'Pharmacy', 'Medicare & Medicaid', 'Science & Technology', 'Taxes']\n",
    "df_issue = df_issue[df_issue['Issue'].isin(chosen_issues)]"
   ]
  },
  {
   "cell_type": "code",
   "execution_count": 258,
   "metadata": {},
   "outputs": [],
   "source": [
    "# Dropping lobbying reports that are no longer referenced in df_issue table\n",
    "df_lobbying = df_lobbying[df_lobbying['UniqID'].isin(df_issue['UniqID'])]\n",
    "\n",
    "# dropping lobbyist records for lobbyists that are no longer involved in the lobbying reports from cleaned df_lobbying df.\n",
    "df_lobbyist = df_lobbyist[df_lobbyist['UniqID'].isin(df_lobbying['UniqID'])]\n",
    "\n",
    "# droppping bills records that are not related to any of the chosen issues. \n",
    "df_bills = df_bills[df_bills['SI_ID'].isin(df_issue['SI_ID'])]\n",
    "\n",
    "# droppping agency records that are not related to any of the current reports. \n",
    "df_agency = df_agency[df_agency['UniqID'].isin(df_lobbying['UniqID'])]\n",
    "\n",
    "# droppping industry records that are not related to any of the current reports.\n",
    "df_industry = df_industry[df_industry['Catcode'].isin(df_lobbying['Catcode'])]\n"
   ]
  },
  {
   "cell_type": "markdown",
   "metadata": {},
   "source": [
    "#### Importing additional information about bills"
   ]
  },
  {
   "cell_type": "code",
   "execution_count": 259,
   "metadata": {},
   "outputs": [
    {
     "name": "stderr",
     "output_type": "stream",
     "text": [
      "Downloading...\n",
      "From: https://drive.google.com/uc?export=download&id=1-MnzV0iZ2FPYiuQgOmggjmXvxGmBzYV8\n",
      "To: /Users/kristianmadslangrud/Documents/GitHub/master_thesis25/congress_bill_data.csv\n",
      "100%|██████████| 4.26M/4.26M [00:00<00:00, 7.13MB/s]\n"
     ]
    }
   ],
   "source": [
    "df_congress_bill_data = load_csv(congress_bill_data_id, save_file=False)\n",
    "df_congress_bill_data.columns = ['bill_number','congress_number','bill_title','policy_area','introduced_date',\n",
    "                                 'bill_type','full_bill_code','sponsor_name','sponsor_party','sponsor_bioguide_id']\n",
    "df_congress_bill_data = df_congress_bill_data.iloc[1:] # dropping first row of dataframe"
   ]
  },
  {
   "cell_type": "code",
   "execution_count": 260,
   "metadata": {},
   "outputs": [],
   "source": [
    "df_congress_bill_data['congress_number'] = df_congress_bill_data['congress_number'].astype('Int64')\n",
    "df_congress_bill_data = df_congress_bill_data.merge(\n",
    "    df_bills[['B_ID', 'CongNo', 'Bill_Name']],\n",
    "    left_on=['full_bill_code', 'congress_number'],\n",
    "    right_on=['Bill_Name', 'CongNo'],\n",
    "    how='left'\n",
    ").drop(columns=['Bill_Name', 'CongNo'],axis = 1)  # Drop duplicate columns after merge if needed"
   ]
  },
  {
   "cell_type": "code",
   "execution_count": 261,
   "metadata": {},
   "outputs": [],
   "source": [
    "# Dropping bill records we don't have any data sponsor data on. \n",
    "df_bills = df_bills[df_bills['B_ID'].isin(df_congress_bill_data['B_ID'])]"
   ]
  },
  {
   "cell_type": "markdown",
   "metadata": {},
   "source": [
    "## Restructuring Data for Efficiency"
   ]
  },
  {
   "cell_type": "markdown",
   "metadata": {},
   "source": [
    "#### Main Table"
   ]
  },
  {
   "cell_type": "code",
   "execution_count": null,
   "metadata": {},
   "outputs": [],
   "source": [
    "# Merge all tables on 'UniqID' to capture all required fields\n",
    "df_master_table = (\n",
    "    df_lobbying\n",
    "    .merge(df_agency, on='UniqID', how='left')\n",
    "    .merge(df_lobbyist, on='UniqID', how='left')\n",
    "    .merge(df_issue, on='UniqID', how='left')\n",
    ")\n",
    "\n",
    "# Select only the required unique columns\n",
    "df_master_table = df_master_table[['UniqID', 'AgencyID', 'LobbyistID', 'SI_ID']].drop_duplicates()\n",
    "\n",
    "# Add a unique MasterID\n",
    "df_master_table.insert(0, 'MasterID', range(1001, 1001 + len(df_master_table)))\n",
    "\n",
    "df_master_table['AgencyID'] = df_master_table['AgencyID'].astype('Int64') # changing data type of AgencyID column"
   ]
  },
  {
   "cell_type": "code",
   "execution_count": 263,
   "metadata": {},
   "outputs": [
    {
     "data": {
      "text/plain": [
       "MasterID          0\n",
       "UniqID            0\n",
       "AgencyID      10211\n",
       "LobbyistID      976\n",
       "SI_ID             0\n",
       "dtype: int64"
      ]
     },
     "execution_count": 263,
     "metadata": {},
     "output_type": "execute_result"
    }
   ],
   "source": [
    "df_master_table.isnull().sum()"
   ]
  },
  {
   "cell_type": "markdown",
   "metadata": {},
   "source": [
    "#### Industry Table"
   ]
  },
  {
   "cell_type": "code",
   "execution_count": 264,
   "metadata": {},
   "outputs": [],
   "source": [
    "#Summarize lobbying data to only include Ind=True records\n",
    "df_filtered_industry_summary = (\n",
    "    df_lobbying[df_lobbying[\"Ind\"] == True]\n",
    "    .groupby([\"Catcode\", \"Year\"])\n",
    "    .agg(\n",
    "        Total_Lobbying_Reported=(\"Amount\", \"sum\"),  # Sum lobbying spending that counts towards industry totals\n",
    "    ).reset_index())\n",
    "\n",
    "# Summarize industry data by Catcode + Year (CPK in this table)\n",
    "df_industry_sum = (\n",
    "    df_industry.groupby([\"Catcode\", \"Year\"])\n",
    "    .agg(\n",
    "        Total_Lobbying_Spending=(\"Total\", \"sum\"),  # Sum total spending per industry per year\n",
    "        Unique_Clients=(\"Client\", \"nunique\")  # Count unique clients per industry per year\n",
    "    ).reset_index()\n",
    ")\n",
    "\n",
    "# Merge with industry summary (which contains total lobbying spending and unique clients)\n",
    "df_industry_summary = df_filtered_industry_summary.merge(\n",
    "    df_industry_sum,\n",
    "    on=[\"Catcode\", \"Year\"],\n",
    "    how=\"left\")"
   ]
  },
  {
   "cell_type": "markdown",
   "metadata": {},
   "source": [
    "#### Agency Table"
   ]
  },
  {
   "cell_type": "code",
   "execution_count": 265,
   "metadata": {},
   "outputs": [],
   "source": [
    "# Dropping duplicate entries of AgencyID and Agency combination\n",
    "df_agency_final = df_agency[['AgencyID', 'Agency']].drop_duplicates()\n",
    "\n",
    "# Displaying potential duplicates in AgencyID column\n",
    "df_agency_final[df_agency_final.duplicated(subset=['AgencyID'], keep=False)].sort_values('AgencyID')\n",
    "\n",
    "# due to some inconsistencies in the typing of Agency Name, we have a few duplicated Agency ID's. \n",
    "to_drop = [\n",
    "    'Federal Deposit Insurance Commission',\n",
    "    'Postal Rate Commission',\n",
    "    'Defense Security Assistance Agency',\n",
    "    'ACCESS Board',\n",
    "    'Office of National Aids Policy'\n",
    "]\n",
    "df_agency_final = df_agency_final[~df_agency_final['Agency'].isin(to_drop)]\n"
   ]
  },
  {
   "cell_type": "markdown",
   "metadata": {},
   "source": [
    "#### Lobbyist Table"
   ]
  },
  {
   "cell_type": "code",
   "execution_count": 266,
   "metadata": {},
   "outputs": [],
   "source": [
    "df_lobbyist_final = df_lobbyist[['LobbyistID', 'Lobbyist', 'Formercongmem', 'Party']].drop_duplicates()"
   ]
  },
  {
   "cell_type": "code",
   "execution_count": 267,
   "metadata": {},
   "outputs": [],
   "source": [
    "# Imputing missing values for political party for former congress-men\n",
    "missing_political_party = {\n",
    "    'Y0000022381L' : 'R','Y0000014172L' : 'R','Y0000041393L' : 'R','Y0000041198L' : 'D','Y0000031994L' : 'R','Y0000040464L' : 'R',\n",
    "    'Y0000041214L' : 'D','Y0000040343L' : 'R','Y0000026610L' : 'R','Y0000042045L' : 'R','Y0000041638L' : 'R','Y0000027785L' : 'R',\n",
    "    'Y0000041137L' : 'D','Y0000009728L' : 'R','Y0000041060L' : 'R','Y0000027979L' : 'R','Y0000040107L' : 'D','Y0000030165L' : 'D',\n",
    "    'Y0000008316L' : 'R','Y0000041693L' : 'D','Y0000041437L' : 'D','Y0000000158L' : 'R','Y0000040464M' : 'R','Y0000040575L' : 'R',\n",
    "    'Y0000042027L' : 'D','Y0000009666L' : 'D','Y0000038683L' : 'R','Y0000046534L' : 'R','Y0000041860L' : 'D','Y0000028461L' : 'R',\n",
    "    'Y0000014475L' : 'D','Y0000017606L' : 'D','Y0000011321L' : 'R','Y0000042041L' : 'R','Y0000041375L' : 'D','Y0000041586L' : '3',\n",
    "    'Y0000041364L' : 'D','Y0000017415L' : 'R','Y0000008436L' : 'R','Y0000045198L' : 'R','Y0000006265L' : 'R','Y0000035408L' : 'R',\n",
    "    'Y0000040391L' : 'R','Y0000041827L' : 'R','Y0000041317L' : 'R','Y0000042035L' : 'D','Y0000040953L' : 'D','Y0000012587L' : 'D',\n",
    "    'Y0000000545L' : 'D','Y0000005168L' : 'D','Y0000005429L' : 'R','Y0000028048L' : 'R','Y0000039653L' : 'D','Y0000015675L' : 'D',\n",
    "    'Y0000014080L' : 'D','Y0000041094L' : 'D','Y0000025402L' : 'D','Y0000033912L' : 'R','Y0000027950L' : 'R','Y0000003201L' : 'D',\n",
    "    'Y0000046532L' : 'D','Y0000027397L' : 'D','Y0000040428L' : 'R','Y0000017752L' : 'D','Y0000000969L' : 'D','Y0000016284L' : 'R',\n",
    "    'Y0000001540L' : 'D','Y0000008788L' : 'D','Y0000055101L' : 'D','Y0000019350L' : 'R','Y0000028862L' : 'D','Y0000047746L' : 'D',\n",
    "    'Y0000020586L' : 'D','Y0000007555L' : 'R'\n",
    "    }\n",
    "\n",
    "df_lobbyist_final['Party'] = df_lobbyist_final['Party'].fillna(df_lobbyist_final['LobbyistID'].map(missing_political_party))\n"
   ]
  },
  {
   "cell_type": "markdown",
   "metadata": {},
   "source": [
    "#### Issue Table"
   ]
  },
  {
   "cell_type": "code",
   "execution_count": null,
   "metadata": {},
   "outputs": [],
   "source": [
    "# Only keeping necessary columns for new table\n",
    "df_issue_final = df_issue[['SI_ID','Issue','SpecificIssue','Year']]\n",
    "\n",
    "df_issue_final = df_issue_final.merge(\n",
    "    df_bills[['SI_ID','B_ID']],\n",
    "    on = 'SI_ID',\n",
    "    how = 'left'\n",
    ")"
   ]
  },
  {
   "cell_type": "markdown",
   "metadata": {},
   "source": [
    "#### Bills Table"
   ]
  },
  {
   "cell_type": "code",
   "execution_count": null,
   "metadata": {},
   "outputs": [],
   "source": [
    "df_bills_final = df_bills[['B_ID','CongNo','Bill_Name']] # only keeping necessary columns\n",
    "df_bills_final = df_bills_final[['B_ID', 'CongNo', 'Bill_Name']].drop_duplicates() # Dropping duplicates from dataframe. "
   ]
  },
  {
   "cell_type": "markdown",
   "metadata": {},
   "source": [
    "#### Sponsor Table"
   ]
  },
  {
   "cell_type": "code",
   "execution_count": 297,
   "metadata": {},
   "outputs": [],
   "source": [
    "# Only keeping necessary columns\n",
    "df_sponsor = df_congress_bill_data[['sponsor_bioguide_id','sponsor_name','sponsor_party','B_ID']]"
   ]
  },
  {
   "cell_type": "code",
   "execution_count": 301,
   "metadata": {},
   "outputs": [
    {
     "data": {
      "text/html": [
       "<div>\n",
       "<style scoped>\n",
       "    .dataframe tbody tr th:only-of-type {\n",
       "        vertical-align: middle;\n",
       "    }\n",
       "\n",
       "    .dataframe tbody tr th {\n",
       "        vertical-align: top;\n",
       "    }\n",
       "\n",
       "    .dataframe thead th {\n",
       "        text-align: right;\n",
       "    }\n",
       "</style>\n",
       "<table border=\"1\" class=\"dataframe\">\n",
       "  <thead>\n",
       "    <tr style=\"text-align: right;\">\n",
       "      <th></th>\n",
       "      <th>sponsor_bioguide_id</th>\n",
       "      <th>sponsor_name</th>\n",
       "      <th>sponsor_party</th>\n",
       "      <th>B_ID</th>\n",
       "    </tr>\n",
       "  </thead>\n",
       "  <tbody>\n",
       "    <tr>\n",
       "      <th>1463326</th>\n",
       "      <td>NaN</td>\n",
       "      <td>NaN</td>\n",
       "      <td>NaN</td>\n",
       "      <td>hjres45-111</td>\n",
       "    </tr>\n",
       "    <tr>\n",
       "      <th>1543604</th>\n",
       "      <td>NaN</td>\n",
       "      <td>NaN</td>\n",
       "      <td>NaN</td>\n",
       "      <td>ZZ7020917</td>\n",
       "    </tr>\n",
       "    <tr>\n",
       "      <th>1543605</th>\n",
       "      <td>NaN</td>\n",
       "      <td>NaN</td>\n",
       "      <td>NaN</td>\n",
       "      <td>ZZ7021646</td>\n",
       "    </tr>\n",
       "    <tr>\n",
       "      <th>1543606</th>\n",
       "      <td>NaN</td>\n",
       "      <td>NaN</td>\n",
       "      <td>NaN</td>\n",
       "      <td>ZZ7022752</td>\n",
       "    </tr>\n",
       "    <tr>\n",
       "      <th>1543607</th>\n",
       "      <td>NaN</td>\n",
       "      <td>NaN</td>\n",
       "      <td>NaN</td>\n",
       "      <td>ZZ7027776</td>\n",
       "    </tr>\n",
       "    <tr>\n",
       "      <th>...</th>\n",
       "      <td>...</td>\n",
       "      <td>...</td>\n",
       "      <td>...</td>\n",
       "      <td>...</td>\n",
       "    </tr>\n",
       "    <tr>\n",
       "      <th>1543693</th>\n",
       "      <td>NaN</td>\n",
       "      <td>NaN</td>\n",
       "      <td>NaN</td>\n",
       "      <td>ZZ7190094</td>\n",
       "    </tr>\n",
       "    <tr>\n",
       "      <th>1607083</th>\n",
       "      <td>NaN</td>\n",
       "      <td>NaN</td>\n",
       "      <td>NaN</td>\n",
       "      <td>ZZ6846510</td>\n",
       "    </tr>\n",
       "    <tr>\n",
       "      <th>1607132</th>\n",
       "      <td>NaN</td>\n",
       "      <td>NaN</td>\n",
       "      <td>NaN</td>\n",
       "      <td>ZZ6847579</td>\n",
       "    </tr>\n",
       "    <tr>\n",
       "      <th>1607133</th>\n",
       "      <td>NaN</td>\n",
       "      <td>NaN</td>\n",
       "      <td>NaN</td>\n",
       "      <td>ZZ6889222</td>\n",
       "    </tr>\n",
       "    <tr>\n",
       "      <th>1607538</th>\n",
       "      <td>NaN</td>\n",
       "      <td>NaN</td>\n",
       "      <td>NaN</td>\n",
       "      <td>ZZ6864232</td>\n",
       "    </tr>\n",
       "  </tbody>\n",
       "</table>\n",
       "<p>95 rows × 4 columns</p>\n",
       "</div>"
      ],
      "text/plain": [
       "        sponsor_bioguide_id sponsor_name sponsor_party         B_ID\n",
       "1463326                 NaN          NaN           NaN  hjres45-111\n",
       "1543604                 NaN          NaN           NaN    ZZ7020917\n",
       "1543605                 NaN          NaN           NaN    ZZ7021646\n",
       "1543606                 NaN          NaN           NaN    ZZ7022752\n",
       "1543607                 NaN          NaN           NaN    ZZ7027776\n",
       "...                     ...          ...           ...          ...\n",
       "1543693                 NaN          NaN           NaN    ZZ7190094\n",
       "1607083                 NaN          NaN           NaN    ZZ6846510\n",
       "1607132                 NaN          NaN           NaN    ZZ6847579\n",
       "1607133                 NaN          NaN           NaN    ZZ6889222\n",
       "1607538                 NaN          NaN           NaN    ZZ6864232\n",
       "\n",
       "[95 rows x 4 columns]"
      ]
     },
     "execution_count": 301,
     "metadata": {},
     "output_type": "execute_result"
    }
   ],
   "source": [
    "df_sponsor[df_sponsor['sponsor_bioguide_id'].isna()]"
   ]
  }
 ],
 "metadata": {
  "kernelspec": {
   "display_name": "Python 3",
   "language": "python",
   "name": "python3"
  },
  "language_info": {
   "codemirror_mode": {
    "name": "ipython",
    "version": 3
   },
   "file_extension": ".py",
   "mimetype": "text/x-python",
   "name": "python",
   "nbconvert_exporter": "python",
   "pygments_lexer": "ipython3",
   "version": "3.9.6"
  }
 },
 "nbformat": 4,
 "nbformat_minor": 2
}
