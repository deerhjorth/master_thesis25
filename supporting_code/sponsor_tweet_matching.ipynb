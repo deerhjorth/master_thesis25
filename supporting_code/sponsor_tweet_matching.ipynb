{
 "cells": [
  {
   "cell_type": "code",
   "execution_count": null,
   "id": "a7a832bc",
   "metadata": {},
   "outputs": [],
   "source": [
    "# If necessary, install packages\n",
    "!pip install -r requirements.txt"
   ]
  },
  {
   "cell_type": "code",
   "execution_count": null,
   "id": "35256a76",
   "metadata": {},
   "outputs": [],
   "source": [
    "import gdown\n",
    "import os\n",
    "import difflib\n",
    "import pandas as pd"
   ]
  },
  {
   "cell_type": "code",
   "execution_count": null,
   "id": "7e5da75f",
   "metadata": {},
   "outputs": [],
   "source": [
    "# Function to match twitter accounts with bill sponsors\n",
    "def match_sponsor_simple(name_clean):\n",
    "    choices = historical_df[\"normalized_name\"].tolist() # tweet dataframe\n",
    "    match = difflib.get_close_matches(name_clean, choices, n=1, cutoff=0.7)\n",
    "    if match:\n",
    "        match_row = historical_df[historical_df[\"normalized_name\"] == match[0]].iloc[0]\n",
    "        score = difflib.SequenceMatcher(None, name_clean, match[0]).ratio()\n",
    "        return pd.Series({\n",
    "            \"matched_name\": match_row[\"matched_name\"],\n",
    "            \"twitter_screen_name\": match_row[\"screen_name\"],\n",
    "            \"twitter_id\": match_row[\"twitter_id\"],\n",
    "            \"match_score\": round(score * 100, 1),\n",
    "            \"match_method\": \"fuzzy\",\n",
    "            \"flag_review\": score < 0.85\n",
    "        })\n",
    "    return pd.Series({\n",
    "        \"matched_name\": None,\n",
    "        \"twitter_screen_name\": None,\n",
    "        \"twitter_id\": None,\n",
    "        \"match_score\": None,\n",
    "        \"match_method\": None,\n",
    "        \"flag_review\": True\n",
    "    })\n",
    "\n",
    "# Apply matching with flagging\n",
    "matched_info_simple = sponsor_df[\"normalized_name_clean\"].apply(match_sponsor_simple) # sponsor dataframe\n",
    "final_matches_flagged = pd.concat([sponsor_df[\"raw_name\"], matched_info_simple], axis=1)\n"
   ]
  }
 ],
 "metadata": {
  "kernelspec": {
   "display_name": "Python 3",
   "language": "python",
   "name": "python3"
  },
  "language_info": {
   "codemirror_mode": {
    "name": "ipython",
    "version": 3
   },
   "file_extension": ".py",
   "mimetype": "text/x-python",
   "name": "python",
   "nbconvert_exporter": "python",
   "pygments_lexer": "ipython3",
   "version": "3.9.6"
  }
 },
 "nbformat": 4,
 "nbformat_minor": 5
}
