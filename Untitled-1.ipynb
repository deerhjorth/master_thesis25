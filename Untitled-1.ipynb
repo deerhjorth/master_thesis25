{
 "cells": [
  {
   "cell_type": "code",
   "execution_count": 7,
   "metadata": {},
   "outputs": [
    {
     "name": "stdout",
     "output_type": "stream",
     "text": [
      "Defaulting to user installation because normal site-packages is not writeable\n",
      "Requirement already satisfied: pandas in /Users/kristianmadslangrud/Library/Python/3.9/lib/python/site-packages (from -r requirements.txt (line 1)) (2.2.2)\n",
      "Requirement already satisfied: numpy in /Users/kristianmadslangrud/Library/Python/3.9/lib/python/site-packages (from -r requirements.txt (line 2)) (1.26.4)\n",
      "Requirement already satisfied: matplotlib in /Users/kristianmadslangrud/Library/Python/3.9/lib/python/site-packages (from -r requirements.txt (line 3)) (3.8.4)\n",
      "Requirement already satisfied: requests in /Users/kristianmadslangrud/Library/Python/3.9/lib/python/site-packages (from -r requirements.txt (line 4)) (2.31.0)\n",
      "Requirement already satisfied: python-dateutil>=2.8.2 in /Users/kristianmadslangrud/Library/Python/3.9/lib/python/site-packages (from pandas->-r requirements.txt (line 1)) (2.9.0.post0)\n",
      "Requirement already satisfied: pytz>=2020.1 in /Users/kristianmadslangrud/Library/Python/3.9/lib/python/site-packages (from pandas->-r requirements.txt (line 1)) (2024.1)\n",
      "Requirement already satisfied: tzdata>=2022.7 in /Users/kristianmadslangrud/Library/Python/3.9/lib/python/site-packages (from pandas->-r requirements.txt (line 1)) (2024.1)\n",
      "Requirement already satisfied: contourpy>=1.0.1 in /Users/kristianmadslangrud/Library/Python/3.9/lib/python/site-packages (from matplotlib->-r requirements.txt (line 3)) (1.2.1)\n",
      "Requirement already satisfied: cycler>=0.10 in /Users/kristianmadslangrud/Library/Python/3.9/lib/python/site-packages (from matplotlib->-r requirements.txt (line 3)) (0.12.1)\n",
      "Requirement already satisfied: fonttools>=4.22.0 in /Users/kristianmadslangrud/Library/Python/3.9/lib/python/site-packages (from matplotlib->-r requirements.txt (line 3)) (4.51.0)\n",
      "Requirement already satisfied: kiwisolver>=1.3.1 in /Users/kristianmadslangrud/Library/Python/3.9/lib/python/site-packages (from matplotlib->-r requirements.txt (line 3)) (1.4.5)\n",
      "Requirement already satisfied: packaging>=20.0 in /Users/kristianmadslangrud/Library/Python/3.9/lib/python/site-packages (from matplotlib->-r requirements.txt (line 3)) (24.0)\n",
      "Requirement already satisfied: pillow>=8 in /Users/kristianmadslangrud/Library/Python/3.9/lib/python/site-packages (from matplotlib->-r requirements.txt (line 3)) (10.3.0)\n",
      "Requirement already satisfied: pyparsing>=2.3.1 in /Users/kristianmadslangrud/Library/Python/3.9/lib/python/site-packages (from matplotlib->-r requirements.txt (line 3)) (3.1.2)\n",
      "Requirement already satisfied: importlib-resources>=3.2.0 in /Users/kristianmadslangrud/Library/Python/3.9/lib/python/site-packages (from matplotlib->-r requirements.txt (line 3)) (6.4.0)\n",
      "Requirement already satisfied: charset-normalizer<4,>=2 in /Users/kristianmadslangrud/Library/Python/3.9/lib/python/site-packages (from requests->-r requirements.txt (line 4)) (3.3.2)\n",
      "Requirement already satisfied: idna<4,>=2.5 in /Users/kristianmadslangrud/Library/Python/3.9/lib/python/site-packages (from requests->-r requirements.txt (line 4)) (3.7)\n",
      "Requirement already satisfied: urllib3<3,>=1.21.1 in /Users/kristianmadslangrud/Library/Python/3.9/lib/python/site-packages (from requests->-r requirements.txt (line 4)) (2.2.1)\n",
      "Requirement already satisfied: certifi>=2017.4.17 in /Users/kristianmadslangrud/Library/Python/3.9/lib/python/site-packages (from requests->-r requirements.txt (line 4)) (2024.2.2)\n",
      "Requirement already satisfied: zipp>=3.1.0 in /Users/kristianmadslangrud/Library/Python/3.9/lib/python/site-packages (from importlib-resources>=3.2.0->matplotlib->-r requirements.txt (line 3)) (3.18.1)\n",
      "Requirement already satisfied: six>=1.5 in /Library/Developer/CommandLineTools/Library/Frameworks/Python3.framework/Versions/3.9/lib/python3.9/site-packages (from python-dateutil>=2.8.2->pandas->-r requirements.txt (line 1)) (1.15.0)\n"
     ]
    }
   ],
   "source": [
    "# If necessary, install packages\n",
    "!pip install -r requirements.txt"
   ]
  },
  {
   "cell_type": "code",
   "execution_count": null,
   "metadata": {},
   "outputs": [
    {
     "name": "stderr",
     "output_type": "stream",
     "text": [
      "/Users/kristianmadslangrud/Library/Python/3.9/lib/python/site-packages/urllib3/__init__.py:35: NotOpenSSLWarning: urllib3 v2 only supports OpenSSL 1.1.1+, currently the 'ssl' module is compiled with 'LibreSSL 2.8.3'. See: https://github.com/urllib3/urllib3/issues/3020\n",
      "  warnings.warn(\n"
     ]
    },
    {
     "name": "stdout",
     "output_type": "stream",
     "text": [
      "Data retrieved successfully for page 1\n",
      "Data retrieved successfully for page 2\n",
      "Data retrieved successfully for page 3\n",
      "Data retrieved successfully for page 4\n",
      "Data retrieved successfully for page 5\n",
      "Data retrieved successfully for page 6\n",
      "Data retrieved successfully for page 7\n",
      "Data retrieved successfully for page 8\n",
      "Data retrieved successfully for page 9\n",
      "Data retrieved successfully for page 10\n",
      "All data saved to contributions_data.json\n"
     ]
    }
   ],
   "source": [
    "import pandas as pd\n",
    "import json\n",
    "import requests\n",
    "\n",
    "#link: https://lda.senate.gov/filings/public/filing/search/?registrant=&registrant_country=&registrant_ppb_country=&client=&client_state=&client_country=&client_ppb_country=&lobbyist=&lobbyist_covered_position=&lobbyist_conviction_disclosure=&lobbyist_conviction_date_range_from=&lobbyist_conviction_date_range_to=&report_period=&report_year=&report_dt_posted_from=&report_dt_posted_to=&report_amount_reported_min=&report_amount_reported_max=&report_filing_uuid=&report_house_doc_id=&report_issue_area_description=&affiliated_organization=&affiliated_organization_country=&foreign_entity=&foreign_entity_country=&foreign_entity_ppb_country=&foreign_entity_ownership_percentage_min=&foreign_entity_ownership_percentage_max=&search=search#js_searchFormTitle\n",
    "\n",
    "# Base URL\n",
    "url = \"https://lda.senate.gov/api/v1/contributions/\"\n",
    "\n",
    "# API key\n",
    "api_key = \"5b5990914f495c69cb67eafc715dcfaef1ec825d\"\n",
    "\n",
    "# Headers for authorization\n",
    "headers = {\"Authorization\": f\"Token {api_key}\",\n",
    "    \"Content-Type\": \"application/json\"}\n",
    "\n",
    "# Query parameters\n",
    "params = {\n",
    "\"filing_year\": 2024,  # fetch filings from 2024\n",
    "    \"page_size\": 25       # 25 is max\n",
    "}\n",
    "\n",
    "number_of_pages = 10\n",
    "\n",
    "# List to collect data from all pages\n",
    "all_data_contributions = []\n",
    "\n",
    "# Loop through each page\n",
    "for page in range(1, number_of_pages + 1):\n",
    "    params[\"page\"] = page \n",
    "    response = requests.get(url, headers=headers, params=params)\n",
    "    \n",
    "    if response.status_code == 200:\n",
    "        page_data = response.json()\n",
    "        all_data_contributions.extend(page_data.get(\"results\", []))  # Append results to the list\n",
    "        print(f\"Data retrieved successfully for page {page}\")\n",
    "    else:\n",
    "        print(f\"Request failed for page {page} with status code {response.status_code}: {response.text}\")\n",
    "\n",
    "# Save all data to a JSON file\n",
    "with open(\"contributions_data.json\", \"w\") as file:\n",
    "    json.dump(all_data_contributions, file, indent=4)\n",
    "\n",
    "print(\"All data saved to contributions_data.json\")"
   ]
  },
  {
   "cell_type": "code",
   "execution_count": 10,
   "metadata": {},
   "outputs": [],
   "source": [
    "df_contributions = pd.read_json(\"contributions_data.json\")"
   ]
  },
  {
   "cell_type": "code",
   "execution_count": 12,
   "metadata": {},
   "outputs": [
    {
     "name": "stdout",
     "output_type": "stream",
     "text": [
      "Data retrieved successfully for page 1\n",
      "Data retrieved successfully for page 2\n",
      "Data retrieved successfully for page 3\n",
      "Data retrieved successfully for page 4\n",
      "Data retrieved successfully for page 5\n",
      "Data retrieved successfully for page 6\n",
      "Data retrieved successfully for page 7\n",
      "Data retrieved successfully for page 8\n",
      "Data retrieved successfully for page 9\n",
      "Data retrieved successfully for page 10\n",
      "All data saved to filings_data.json\n"
     ]
    }
   ],
   "source": [
    "import requests\n",
    "import json\n",
    "import pandas as pd\n",
    "\n",
    "# Base URL\n",
    "url = \"https://lda.senate.gov/api/v1/filings/\"\n",
    "\n",
    "# API key\n",
    "api_key = \"5b5990914f495c69cb67eafc715dcfaef1ec825d\"\n",
    "\n",
    "# Headers for authorization\n",
    "headers = {\n",
    "    \"Authorization\": f\"Token {api_key}\",\n",
    "    \"Content-Type\": \"application/json\"\n",
    "}\n",
    "\n",
    "# Query parameters\n",
    "params = {\n",
    "    \"filing_year\": 2024,  # fetch filings from 2024\n",
    "    \"page_size\": 25       # 25 is max\n",
    "}\n",
    "\n",
    "number_of_pages = 10 \n",
    "\n",
    "# List to collect data from all pages\n",
    "all_data_filings = []\n",
    "\n",
    "# Loop through each page\n",
    "for page in range(1, number_of_pages + 1):\n",
    "    params[\"page\"] = page \n",
    "    response = requests.get(url, headers=headers, params=params)\n",
    "    \n",
    "    if response.status_code == 200:\n",
    "        page_data = response.json()\n",
    "        all_data_filings.extend(page_data.get(\"results\", []))  # Append results to the list\n",
    "        print(f\"Data retrieved successfully for page {page}\")\n",
    "    else:\n",
    "        print(f\"Request failed for page {page} with status code {response.status_code}: {response.text}\")\n",
    "\n",
    "# Save all data to a JSON file\n",
    "with open(\"filings_data.json\", \"w\") as file:\n",
    "    json.dump(all_data_filings, file, indent=4)\n",
    "\n",
    "print(\"All data saved to filings_data.json\")"
   ]
  },
  {
   "cell_type": "code",
   "execution_count": 13,
   "metadata": {},
   "outputs": [],
   "source": [
    "df_filings = pd.read_json(\"filings_data.json\")"
   ]
  }
 ],
 "metadata": {
  "kernelspec": {
   "display_name": "Python 3",
   "language": "python",
   "name": "python3"
  },
  "language_info": {
   "codemirror_mode": {
    "name": "ipython",
    "version": 3
   },
   "file_extension": ".py",
   "mimetype": "text/x-python",
   "name": "python",
   "nbconvert_exporter": "python",
   "pygments_lexer": "ipython3",
   "version": "3.9.6"
  }
 },
 "nbformat": 4,
 "nbformat_minor": 2
}
