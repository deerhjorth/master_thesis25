{
 "cells": [
  {
   "cell_type": "code",
   "execution_count": null,
   "metadata": {},
   "outputs": [],
   "source": [
    "https://drive.google.com/file/d/1CFi0Itpi_qg4X4wicg1FIg8S_FJfvCN0/view?usp=share_link"
   ]
  },
  {
   "cell_type": "code",
   "execution_count": 1,
   "metadata": {},
   "outputs": [
    {
     "name": "stderr",
     "output_type": "stream",
     "text": [
      "/var/folders/bm/yntdr4q97s74g63m6p8162rw0000gn/T/ipykernel_6150/1555952506.py:1: DeprecationWarning: \n",
      "Pyarrow will become a required dependency of pandas in the next major release of pandas (pandas 3.0),\n",
      "(to allow more performant data types, such as the Arrow string type, and better interoperability with other libraries)\n",
      "but was not found to be installed on your system.\n",
      "If this would cause problems for you,\n",
      "please provide us feedback at https://github.com/pandas-dev/pandas/issues/54466\n",
      "        \n",
      "  import pandas as pd\n"
     ]
    },
    {
     "name": "stdout",
     "output_type": "stream",
     "text": [
      "Empty DataFrame\n",
      "Columns: [<!DOCTYPE html><html><head><title>Google Drive - Virus scan warning</title><meta http-equiv=\"content-type\" content=\"text/html; charset=utf-8\"/><style nonce=\"LZqGQIOeLyIa_KO_IokZDQ\">.goog-link-button{position:relative;color:#15c;text-decoration:underline;cursor:pointer}.goog-link-button-disabled{color:#ccc;text-decoration:none;cursor:default}body{color:#222;font:normal 13px/1.4 arial, sans-serif;margin:0}.grecaptcha-badge{visibility:hidden}.uc-main{padding-top:50px;text-align:center}#uc-dl-icon{display:inline-block;margin-top:16px;padding-right:1em;vertical-align:top}#uc-text{display:inline-block;max-width:68ex;text-align:left}.uc-error-caption, .uc-warning-caption{color:#222;font-size:16px}#uc-download-link{text-decoration:none}.uc-name-size a{color:#15c;text-decoration:none}.uc-name-size a:visited{color:#61c;text-decoration:none}.uc-name-size a:active{color:#d14836;text-decoration:none}.uc-footer{color:#777;font-size:11px;padding-bottom:5ex;padding-top:5ex;text-align:center}.uc-footer a{color:#15c}.uc-footer a:visited{color:#61c}.uc-footer a:active{color:#d14836}.uc-footer-divider{color:#ccc;width:100%}.goog-inline-block{position:relative;display:-moz-inline-box;display:inline-block}* html .goog-inline-block{display:inline}*:first-child+html .goog-inline-block{display:inline}sentinel{}</style><link rel=\"icon\" href=\"//ssl.gstatic.com/docs/doclist/images/drive_2022q3_32dp.png\"/></head><body><div class=\"uc-main\"><div id=\"uc-dl-icon\" class=\"image-container\"><div class=\"drive-sprite-aux-download-file\"></div></div><div id=\"uc-text\"><p class=\"uc-warning-caption\">Google Drive can't scan this file for viruses.</p><p class=\"uc-warning-subcaption\"><span class=\"uc-name-size\"><a href=\"/open?id=1CFi0Itpi_qg4X4wicg1FIg8S_FJfvCN0\">lob_agency.csv</a> (244M)</span> is too large for Google to scan for viruses. Would you still like to download this file?</p><form id=\"download-form\" action=\"https://drive.usercontent.google.com/download\" method=\"get\"><input type=\"submit\" id=\"uc-download-link\" class=\"goog-inline-block jfk-button jfk-button-action\" value=\"Download anyway\"/><input type=\"hidden\" name=\"id\" value=\"1CFi0Itpi_qg4X4wicg1FIg8S_FJfvCN0\"><input type=\"hidden\" name=\"export\" value=\"download\"><input type=\"hidden\" name=\"confirm\" value=\"t\"><input type=\"hidden\" name=\"uuid\" value=\"aaa74a55-e55f-43e2-ad5a-4b5593b8ec01\"></form></div></div><div class=\"uc-footer\"><hr class=\"uc-footer-divider\"></div></body></html>]\n",
      "Index: []\n"
     ]
    }
   ],
   "source": [
    "import pandas as pd\n",
    "\n",
    "url = \"https://drive.google.com/uc?export=download&id=1CFi0Itpi_qg4X4wicg1FIg8S_FJfvCN0\"\n",
    "df = pd.read_csv(url)\n",
    "print(df.head())"
   ]
  },
  {
   "cell_type": "code",
   "execution_count": 3,
   "metadata": {},
   "outputs": [
    {
     "name": "stdout",
     "output_type": "stream",
     "text": [
      "Defaulting to user installation because normal site-packages is not writeable\n",
      "Collecting gdown\n",
      "  Downloading gdown-5.2.0-py3-none-any.whl.metadata (5.8 kB)\n",
      "Collecting beautifulsoup4 (from gdown)\n",
      "  Downloading beautifulsoup4-4.13.3-py3-none-any.whl.metadata (3.8 kB)\n",
      "Requirement already satisfied: filelock in /Users/christianhjorth/Library/Python/3.9/lib/python/site-packages (from gdown) (3.14.0)\n",
      "Requirement already satisfied: requests[socks] in /Users/christianhjorth/Library/Python/3.9/lib/python/site-packages (from gdown) (2.31.0)\n",
      "Requirement already satisfied: tqdm in /Users/christianhjorth/Library/Python/3.9/lib/python/site-packages (from gdown) (4.66.1)\n",
      "Collecting soupsieve>1.2 (from beautifulsoup4->gdown)\n",
      "  Downloading soupsieve-2.6-py3-none-any.whl.metadata (4.6 kB)\n",
      "Requirement already satisfied: typing-extensions>=4.0.0 in /Users/christianhjorth/Library/Python/3.9/lib/python/site-packages (from beautifulsoup4->gdown) (4.9.0)\n",
      "Requirement already satisfied: charset-normalizer<4,>=2 in /Users/christianhjorth/Library/Python/3.9/lib/python/site-packages (from requests[socks]->gdown) (3.3.2)\n",
      "Requirement already satisfied: idna<4,>=2.5 in /Users/christianhjorth/Library/Python/3.9/lib/python/site-packages (from requests[socks]->gdown) (3.6)\n",
      "Requirement already satisfied: urllib3<3,>=1.21.1 in /Users/christianhjorth/Library/Python/3.9/lib/python/site-packages (from requests[socks]->gdown) (2.2.1)\n",
      "Requirement already satisfied: certifi>=2017.4.17 in /Users/christianhjorth/Library/Python/3.9/lib/python/site-packages (from requests[socks]->gdown) (2024.2.2)\n",
      "Collecting PySocks!=1.5.7,>=1.5.6 (from requests[socks]->gdown)\n",
      "  Downloading PySocks-1.7.1-py3-none-any.whl.metadata (13 kB)\n",
      "Downloading gdown-5.2.0-py3-none-any.whl (18 kB)\n",
      "Downloading beautifulsoup4-4.13.3-py3-none-any.whl (186 kB)\n",
      "\u001b[2K   \u001b[90m━━━━━━━━━━━━━━━━━━━━━━━━━━━━━━━━━━━━━━━━\u001b[0m \u001b[32m186.0/186.0 kB\u001b[0m \u001b[31m2.1 MB/s\u001b[0m eta \u001b[36m0:00:00\u001b[0m00:01\u001b[0m0:01\u001b[0m\n",
      "\u001b[?25hDownloading PySocks-1.7.1-py3-none-any.whl (16 kB)\n",
      "Downloading soupsieve-2.6-py3-none-any.whl (36 kB)\n",
      "Installing collected packages: soupsieve, PySocks, beautifulsoup4, gdown\n",
      "Successfully installed PySocks-1.7.1 beautifulsoup4-4.13.3 gdown-5.2.0 soupsieve-2.6\n",
      "\n",
      "\u001b[1m[\u001b[0m\u001b[34;49mnotice\u001b[0m\u001b[1;39;49m]\u001b[0m\u001b[39;49m A new release of pip is available: \u001b[0m\u001b[31;49m24.0\u001b[0m\u001b[39;49m -> \u001b[0m\u001b[32;49m25.0\u001b[0m\n",
      "\u001b[1m[\u001b[0m\u001b[34;49mnotice\u001b[0m\u001b[1;39;49m]\u001b[0m\u001b[39;49m To update, run: \u001b[0m\u001b[32;49m/Library/Developer/CommandLineTools/usr/bin/python3 -m pip install --upgrade pip\u001b[0m\n"
     ]
    }
   ],
   "source": [
    "!pip install gdown"
   ]
  },
  {
   "cell_type": "code",
   "execution_count": 4,
   "metadata": {},
   "outputs": [
    {
     "name": "stderr",
     "output_type": "stream",
     "text": [
      "/Users/christianhjorth/Library/Python/3.9/lib/python/site-packages/urllib3/__init__.py:35: NotOpenSSLWarning: urllib3 v2 only supports OpenSSL 1.1.1+, currently the 'ssl' module is compiled with 'LibreSSL 2.8.3'. See: https://github.com/urllib3/urllib3/issues/3020\n",
      "  warnings.warn(\n",
      "Downloading...\n",
      "From (original): https://drive.google.com/uc?export=download&id=1CFi0Itpi_qg4X4wicg1FIg8S_FJfvCN0\n",
      "From (redirected): https://drive.google.com/uc?export=download&id=1CFi0Itpi_qg4X4wicg1FIg8S_FJfvCN0&confirm=t&uuid=9994351a-24cd-4e34-a2d4-3b54d5b71d8f\n",
      "To: /Users/christianhjorth/Downloads/Lobby/lob_agency.csv\n",
      "100%|██████████| 256M/256M [00:06<00:00, 38.3MB/s] \n"
     ]
    },
    {
     "name": "stdout",
     "output_type": "stream",
     "text": [
      "   BB7367A7-7B60-4DED-AA2D-A94771A9EBE8  001  \\\n",
      "0  BB7367A7-7B60-4DED-AA2D-A94771A9EBE8    2   \n",
      "1  04366C6F-B0CE-4C28-87BF-EE1CC8A9BB41    2   \n",
      "2  04366C6F-B0CE-4C28-87BF-EE1CC8A9BB41   34   \n",
      "3  04366C6F-B0CE-4C28-87BF-EE1CC8A9BB41  134   \n",
      "4  04366C6F-B0CE-4C28-87BF-EE1CC8A9BB41  135   \n",
      "\n",
      "                                  US Senate  \n",
      "0               US House of Representatives  \n",
      "1               US House of Representatives  \n",
      "2           Dept of Health & Human Services  \n",
      "3  Centers for Disease Control & Prevention  \n",
      "4                Food & Drug Administration  \n"
     ]
    }
   ],
   "source": [
    "import gdown\n",
    "import pandas as pd\n",
    "\n",
    "# Google Drive File ID (Extract from the shared link)\n",
    "file_id = \"1CFi0Itpi_qg4X4wicg1FIg8S_FJfvCN0\"\n",
    "\n",
    "# Create the proper Google Drive URL\n",
    "url = f\"https://drive.google.com/uc?export=download&id={file_id}\"\n",
    "\n",
    "# Define the output filename\n",
    "output_file = \"lob_agency.csv\"\n",
    "\n",
    "# Use gdown to download the file\n",
    "gdown.download(url, output_file, quiet=False)\n",
    "\n",
    "# Read into Pandas\n",
    "df = pd.read_csv(output_file)\n",
    "print(df.head())"
   ]
  },
  {
   "cell_type": "code",
   "execution_count": null,
   "metadata": {},
   "outputs": [],
   "source": [
    "# file IDs\n",
    "\n",
    "lob_rpt_id = (\"1CIq7XwaFTJmnUKdAvYyh53Et2XSJRX9d\", \"lob_rpt\")\n",
    "lob_lobbyist_id = (\"1q1ZyLvUhsxsbPLdi_CmrNH0FqLoorr6p\", \"lob_lobbyist\")\n",
    "lob_lobbying_id = (\"19Jef89spXbkExNpYA-s_e8GRii-0tReu\", \"lob_lobbying\")\n",
    "lob_issue_id = (\"18-D_vW4dAHJlvFs4ARK4lgx6KdsAXWoq\", \"lob_issue\")\n",
    "lob_indus_id = (\"1yldZYLcZTLIMQ5Xa-e-ecGgQGFWv5n4A\", \"lob_indus\")\n",
    "lob_bills_id = (\"1qqQvNXtdhyI8KYcctpVUZ3FoIwvjWaG1\", \"lob_bills\")\n",
    "lob_agency_id = (\"1CFi0Itpi_qg4X4wicg1FIg8S_FJfvCN0\", \"lob_agency\")\n",
    "CatCodeReference_id = (\"1vfVA-v-lUMuykF9efl2oDN5DJK2t1PwA\", \"CatCodeReference\")\n",
    "CandidateIds_id = (\"1k2lhAcuSQbn5z7NN3USPEbX_Rg5VV_Ky\", \"CandidateIds\")"
   ]
  },
  {
   "cell_type": "code",
   "execution_count": 6,
   "metadata": {},
   "outputs": [
    {
     "name": "stderr",
     "output_type": "stream",
     "text": [
      "Downloading...\n",
      "From (original): https://drive.google.com/uc?export=download&id=1qqQvNXtdhyI8KYcctpVUZ3FoIwvjWaG1\n",
      "From (redirected): https://drive.google.com/uc?export=download&id=1qqQvNXtdhyI8KYcctpVUZ3FoIwvjWaG1&confirm=t&uuid=eaa6dd74-b003-4a12-a208-09043e5a63ff\n",
      "To: /Users/christianhjorth/Downloads/Lobby/1qqQvNXtdhyI8KYcctpVUZ3FoIwvjWaG1.csv\n",
      "100%|██████████| 219M/219M [00:06<00:00, 31.8MB/s] \n"
     ]
    },
    {
     "name": "stdout",
     "output_type": "stream",
     "text": [
      "    s1461-117  2820018    117    S.1461\n",
      "0   hr463-117  2820018  117.0   H.R.463\n",
      "1    s910-116  2820035  116.0     S.910\n",
      "2  hr2405-116  2820035  116.0  H.R.2405\n",
      "3  hr3816-117  2820067  117.0  H.R.3816\n",
      "4  hr3825-117  2820067  117.0  H.R.3825\n"
     ]
    }
   ],
   "source": [
    "import pandas as pd\n",
    "import gdown\n",
    "import os\n",
    "\n",
    "def load__csv(file_id, save_file=False, file_path=None):\n",
    "    \"\"\"\n",
    "    Downloads a large CSV file (>100MB) from Google Drive into a Pandas DataFrame.\n",
    "    \n",
    "    Parameters:\n",
    "        file_id (str): The Google Drive file ID.\n",
    "        save_file (bool): If True, the file is saved. If False, it is deleted after loading.\n",
    "        file_path (str, optional): The directory path where the file should be saved. Defaults to current directory.\n",
    "\n",
    "    Returns:\n",
    "        pd.DataFrame: The loaded Pandas DataFrame.\n",
    "    \"\"\"\n",
    "    # Set filename as the Google Drive file ID\n",
    "    temp_file = f\"{file_id}.csv\"\n",
    "    \n",
    "    # If a file path is provided, join it with the filename\n",
    "    if file_path:\n",
    "        temp_file = os.path.join(file_path, temp_file)\n",
    "\n",
    "    # Construct Google Drive download URL\n",
    "    url = f\"https://drive.google.com/uc?export=download&id={file_id}\"\n",
    "\n",
    "    # Download the file\n",
    "    gdown.download(url, temp_file, quiet=False)\n",
    "\n",
    "    # Load the CSV file into a Pandas DataFrame\n",
    "    df = pd.read_csv(temp_file)\n",
    "\n",
    "    # Remove the file if save_file is False\n",
    "    if not save_file:\n",
    "        os.remove(temp_file)\n",
    "\n",
    "    return df\n",
    "\n",
    "# Example usage:\n",
    "file_id = \"1qqQvNXtdhyI8KYcctpVUZ3FoIwvjWaG1\"  # Replace with actual file ID\n",
    "df = load__csv(file_id, save_file=False, file_path='/desired/path')  # Specify file_path if needed\n",
    "print(df.head())"
   ]
  },
  {
   "cell_type": "code",
   "execution_count": null,
   "metadata": {},
   "outputs": [],
   "source": [
    "import pandas as pd\n",
    "import gdown\n",
    "import os\n",
    "\n",
    "def load__csv(table, save_file=False, file_path=None):\n",
    "    \"\"\"\n",
    "    Downloads a large CSV file from Google Drive into a Pandas DataFrame.\n",
    "    \n",
    "    Parameters:\n",
    "        file_info (tuple): A tuple containing the Google Drive file ID and the table name.\n",
    "        save_file (bool): If True, the file is saved. If False, it is deleted after loading.\n",
    "        file_path (str, optional): The directory path where the file should be saved. Defaults to current directory.\n",
    "\n",
    "    Returns:\n",
    "        pd.DataFrame: The loaded Pandas DataFrame.\n",
    "    \"\"\"\n",
    "    file_id, table_name = table\n",
    "    \n",
    "    # Set filename as the table name\n",
    "    temp_file = f\"{table_name}.csv\"\n",
    "    \n",
    "    # If a file path is provided, join it with the filename\n",
    "    if file_path:\n",
    "        temp_file = os.path.join(file_path, temp_file)\n",
    "\n",
    "    # Construct Google Drive download URL\n",
    "    url = f\"https://drive.google.com/uc?export=download&id={file_id}\"\n",
    "\n",
    "    # Download the file\n",
    "    gdown.download(url, temp_file, quiet=False)\n",
    "\n",
    "    # Load the CSV file into a Pandas DataFrame\n",
    "    df = pd.read_csv(temp_file)\n",
    "\n",
    "    # Remove the file if save_file is False\n",
    "    if not save_file:\n",
    "        os.remove(temp_file)\n",
    "\n",
    "    return df\n",
    "\n",
    "# Example usage:\n",
    "df = load__csv(lob_rpt_id, save_file=True, file_path='/desired/path')  # Specify file_path if needed\n",
    "print(df.head())"
   ]
  }
 ],
 "metadata": {
  "kernelspec": {
   "display_name": "Python 3",
   "language": "python",
   "name": "python3"
  },
  "language_info": {
   "codemirror_mode": {
    "name": "ipython",
    "version": 3
   },
   "file_extension": ".py",
   "mimetype": "text/x-python",
   "name": "python",
   "nbconvert_exporter": "python",
   "pygments_lexer": "ipython3",
   "version": "3.9.6"
  }
 },
 "nbformat": 4,
 "nbformat_minor": 2
}
